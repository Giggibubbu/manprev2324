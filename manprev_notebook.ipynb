{
 "cells": [
  {
   "cell_type": "markdown",
   "id": "e67c5a0c",
   "metadata": {},
   "source": [
    "# Manutenzione preventiva - "
   ]
  },
  {
   "cell_type": "markdown",
   "id": "93ff88e4",
   "metadata": {},
   "source": [
    "# Manutenzione preventiva - DoS Attacks"
   ]
  },
  {
   "cell_type": "code",
   "execution_count": 1,
   "id": "1adaf332-86d4-433f-ac6e-df096b1099c2",
   "metadata": {},
   "outputs": [],
   "source": [
    "import pandas as pd\n",
    "import json as json\n",
    "import ipaddress as ip \n",
    "import numpy as np\n",
    "import functions_notebook as fn\n",
    "import costants as cs\n",
    "import warnings\n",
    "warnings.simplefilter(action='ignore', category=FutureWarning)"
   ]
  },
  {
   "cell_type": "code",
   "execution_count": 2,
   "id": "04f4814f-1092-4c2d-8dde-1b7818740e9b",
   "metadata": {},
   "outputs": [],
   "source": [
    "data_cc_30m = fn.open_convert_capture(\".\\\\captures\\\\captures1_v2\\\\clean\\\\eth2dump-clean-0,5h_1.json\")\n",
    "data_cc_1h = fn.open_convert_capture(\".\\\\captures\\\\captures1_v2\\\\clean\\\\eth2dump-clean-1h_1.json\")\n",
    "\n",
    "data_pf_att_1m_30m_1 = fn.open_convert_capture(\".\\\\captures\\\\captures1_v2\\\\pingFloodDDoS\\\\eth2dump-pingFloodDDoS1m-0,5h_1.json\")\n",
    "data_pf_att_1m_30m_2 = fn.open_convert_capture(\".\\\\captures\\\\captures2\\\\pingFloodDDoS\\\\eth2dump-pingFloodDDoS1m-0,5h_1.json\")\n",
    "data_pf_att_1m_30m_3 = fn.open_convert_capture(\".\\\\captures\\\\captures3\\\\pingFloodDDoS\\\\eth2dump-pingFloodDDoS1m-0,5h_1.json\")"
   ]
  },
  {
   "cell_type": "code",
   "execution_count": 3,
   "id": "44fe3a0b",
   "metadata": {},
   "outputs": [],
   "source": [
    "pv_cc_30m = fn.create_array_values(data_cc_30m)\n",
    "pv_cc_1h = fn.create_array_values(data_cc_1h)\n",
    "\n",
    "pv_pf_att_1m_30m_1 = fn.create_array_values(data_pf_att_1m_30m_1)\n",
    "pv_pf_att_1m_30m_2 = fn.create_array_values(data_pf_att_1m_30m_2)\n",
    "pv_pf_att_1m_30m_3 = fn.create_array_values(data_pf_att_1m_30m_3)"
   ]
  },
  {
   "cell_type": "code",
   "execution_count": 4,
   "id": "d88602a9",
   "metadata": {},
   "outputs": [],
   "source": [
    "# Costruzione dataframe\n",
    "# Conversione colonna timestamp a float\n",
    "# Inserimento colonna inter packet arrival time\n",
    "# Cattura clean 30m\n",
    "df_cc_30m = pd.DataFrame(data=pv_cc_30m, columns=cs.df_columns)\n",
    "df_cc_30m['frame.time_epoch'] = df_cc_30m['frame.time_epoch'].astype('float')\n",
    "df_cc_30m[cs.ipat_field_name] = df_cc_30m['frame.time_epoch'].diff()\n",
    "\n",
    "# Cattura clean 1h\n",
    "df_cc_1h = pd.DataFrame(data=pv_cc_1h, columns=cs.df_columns)\n",
    "df_cc_1h['frame.time_epoch'] = df_cc_1h['frame.time_epoch'].astype('float')\n",
    "df_cc_1h[cs.ipat_field_name] = df_cc_1h['frame.time_epoch'].diff()\n",
    "\n",
    "# Catture pf att 1m 30m\n",
    "df1_pfatt_1m_30m_1 = pd.DataFrame(pv_pf_att_1m_30m_1, columns=cs.df_columns)\n",
    "df2_pfatt_1m_30m_2 = pd.DataFrame(pv_pf_att_1m_30m_2, columns=cs.df_columns)\n",
    "df3_pfatt_1m_30m_3 = pd.DataFrame(pv_pf_att_1m_30m_3, columns=cs.df_columns)\n",
    "\n",
    "# Concatenazione per righe\n",
    "df_pfatt_1m_30m = pd.concat([df1_pfatt_1m_30m_1, df2_pfatt_1m_30m_2, df3_pfatt_1m_30m_3], ignore_index=True)"
   ]
  },
  {
   "cell_type": "code",
   "execution_count": 5,
   "id": "a5a038ca",
   "metadata": {},
   "outputs": [],
   "source": [
    "df_cc_30m = fn.clean_df(df_cc_30m)\n",
    "df_cc_1h = fn.clean_df(df_cc_1h)\n",
    "df_pfatt_1m_30m = fn.clean_df(df_pfatt_1m_30m)"
   ]
  },
  {
   "cell_type": "code",
   "execution_count": 6,
   "id": "8866c482",
   "metadata": {},
   "outputs": [
    {
     "data": {
      "text/plain": [
       "0           553850065211\n",
       "1         79556642095225\n",
       "2         79556642095225\n",
       "3           553850065211\n",
       "4         79556642095225\n",
       "               ...      \n",
       "124230       52237803166\n",
       "124231      553850065211\n",
       "124232      553850065211\n",
       "124233       52237803166\n",
       "124234      553850065211\n",
       "Name: eth.dst_int, Length: 124235, dtype: int64"
      ]
     },
     "execution_count": 6,
     "metadata": {},
     "output_type": "execute_result"
    }
   ],
   "source": [
    "df_pfatt_1m_30m[\"eth.dst_int\"]"
   ]
  }
 ],
 "metadata": {
  "kernelspec": {
   "display_name": ".venv",
   "language": "python",
   "name": "python3"
  },
  "language_info": {
   "codemirror_mode": {
    "name": "ipython",
    "version": 3
   },
   "file_extension": ".py",
   "mimetype": "text/x-python",
   "name": "python",
   "nbconvert_exporter": "python",
   "pygments_lexer": "ipython3",
   "version": "3.12.4"
  }
 },
 "nbformat": 4,
 "nbformat_minor": 5
}
