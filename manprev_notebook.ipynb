{
 "cells": [
  {
   "cell_type": "markdown",
   "id": "e67c5a0c",
   "metadata": {},
   "source": [
    "# Manutenzione preventiva - "
   ]
  },
  {
   "cell_type": "markdown",
   "id": "93ff88e4",
   "metadata": {},
   "source": [
    "# Manutenzione preventiva - DoS Attacks"
   ]
  },
  {
   "cell_type": "code",
   "execution_count": 21,
   "id": "1adaf332-86d4-433f-ac6e-df096b1099c2",
   "metadata": {},
   "outputs": [],
   "source": [
    "import pandas as pd\n",
    "import json as json\n",
    "import numpy as np"
   ]
  },
  {
   "cell_type": "code",
   "execution_count": 22,
   "id": "04f4814f-1092-4c2d-8dde-1b7818740e9b",
   "metadata": {},
   "outputs": [
    {
     "ename": "FileNotFoundError",
     "evalue": "[Errno 2] No such file or directory: '.\\\\captures_json\\\\captures1_v2\\\\clean\\\\eth2dump-clean-0,5h_1.json'",
     "output_type": "error",
     "traceback": [
      "\u001b[1;31m---------------------------------------------------------------------------\u001b[0m",
      "\u001b[1;31mFileNotFoundError\u001b[0m                         Traceback (most recent call last)",
      "Cell \u001b[1;32mIn[22], line 1\u001b[0m\n\u001b[1;32m----> 1\u001b[0m clean_cap_30m \u001b[38;5;241m=\u001b[39m \u001b[38;5;28;43mopen\u001b[39;49m\u001b[43m(\u001b[49m\u001b[38;5;124;43m'\u001b[39;49m\u001b[38;5;124;43m.\u001b[39;49m\u001b[38;5;130;43;01m\\\\\u001b[39;49;00m\u001b[38;5;124;43mcaptures_json\u001b[39;49m\u001b[38;5;130;43;01m\\\\\u001b[39;49;00m\u001b[38;5;124;43mcaptures1_v2\u001b[39;49m\u001b[38;5;130;43;01m\\\\\u001b[39;49;00m\u001b[38;5;124;43mclean\u001b[39;49m\u001b[38;5;130;43;01m\\\\\u001b[39;49;00m\u001b[38;5;124;43meth2dump-clean-0,5h_1.json\u001b[39;49m\u001b[38;5;124;43m'\u001b[39;49m\u001b[43m)\u001b[49m\n\u001b[0;32m      2\u001b[0m clean_cap_1h \u001b[38;5;241m=\u001b[39m \u001b[38;5;28mopen\u001b[39m(\u001b[38;5;124m'\u001b[39m\u001b[38;5;124m.\u001b[39m\u001b[38;5;130;01m\\\\\u001b[39;00m\u001b[38;5;124mcaptures_json\u001b[39m\u001b[38;5;130;01m\\\\\u001b[39;00m\u001b[38;5;124mcaptures1_v2\u001b[39m\u001b[38;5;130;01m\\\\\u001b[39;00m\u001b[38;5;124mclean\u001b[39m\u001b[38;5;130;01m\\\\\u001b[39;00m\u001b[38;5;124meth2dump-clean-1h_1.json\u001b[39m\u001b[38;5;124m'\u001b[39m)\n\u001b[0;32m      3\u001b[0m data_cc_30m \u001b[38;5;241m=\u001b[39m json\u001b[38;5;241m.\u001b[39mload(clean_cap_30m)\n",
      "File \u001b[1;32mc:\\Users\\olivi\\Desktop\\Manutenzione preventiva\\Manutenzione preventiva - Progetto\\manprev2324\\.venv\\Lib\\site-packages\\IPython\\core\\interactiveshell.py:324\u001b[0m, in \u001b[0;36m_modified_open\u001b[1;34m(file, *args, **kwargs)\u001b[0m\n\u001b[0;32m    317\u001b[0m \u001b[38;5;28;01mif\u001b[39;00m file \u001b[38;5;129;01min\u001b[39;00m {\u001b[38;5;241m0\u001b[39m, \u001b[38;5;241m1\u001b[39m, \u001b[38;5;241m2\u001b[39m}:\n\u001b[0;32m    318\u001b[0m     \u001b[38;5;28;01mraise\u001b[39;00m \u001b[38;5;167;01mValueError\u001b[39;00m(\n\u001b[0;32m    319\u001b[0m         \u001b[38;5;124mf\u001b[39m\u001b[38;5;124m\"\u001b[39m\u001b[38;5;124mIPython won\u001b[39m\u001b[38;5;124m'\u001b[39m\u001b[38;5;124mt let you open fd=\u001b[39m\u001b[38;5;132;01m{\u001b[39;00mfile\u001b[38;5;132;01m}\u001b[39;00m\u001b[38;5;124m by default \u001b[39m\u001b[38;5;124m\"\u001b[39m\n\u001b[0;32m    320\u001b[0m         \u001b[38;5;124m\"\u001b[39m\u001b[38;5;124mas it is likely to crash IPython. If you know what you are doing, \u001b[39m\u001b[38;5;124m\"\u001b[39m\n\u001b[0;32m    321\u001b[0m         \u001b[38;5;124m\"\u001b[39m\u001b[38;5;124myou can use builtins\u001b[39m\u001b[38;5;124m'\u001b[39m\u001b[38;5;124m open.\u001b[39m\u001b[38;5;124m\"\u001b[39m\n\u001b[0;32m    322\u001b[0m     )\n\u001b[1;32m--> 324\u001b[0m \u001b[38;5;28;01mreturn\u001b[39;00m \u001b[43mio_open\u001b[49m\u001b[43m(\u001b[49m\u001b[43mfile\u001b[49m\u001b[43m,\u001b[49m\u001b[43m \u001b[49m\u001b[38;5;241;43m*\u001b[39;49m\u001b[43margs\u001b[49m\u001b[43m,\u001b[49m\u001b[43m \u001b[49m\u001b[38;5;241;43m*\u001b[39;49m\u001b[38;5;241;43m*\u001b[39;49m\u001b[43mkwargs\u001b[49m\u001b[43m)\u001b[49m\n",
      "\u001b[1;31mFileNotFoundError\u001b[0m: [Errno 2] No such file or directory: '.\\\\captures_json\\\\captures1_v2\\\\clean\\\\eth2dump-clean-0,5h_1.json'"
     ]
    }
   ],
   "source": [
    "clean_cap_30m = open('.\\\\captures\\\\captures1_v2\\\\clean\\\\eth2dump-clean-0,5h_1.json')\n",
    "clean_cap_1h = open('.\\\\captures\\\\captures1_v2\\\\clean\\\\eth2dump-clean-1h_1.json')\n",
    "data_cc_30m = json.load(clean_cap_30m)\n",
    "data_cc_1h = json.load(clean_cap_1h)\n",
    "clean_cap_30m.close()\n",
    "clean_cap_1h.close()"
   ]
  },
  {
   "cell_type": "code",
   "execution_count": null,
   "id": "65f22c92",
   "metadata": {},
   "outputs": [],
   "source": [
    "interesting_layers = [\"eth\", \"arp\", \"icmp\", \"ip\", \"tcp\", \"udp\", \"mbtcp\"]\n",
    "timestamp_field_name = 'frame.time_epoch'\n",
    "ipat_field_name = 'inter.packet_arrival_time'\n",
    "eth_fields = ['eth.dst', 'eth.src', 'eth.type', 'eth.len']\n",
    "arp_fields = ['arp.hw_type', 'arp.proto_type', 'arp.hw_size', 'arp.proto_size']\n",
    "icmp_fields = ['icmp.type', 'icmp.code', 'icmp.checksum', 'icmp.checksum_status']\n",
    "ip_fields = ['ip.version', 'ip.hdr_len', 'ip.dsfield', 'ip.dsfield_dscp', 'ip.dsfield_ecn',\n",
    "             'ip.len', 'ip.id', 'ip.flags', 'ip.flags_rb', 'ip.flags_df', 'ip.flags_mf',\n",
    "             'ip.frag_offset', 'ip.ttl', 'ip.proto', 'ip.checksum', 'ip.checksum_status', 'ip.src', 'ip.dst']\n",
    "tcp_fields = ['tcp.srcport', 'tcp.dstport', 'tcp.stream', 'tcp.len', 'tcp.seq', 'tcp.nxtseq', 'tcp.ack',\n",
    "              'tcp.hdr_len', 'tcp.flags', 'tcp.flags_res', 'tcp.flags_ae', 'tcp.flags_cwr', 'tcp.flags_ece',\n",
    "              'tcp.flags_urg', 'tcp.flags_ack', 'tcp.flags_push', 'tcp.flags_reset', 'tcp.flags_syn', 'tcp.flags_fin',\n",
    "              'tcp.flags_str', 'tcp.window_size_value', 'tcp.window_size', 'tcp.window_size_scalefactor', 'tcp.checksum',\n",
    "              'tcp.checksum_status', 'tcp.urgent_pointer']\n",
    "udp_fields = ['udp.srcport', 'udp.dstport', 'udp.port', 'udp.length', 'udp.checksum', 'udp.checksum_status']\n",
    "mbtcp_fields = ['mbtcp.trans_id', 'mbtcp.prot_id', 'mbtcp.len', 'mbtcp.unit_id']\n",
    "interesting_layer_fields = [eth_fields, arp_fields, icmp_fields, ip_fields, tcp_fields, udp_fields, mbtcp_fields]\n",
    "df_columns = [timestamp_field_name] + eth_fields + arp_fields + icmp_fields + ip_fields + tcp_fields + udp_fields + mbtcp_fields\n",
    "packets_values = []"
   ]
  },
  {
   "cell_type": "code",
   "execution_count": null,
   "id": "44fe3a0b",
   "metadata": {},
   "outputs": [],
   "source": [
    "counter = 0\n",
    "for packet in data_cc_30m:\n",
    "    tmp_pkt = []\n",
    "\n",
    "    tmp_pkt.append(packet['_source']['layers']['frame']['frame.time_epoch'])\n",
    "    \n",
    "    for i in range(len(interesting_layers)):\n",
    "        if interesting_layers[i] in packet['_source']['layers']:\n",
    "            for field in interesting_layer_fields[i]:\n",
    "                if field in packet['_source']['layers'][interesting_layers[i]]:\n",
    "                    tmp_pkt.append(packet['_source']['layers'][interesting_layers[i]][field])\n",
    "                else:\n",
    "                    tmp_pkt.append(np.nan)\n",
    "        else:\n",
    "            for field in interesting_layer_fields[i]:\n",
    "                tmp_pkt.append(np.nan)\n",
    "    packets_values.append(tmp_pkt)\n",
    "\n",
    "print(len(packets_values[1]))\n",
    "print(len(packets_values))\n",
    "      "
   ]
  },
  {
   "cell_type": "code",
   "execution_count": null,
   "id": "d88602a9",
   "metadata": {},
   "outputs": [],
   "source": [
    "df_clean_30m = pd.DataFrame(data=packets_values, columns=df_columns)\n",
    "df_clean_30m.head()"
   ]
  }
 ],
 "metadata": {
  "kernelspec": {
   "display_name": ".venv",
   "language": "python",
   "name": "python3"
  },
  "language_info": {
   "codemirror_mode": {
    "name": "ipython",
    "version": 3
   },
   "file_extension": ".py",
   "mimetype": "text/x-python",
   "name": "python",
   "nbconvert_exporter": "python",
   "pygments_lexer": "ipython3",
   "version": "3.12.4"
  }
 },
 "nbformat": 4,
 "nbformat_minor": 5
}
