{
 "cells": [
  {
   "cell_type": "markdown",
   "id": "e67c5a0c",
   "metadata": {},
   "source": [
    "# Manutenzione preventiva - "
   ]
  },
  {
   "cell_type": "markdown",
   "id": "93ff88e4",
   "metadata": {},
   "source": [
    "# Manutenzione preventiva - DoS Attacks"
   ]
  },
  {
   "cell_type": "code",
   "execution_count": 42,
   "id": "1adaf332-86d4-433f-ac6e-df096b1099c2",
   "metadata": {},
   "outputs": [],
   "source": [
    "import pandas as pd\n",
    "import json as json\n",
    "import ipaddress as ip \n",
    "import numpy as np\n",
    "import functions_notebook as fn\n",
    "import costants as cs\n",
    "import warnings\n",
    "warnings.simplefilter(action='ignore', category=FutureWarning)"
   ]
  },
  {
   "cell_type": "code",
   "execution_count": 5,
   "id": "04f4814f-1092-4c2d-8dde-1b7818740e9b",
   "metadata": {},
   "outputs": [],
   "source": [
    "data_cc_30m = fn.open_convert_capture(\".\\\\captures\\\\captures1_v2\\\\clean\\\\eth2dump-clean-0,5h_1.json\")\n",
    "data_cc_1h = fn.open_convert_capture(\".\\\\captures\\\\captures1_v2\\\\clean\\\\eth2dump-clean-1h_1.json\")\n",
    "\n",
    "data_pf_att_1m_30m_1 = fn.open_convert_capture(\".\\\\captures\\\\captures1_v2\\\\pingFloodDDoS\\\\eth2dump-pingFloodDDoS1m-0,5h_1.json\")\n",
    "data_pf_att_1m_30m_2 = fn.open_convert_capture(\".\\\\captures\\\\captures1_v2\\\\pingFloodDDoS\\\\eth2dump-pingFloodDDoS1m-0,5h_1.json\")\n",
    "data_pf_att_1m_30m_3 = fn.open_convert_capture(\".\\\\captures\\\\captures1_v2\\\\pingFloodDDoS\\\\eth2dump-pingFloodDDoS1m-0,5h_1.json\")"
   ]
  },
  {
   "cell_type": "code",
   "execution_count": 24,
   "id": "44fe3a0b",
   "metadata": {},
   "outputs": [],
   "source": [
    "pv_cc_30m = fn.create_array_values(data_cc_30m)\n",
    "pv_cc_1h = fn.create_array_values(data_cc_1h)\n",
    "\n",
    "pv_pf_att_1m_30m_1 = fn.create_array_values(data_pf_att_1m_30m_1)\n",
    "pv_pf_att_1m_30m_2 = fn.create_array_values(data_pf_att_1m_30m_2)\n",
    "pv_pf_att_1m_30m_3 = fn.create_array_values(data_pf_att_1m_30m_3)"
   ]
  },
  {
   "cell_type": "code",
   "execution_count": 48,
   "id": "86b69baa",
   "metadata": {},
   "outputs": [
    {
     "name": "stdout",
     "output_type": "stream",
     "text": [
      "57\n"
     ]
    }
   ],
   "source": [
    "print(len(cs.df_columns))"
   ]
  },
  {
   "cell_type": "code",
   "execution_count": 14,
   "id": "d88602a9",
   "metadata": {},
   "outputs": [
    {
     "ename": "ValueError",
     "evalue": "63 columns passed, passed data had 69 columns",
     "output_type": "error",
     "traceback": [
      "\u001b[1;31m---------------------------------------------------------------------------\u001b[0m",
      "\u001b[1;31mAssertionError\u001b[0m                            Traceback (most recent call last)",
      "File \u001b[1;32m~\\AppData\\Local\\Packages\\PythonSoftwareFoundation.Python.3.12_qbz5n2kfra8p0\\LocalCache\\local-packages\\Python312\\site-packages\\pandas\\core\\internals\\construction.py:939\u001b[0m, in \u001b[0;36m_finalize_columns_and_data\u001b[1;34m(content, columns, dtype)\u001b[0m\n\u001b[0;32m    938\u001b[0m \u001b[38;5;28;01mtry\u001b[39;00m:\n\u001b[1;32m--> 939\u001b[0m     columns \u001b[38;5;241m=\u001b[39m \u001b[43m_validate_or_indexify_columns\u001b[49m\u001b[43m(\u001b[49m\u001b[43mcontents\u001b[49m\u001b[43m,\u001b[49m\u001b[43m \u001b[49m\u001b[43mcolumns\u001b[49m\u001b[43m)\u001b[49m\n\u001b[0;32m    940\u001b[0m \u001b[38;5;28;01mexcept\u001b[39;00m \u001b[38;5;167;01mAssertionError\u001b[39;00m \u001b[38;5;28;01mas\u001b[39;00m err:\n\u001b[0;32m    941\u001b[0m     \u001b[38;5;66;03m# GH#26429 do not raise user-facing AssertionError\u001b[39;00m\n",
      "File \u001b[1;32m~\\AppData\\Local\\Packages\\PythonSoftwareFoundation.Python.3.12_qbz5n2kfra8p0\\LocalCache\\local-packages\\Python312\\site-packages\\pandas\\core\\internals\\construction.py:986\u001b[0m, in \u001b[0;36m_validate_or_indexify_columns\u001b[1;34m(content, columns)\u001b[0m\n\u001b[0;32m    984\u001b[0m \u001b[38;5;28;01mif\u001b[39;00m \u001b[38;5;129;01mnot\u001b[39;00m is_mi_list \u001b[38;5;129;01mand\u001b[39;00m \u001b[38;5;28mlen\u001b[39m(columns) \u001b[38;5;241m!=\u001b[39m \u001b[38;5;28mlen\u001b[39m(content):  \u001b[38;5;66;03m# pragma: no cover\u001b[39;00m\n\u001b[0;32m    985\u001b[0m     \u001b[38;5;66;03m# caller's responsibility to check for this...\u001b[39;00m\n\u001b[1;32m--> 986\u001b[0m     \u001b[38;5;28;01mraise\u001b[39;00m \u001b[38;5;167;01mAssertionError\u001b[39;00m(\n\u001b[0;32m    987\u001b[0m         \u001b[38;5;124mf\u001b[39m\u001b[38;5;124m\"\u001b[39m\u001b[38;5;132;01m{\u001b[39;00m\u001b[38;5;28mlen\u001b[39m(columns)\u001b[38;5;132;01m}\u001b[39;00m\u001b[38;5;124m columns passed, passed data had \u001b[39m\u001b[38;5;124m\"\u001b[39m\n\u001b[0;32m    988\u001b[0m         \u001b[38;5;124mf\u001b[39m\u001b[38;5;124m\"\u001b[39m\u001b[38;5;132;01m{\u001b[39;00m\u001b[38;5;28mlen\u001b[39m(content)\u001b[38;5;132;01m}\u001b[39;00m\u001b[38;5;124m columns\u001b[39m\u001b[38;5;124m\"\u001b[39m\n\u001b[0;32m    989\u001b[0m     )\n\u001b[0;32m    990\u001b[0m \u001b[38;5;28;01mif\u001b[39;00m is_mi_list:\n\u001b[0;32m    991\u001b[0m     \u001b[38;5;66;03m# check if nested list column, length of each sub-list should be equal\u001b[39;00m\n",
      "\u001b[1;31mAssertionError\u001b[0m: 63 columns passed, passed data had 69 columns",
      "\nThe above exception was the direct cause of the following exception:\n",
      "\u001b[1;31mValueError\u001b[0m                                Traceback (most recent call last)",
      "Cell \u001b[1;32mIn[14], line 5\u001b[0m\n\u001b[0;32m      1\u001b[0m \u001b[38;5;66;03m# Costruzione dataframe\u001b[39;00m\n\u001b[0;32m      2\u001b[0m \u001b[38;5;66;03m# Conversione colonna timestamp a float\u001b[39;00m\n\u001b[0;32m      3\u001b[0m \u001b[38;5;66;03m# Inserimento colonna inter packet arrival time\u001b[39;00m\n\u001b[0;32m      4\u001b[0m \u001b[38;5;66;03m# Cattura clean 30m\u001b[39;00m\n\u001b[1;32m----> 5\u001b[0m df_cc_30m \u001b[38;5;241m=\u001b[39m \u001b[43mpd\u001b[49m\u001b[38;5;241;43m.\u001b[39;49m\u001b[43mDataFrame\u001b[49m\u001b[43m(\u001b[49m\u001b[43mdata\u001b[49m\u001b[38;5;241;43m=\u001b[39;49m\u001b[43mpv_cc_30m\u001b[49m\u001b[43m,\u001b[49m\u001b[43m \u001b[49m\u001b[43mcolumns\u001b[49m\u001b[38;5;241;43m=\u001b[39;49m\u001b[43mcs\u001b[49m\u001b[38;5;241;43m.\u001b[39;49m\u001b[43mdf_columns\u001b[49m\u001b[43m)\u001b[49m\n\u001b[0;32m      6\u001b[0m df_cc_30m[\u001b[38;5;124m'\u001b[39m\u001b[38;5;124mframe.time_epoch\u001b[39m\u001b[38;5;124m'\u001b[39m] \u001b[38;5;241m=\u001b[39m df_cc_30m[\u001b[38;5;124m'\u001b[39m\u001b[38;5;124mframe.time_epoch\u001b[39m\u001b[38;5;124m'\u001b[39m]\u001b[38;5;241m.\u001b[39mastype(\u001b[38;5;124m'\u001b[39m\u001b[38;5;124mfloat\u001b[39m\u001b[38;5;124m'\u001b[39m)\n\u001b[0;32m      7\u001b[0m df_cc_30m[cs\u001b[38;5;241m.\u001b[39mipat_field_name] \u001b[38;5;241m=\u001b[39m df_cc_30m[\u001b[38;5;124m'\u001b[39m\u001b[38;5;124mframe.time_epoch\u001b[39m\u001b[38;5;124m'\u001b[39m]\u001b[38;5;241m.\u001b[39mdiff()\n",
      "File \u001b[1;32m~\\AppData\\Local\\Packages\\PythonSoftwareFoundation.Python.3.12_qbz5n2kfra8p0\\LocalCache\\local-packages\\Python312\\site-packages\\pandas\\core\\frame.py:840\u001b[0m, in \u001b[0;36mDataFrame.__init__\u001b[1;34m(self, data, index, columns, dtype, copy)\u001b[0m\n\u001b[0;32m    838\u001b[0m     \u001b[38;5;28;01mif\u001b[39;00m columns \u001b[38;5;129;01mis\u001b[39;00m \u001b[38;5;129;01mnot\u001b[39;00m \u001b[38;5;28;01mNone\u001b[39;00m:\n\u001b[0;32m    839\u001b[0m         columns \u001b[38;5;241m=\u001b[39m ensure_index(columns)\n\u001b[1;32m--> 840\u001b[0m     arrays, columns, index \u001b[38;5;241m=\u001b[39m \u001b[43mnested_data_to_arrays\u001b[49m\u001b[43m(\u001b[49m\n\u001b[0;32m    841\u001b[0m \u001b[43m        \u001b[49m\u001b[38;5;66;43;03m# error: Argument 3 to \"nested_data_to_arrays\" has incompatible\u001b[39;49;00m\n\u001b[0;32m    842\u001b[0m \u001b[43m        \u001b[49m\u001b[38;5;66;43;03m# type \"Optional[Collection[Any]]\"; expected \"Optional[Index]\"\u001b[39;49;00m\n\u001b[0;32m    843\u001b[0m \u001b[43m        \u001b[49m\u001b[43mdata\u001b[49m\u001b[43m,\u001b[49m\n\u001b[0;32m    844\u001b[0m \u001b[43m        \u001b[49m\u001b[43mcolumns\u001b[49m\u001b[43m,\u001b[49m\n\u001b[0;32m    845\u001b[0m \u001b[43m        \u001b[49m\u001b[43mindex\u001b[49m\u001b[43m,\u001b[49m\u001b[43m  \u001b[49m\u001b[38;5;66;43;03m# type: ignore[arg-type]\u001b[39;49;00m\n\u001b[0;32m    846\u001b[0m \u001b[43m        \u001b[49m\u001b[43mdtype\u001b[49m\u001b[43m,\u001b[49m\n\u001b[0;32m    847\u001b[0m \u001b[43m    \u001b[49m\u001b[43m)\u001b[49m\n\u001b[0;32m    848\u001b[0m     mgr \u001b[38;5;241m=\u001b[39m arrays_to_mgr(\n\u001b[0;32m    849\u001b[0m         arrays,\n\u001b[0;32m    850\u001b[0m         columns,\n\u001b[1;32m   (...)\u001b[0m\n\u001b[0;32m    853\u001b[0m         typ\u001b[38;5;241m=\u001b[39mmanager,\n\u001b[0;32m    854\u001b[0m     )\n\u001b[0;32m    855\u001b[0m \u001b[38;5;28;01melse\u001b[39;00m:\n",
      "File \u001b[1;32m~\\AppData\\Local\\Packages\\PythonSoftwareFoundation.Python.3.12_qbz5n2kfra8p0\\LocalCache\\local-packages\\Python312\\site-packages\\pandas\\core\\internals\\construction.py:520\u001b[0m, in \u001b[0;36mnested_data_to_arrays\u001b[1;34m(data, columns, index, dtype)\u001b[0m\n\u001b[0;32m    517\u001b[0m \u001b[38;5;28;01mif\u001b[39;00m is_named_tuple(data[\u001b[38;5;241m0\u001b[39m]) \u001b[38;5;129;01mand\u001b[39;00m columns \u001b[38;5;129;01mis\u001b[39;00m \u001b[38;5;28;01mNone\u001b[39;00m:\n\u001b[0;32m    518\u001b[0m     columns \u001b[38;5;241m=\u001b[39m ensure_index(data[\u001b[38;5;241m0\u001b[39m]\u001b[38;5;241m.\u001b[39m_fields)\n\u001b[1;32m--> 520\u001b[0m arrays, columns \u001b[38;5;241m=\u001b[39m \u001b[43mto_arrays\u001b[49m\u001b[43m(\u001b[49m\u001b[43mdata\u001b[49m\u001b[43m,\u001b[49m\u001b[43m \u001b[49m\u001b[43mcolumns\u001b[49m\u001b[43m,\u001b[49m\u001b[43m \u001b[49m\u001b[43mdtype\u001b[49m\u001b[38;5;241;43m=\u001b[39;49m\u001b[43mdtype\u001b[49m\u001b[43m)\u001b[49m\n\u001b[0;32m    521\u001b[0m columns \u001b[38;5;241m=\u001b[39m ensure_index(columns)\n\u001b[0;32m    523\u001b[0m \u001b[38;5;28;01mif\u001b[39;00m index \u001b[38;5;129;01mis\u001b[39;00m \u001b[38;5;28;01mNone\u001b[39;00m:\n",
      "File \u001b[1;32m~\\AppData\\Local\\Packages\\PythonSoftwareFoundation.Python.3.12_qbz5n2kfra8p0\\LocalCache\\local-packages\\Python312\\site-packages\\pandas\\core\\internals\\construction.py:845\u001b[0m, in \u001b[0;36mto_arrays\u001b[1;34m(data, columns, dtype)\u001b[0m\n\u001b[0;32m    842\u001b[0m     data \u001b[38;5;241m=\u001b[39m [\u001b[38;5;28mtuple\u001b[39m(x) \u001b[38;5;28;01mfor\u001b[39;00m x \u001b[38;5;129;01min\u001b[39;00m data]\n\u001b[0;32m    843\u001b[0m     arr \u001b[38;5;241m=\u001b[39m _list_to_arrays(data)\n\u001b[1;32m--> 845\u001b[0m content, columns \u001b[38;5;241m=\u001b[39m \u001b[43m_finalize_columns_and_data\u001b[49m\u001b[43m(\u001b[49m\u001b[43marr\u001b[49m\u001b[43m,\u001b[49m\u001b[43m \u001b[49m\u001b[43mcolumns\u001b[49m\u001b[43m,\u001b[49m\u001b[43m \u001b[49m\u001b[43mdtype\u001b[49m\u001b[43m)\u001b[49m\n\u001b[0;32m    846\u001b[0m \u001b[38;5;28;01mreturn\u001b[39;00m content, columns\n",
      "File \u001b[1;32m~\\AppData\\Local\\Packages\\PythonSoftwareFoundation.Python.3.12_qbz5n2kfra8p0\\LocalCache\\local-packages\\Python312\\site-packages\\pandas\\core\\internals\\construction.py:942\u001b[0m, in \u001b[0;36m_finalize_columns_and_data\u001b[1;34m(content, columns, dtype)\u001b[0m\n\u001b[0;32m    939\u001b[0m     columns \u001b[38;5;241m=\u001b[39m _validate_or_indexify_columns(contents, columns)\n\u001b[0;32m    940\u001b[0m \u001b[38;5;28;01mexcept\u001b[39;00m \u001b[38;5;167;01mAssertionError\u001b[39;00m \u001b[38;5;28;01mas\u001b[39;00m err:\n\u001b[0;32m    941\u001b[0m     \u001b[38;5;66;03m# GH#26429 do not raise user-facing AssertionError\u001b[39;00m\n\u001b[1;32m--> 942\u001b[0m     \u001b[38;5;28;01mraise\u001b[39;00m \u001b[38;5;167;01mValueError\u001b[39;00m(err) \u001b[38;5;28;01mfrom\u001b[39;00m \u001b[38;5;21;01merr\u001b[39;00m\n\u001b[0;32m    944\u001b[0m \u001b[38;5;28;01mif\u001b[39;00m \u001b[38;5;28mlen\u001b[39m(contents) \u001b[38;5;129;01mand\u001b[39;00m contents[\u001b[38;5;241m0\u001b[39m]\u001b[38;5;241m.\u001b[39mdtype \u001b[38;5;241m==\u001b[39m np\u001b[38;5;241m.\u001b[39mobject_:\n\u001b[0;32m    945\u001b[0m     contents \u001b[38;5;241m=\u001b[39m convert_object_array(contents, dtype\u001b[38;5;241m=\u001b[39mdtype)\n",
      "\u001b[1;31mValueError\u001b[0m: 63 columns passed, passed data had 69 columns"
     ]
    }
   ],
   "source": [
    "# Costruzione dataframe\n",
    "# Conversione colonna timestamp a float\n",
    "# Inserimento colonna inter packet arrival time\n",
    "# Cattura clean 30m\n",
    "df_cc_30m = pd.DataFrame(data=pv_cc_30m, columns=cs.df_columns)\n",
    "df_cc_30m['frame.time_epoch'] = df_cc_30m['frame.time_epoch'].astype('float')\n",
    "df_cc_30m[cs.ipat_field_name] = df_cc_30m['frame.time_epoch'].diff()\n",
    "\n",
    "# Cattura clean 1h\n",
    "df_cc_1h = pd.DataFrame(data=pv_cc_1h, columns=cs.df_columns)\n",
    "df_cc_1h['frame.time_epoch'] = df_cc_1h['frame.time_epoch'].astype('float')\n",
    "df_cc_1h[cs.ipat_field_name] = df_cc_1h['frame.time_epoch'].diff()\n",
    "\n",
    "# Catture pf att 1m 30m\n",
    "df1_pfatt_1m_30m_1 = pd.DataFrame(pv_pf_att_1m_30m_1, columns=cs.df_columns)\n",
    "df2_pfatt_1m_30m_2 = pd.DataFrame(pv_pf_att_1m_30m_2, columns=cs.df_columns)\n",
    "df3_pfatt_1m_30m_3 = pd.DataFrame(pv_pf_att_1m_30m_3, columns=cs.df_columns)\n",
    "\n",
    "# Concatenazione per righe\n",
    "df_pfatt_1m_30m = pd.concat([df1_pfatt_1m_30m_1, df2_pfatt_1m_30m_2, df3_pfatt_1m_30m_3], ignore_index=True)"
   ]
  },
  {
   "cell_type": "code",
   "execution_count": 37,
   "id": "a5a038ca",
   "metadata": {},
   "outputs": [],
   "source": [
    "df_cc_30m = fn.clean_df(df_cc_30m)\n",
    "df_cc_1h = fn.clean_df(df_cc_1h)\n",
    "df_pfatt_1m_30m = fn.clean_df(df_pfatt_1m_30m)"
   ]
  },
  {
   "cell_type": "code",
   "execution_count": 38,
   "id": "8866c482",
   "metadata": {},
   "outputs": [
    {
     "name": "stdout",
     "output_type": "stream",
     "text": [
      "       frame.time_epoch  eth.type  eth.len arp.hw.type arp.proto.type  \\\n",
      "0  1526898582.556747000    2048.0      NaN         NaN            NaN   \n",
      "1  1526898582.566616000    2048.0      NaN         NaN            NaN   \n",
      "2  1526898582.567459000    2048.0      NaN         NaN            NaN   \n",
      "3  1526898582.567478000    2048.0      NaN         NaN            NaN   \n",
      "4  1526898582.567656000    2048.0      NaN         NaN            NaN   \n",
      "\n",
      "  arp.hw.size arp.proto.size icmp.type icmp.code icmp.checksum  ... udp.port  \\\n",
      "0         NaN            NaN       NaN       NaN           NaN  ...      NaN   \n",
      "1         NaN            NaN       NaN       NaN           NaN  ...      NaN   \n",
      "2         NaN            NaN       NaN       NaN           NaN  ...      NaN   \n",
      "3         NaN            NaN       NaN       NaN           NaN  ...      NaN   \n",
      "4         NaN            NaN       NaN       NaN           NaN  ...      NaN   \n",
      "\n",
      "   udp.length  udp.checksum  udp.checksum_status  mbtcp.trans_id  \\\n",
      "0         NaN           NaN                  NaN             NaN   \n",
      "1         NaN           NaN                  NaN             NaN   \n",
      "2         NaN           NaN                  NaN             NaN   \n",
      "3         NaN           NaN                  NaN             NaN   \n",
      "4         NaN           NaN                  NaN             NaN   \n",
      "\n",
      "   mbtcp.prot_id  mbtcp.len  mbtcp.unit_id     eth.dst_int     eth.src_int  \n",
      "0            NaN        NaN            NaN    553850065211  79556642095225  \n",
      "1            NaN        NaN            NaN  79556642095225    553850065211  \n",
      "2            NaN        NaN            NaN  79556642095225    553850065211  \n",
      "3            NaN        NaN            NaN    553850065211  79556642095225  \n",
      "4            NaN        NaN            NaN  79556642095225    553850065211  \n",
      "\n",
      "[5 rows x 50 columns]\n"
     ]
    }
   ],
   "source": [
    "print(df_pfatt_1m_30m.head())"
   ]
  }
 ],
 "metadata": {
  "kernelspec": {
   "display_name": ".venv",
   "language": "python",
   "name": "python3"
  },
  "language_info": {
   "codemirror_mode": {
    "name": "ipython",
    "version": 3
   },
   "file_extension": ".py",
   "mimetype": "text/x-python",
   "name": "python",
   "nbconvert_exporter": "python",
   "pygments_lexer": "ipython3",
   "version": "3.12.5"
  }
 },
 "nbformat": 4,
 "nbformat_minor": 5
}
