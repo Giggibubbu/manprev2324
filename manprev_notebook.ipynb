{
 "cells": [
  {
   "cell_type": "markdown",
   "id": "93ff88e4",
   "metadata": {},
   "source": [
    "# Manutenzione preventiva - DoS Attacks"
   ]
  },
  {
   "cell_type": "code",
   "execution_count": 58,
   "id": "1adaf332-86d4-433f-ac6e-df096b1099c2",
   "metadata": {},
   "outputs": [],
   "source": [
    "import pandas as pd\n",
    "import json as json\n",
    "import ipaddress as ip \n",
    "import numpy as np\n",
    "import warnings\n",
    "import functions_notebook_new as fn\n",
    "from sklearn.model_selection import train_test_split\n",
    "from sklearn.neighbors import KNeighborsClassifier\n",
    "from sklearn.metrics import accuracy_score\n",
    "from sklearn.impute import SimpleImputer\n",
    "from sklearn.svm import SVC\n",
    "\n",
    "\n",
    "warnings.simplefilter(action='ignore', category=FutureWarning)"
   ]
  },
  {
   "cell_type": "code",
   "execution_count": 60,
   "id": "3439d92c",
   "metadata": {},
   "outputs": [],
   "source": [
    "### costanti\n",
    "# clean captures\n",
    "clean_capture = 'captures\\\\captures1_v2\\\\clean\\\\eth2dump-clean-0,5h_1.json'\n",
    "\n",
    "# ping flooding captures 1 min\n",
    "pf_capture_1 = 'captures\\\\captures1_v2\\\\mitm\\\\eth2dump-mitm-change-15m-1h_1.json'\n",
    "pf_capture_2 = 'captures\\\\captures1_v2\\\\mitm\\\\eth2dump-mitm-change-15m-1h_1.json'\n",
    "pf_capture_3 = 'captures\\\\captures1_v2\\\\mitm\\\\eth2dump-mitm-change-15m-1h_1.json'\n",
    "\n",
    "levels_of_interest = ['frame', 'eth', 'tcp', 'arp', 'udp', 'modbus', 'icmp', 'ip']\n",
    "\n",
    "### variabili"
   ]
  },
  {
   "cell_type": "code",
   "execution_count": 61,
   "id": "e45e8db7",
   "metadata": {},
   "outputs": [],
   "source": [
    "### estrazione dati\n",
    "# packets clean capture\n",
    "packets_cc = fn.load_packets_from_file(clean_capture)\n",
    "\n",
    "# packets attack captures (es. packets ping flooding attack 1m per cattura di 0.5 = pkt_pf_1m_05h)\n",
    "pkt_pf_1m_05h = fn.load_packets_from_file(pf_capture_1)\n",
    "pkt_pf_5m_05h = fn.load_packets_from_file(pf_capture_2)\n",
    "pkt_pf_15m_05h = fn.load_packets_from_file(pf_capture_3)"
   ]
  },
  {
   "cell_type": "code",
   "execution_count": 62,
   "id": "ab1e451d",
   "metadata": {},
   "outputs": [],
   "source": [
    "### features\n",
    "# clean features\n",
    "features_cc = fn.extract_features_from_packets(packets_cc, levels_of_interest)\n",
    "\n",
    "# ping flooding attack features\n",
    "features_pf_1m_05h = fn.extract_features_from_packets(pkt_pf_1m_05h, levels_of_interest)\n",
    "features_pf_5m_05h = fn.extract_features_from_packets(pkt_pf_5m_05h, levels_of_interest)\n",
    "features_pf_15m_05h =fn.extract_features_from_packets(pkt_pf_15m_05h, levels_of_interest)"
   ]
  },
  {
   "cell_type": "code",
   "execution_count": 50,
   "id": "b1438cf1",
   "metadata": {},
   "outputs": [],
   "source": [
    "### Dataframes\n",
    "# df clean capture\n",
    "df_clean = pd.DataFrame(features_cc)\n",
    "\n",
    "# df ping flooding attacks captures\n",
    "df_pf_1m_05h = pd.DataFrame(features_pf_1m_05h)\n",
    "df_pf_5m_05h = pd.DataFrame(features_pf_5m_05h)\n",
    "df_pf_15m_05h = pd.DataFrame(features_pf_15m_05h)\n",
    "\n",
    "\n",
    "\n",
    "df_pf_1m_05h['label']=1\n",
    "df_pf_5m_05h['label']=1\n",
    "df_pf_15m_05h['label']=1\n",
    "df_clean['label']=0\n",
    "pd_concatenation = pd.concat([df_clean,df_pf_1m_05h, df_pf_5m_05h, df_pf_15m_05h])"
   ]
  },
  {
   "cell_type": "code",
   "execution_count": 51,
   "id": "f8ab277a",
   "metadata": {},
   "outputs": [],
   "source": [
    "df_colonne_senza_nan = pd_concatenation.loc[:, pd_concatenation.isna().sum() == 0].copy()\n"
   ]
  },
  {
   "cell_type": "code",
   "execution_count": 52,
   "id": "450e2cbc",
   "metadata": {},
   "outputs": [
    {
     "data": {
      "text/plain": [
       "60"
      ]
     },
     "execution_count": 52,
     "metadata": {},
     "output_type": "execute_result"
    }
   ],
   "source": [
    "len(df_colonne_senza_nan.select_dtypes(include=['object']).columns)"
   ]
  },
  {
   "cell_type": "code",
   "execution_count": 53,
   "id": "0156c6f5",
   "metadata": {},
   "outputs": [
    {
     "name": "stdout",
     "output_type": "stream",
     "text": [
      "0        0\n",
      "1        0\n",
      "2        0\n",
      "3        0\n",
      "4        0\n",
      "        ..\n",
      "29687    1\n",
      "29688    1\n",
      "29689    1\n",
      "29690    1\n",
      "29691    1\n",
      "Name: label, Length: 161226, dtype: int64\n"
     ]
    }
   ],
   "source": [
    "print(df_colonne_senza_nan['label'])"
   ]
  },
  {
   "cell_type": "code",
   "execution_count": 54,
   "id": "57d0474e",
   "metadata": {},
   "outputs": [
    {
     "data": {
      "text/html": [
       "<div>\n",
       "<style scoped>\n",
       "    .dataframe tbody tr th:only-of-type {\n",
       "        vertical-align: middle;\n",
       "    }\n",
       "\n",
       "    .dataframe tbody tr th {\n",
       "        vertical-align: top;\n",
       "    }\n",
       "\n",
       "    .dataframe thead th {\n",
       "        text-align: right;\n",
       "    }\n",
       "</style>\n",
       "<table border=\"1\" class=\"dataframe\">\n",
       "  <thead>\n",
       "    <tr style=\"text-align: right;\">\n",
       "      <th></th>\n",
       "      <th>frame.frame.encap_type</th>\n",
       "      <th>frame.frame.time</th>\n",
       "      <th>frame.frame.time_utc</th>\n",
       "      <th>frame.frame.time_epoch</th>\n",
       "      <th>frame.frame.offset_shift</th>\n",
       "      <th>frame.frame.time_delta</th>\n",
       "      <th>frame.frame.time_delta_displayed</th>\n",
       "      <th>frame.frame.time_relative</th>\n",
       "      <th>frame.frame.number</th>\n",
       "      <th>frame.frame.len</th>\n",
       "    </tr>\n",
       "  </thead>\n",
       "  <tbody>\n",
       "    <tr>\n",
       "      <th>0</th>\n",
       "      <td>1</td>\n",
       "      <td>Sep  8, 2018 22:54:30.055515000 ora legale Eur...</td>\n",
       "      <td>Sep  8, 2018 20:54:30.055515000 UTC</td>\n",
       "      <td>1536440070.055515000</td>\n",
       "      <td>0.000000000</td>\n",
       "      <td>0.000000000</td>\n",
       "      <td>0.000000000</td>\n",
       "      <td>0.000000000</td>\n",
       "      <td>1</td>\n",
       "      <td>64</td>\n",
       "    </tr>\n",
       "    <tr>\n",
       "      <th>1</th>\n",
       "      <td>1</td>\n",
       "      <td>Sep  8, 2018 22:54:30.111272000 ora legale Eur...</td>\n",
       "      <td>Sep  8, 2018 20:54:30.111272000 UTC</td>\n",
       "      <td>1536440070.111272000</td>\n",
       "      <td>0.000000000</td>\n",
       "      <td>0.055757000</td>\n",
       "      <td>0.055757000</td>\n",
       "      <td>0.055757000</td>\n",
       "      <td>2</td>\n",
       "      <td>60</td>\n",
       "    </tr>\n",
       "    <tr>\n",
       "      <th>2</th>\n",
       "      <td>1</td>\n",
       "      <td>Sep  8, 2018 22:54:30.205937000 ora legale Eur...</td>\n",
       "      <td>Sep  8, 2018 20:54:30.205937000 UTC</td>\n",
       "      <td>1536440070.205937000</td>\n",
       "      <td>0.000000000</td>\n",
       "      <td>0.094665000</td>\n",
       "      <td>0.094665000</td>\n",
       "      <td>0.150422000</td>\n",
       "      <td>3</td>\n",
       "      <td>66</td>\n",
       "    </tr>\n",
       "    <tr>\n",
       "      <th>3</th>\n",
       "      <td>1</td>\n",
       "      <td>Sep  8, 2018 22:54:30.209039000 ora legale Eur...</td>\n",
       "      <td>Sep  8, 2018 20:54:30.209039000 UTC</td>\n",
       "      <td>1536440070.209039000</td>\n",
       "      <td>0.000000000</td>\n",
       "      <td>0.003102000</td>\n",
       "      <td>0.003102000</td>\n",
       "      <td>0.153524000</td>\n",
       "      <td>4</td>\n",
       "      <td>85</td>\n",
       "    </tr>\n",
       "    <tr>\n",
       "      <th>4</th>\n",
       "      <td>1</td>\n",
       "      <td>Sep  8, 2018 22:54:30.423275000 ora legale Eur...</td>\n",
       "      <td>Sep  8, 2018 20:54:30.423275000 UTC</td>\n",
       "      <td>1536440070.423275000</td>\n",
       "      <td>0.000000000</td>\n",
       "      <td>0.214236000</td>\n",
       "      <td>0.214236000</td>\n",
       "      <td>0.367760000</td>\n",
       "      <td>5</td>\n",
       "      <td>60</td>\n",
       "    </tr>\n",
       "    <tr>\n",
       "      <th>5</th>\n",
       "      <td>1</td>\n",
       "      <td>Sep  8, 2018 22:54:30.517529000 ora legale Eur...</td>\n",
       "      <td>Sep  8, 2018 20:54:30.517529000 UTC</td>\n",
       "      <td>1536440070.517529000</td>\n",
       "      <td>0.000000000</td>\n",
       "      <td>0.094254000</td>\n",
       "      <td>0.094254000</td>\n",
       "      <td>0.462014000</td>\n",
       "      <td>6</td>\n",
       "      <td>66</td>\n",
       "    </tr>\n",
       "    <tr>\n",
       "      <th>6</th>\n",
       "      <td>1</td>\n",
       "      <td>Sep  8, 2018 22:54:30.528387000 ora legale Eur...</td>\n",
       "      <td>Sep  8, 2018 20:54:30.528387000 UTC</td>\n",
       "      <td>1536440070.528387000</td>\n",
       "      <td>0.000000000</td>\n",
       "      <td>0.010858000</td>\n",
       "      <td>0.010858000</td>\n",
       "      <td>0.472872000</td>\n",
       "      <td>7</td>\n",
       "      <td>85</td>\n",
       "    </tr>\n",
       "    <tr>\n",
       "      <th>7</th>\n",
       "      <td>1</td>\n",
       "      <td>Sep  8, 2018 22:54:30.735268000 ora legale Eur...</td>\n",
       "      <td>Sep  8, 2018 20:54:30.735268000 UTC</td>\n",
       "      <td>1536440070.735268000</td>\n",
       "      <td>0.000000000</td>\n",
       "      <td>0.206881000</td>\n",
       "      <td>0.206881000</td>\n",
       "      <td>0.679753000</td>\n",
       "      <td>8</td>\n",
       "      <td>60</td>\n",
       "    </tr>\n",
       "    <tr>\n",
       "      <th>8</th>\n",
       "      <td>1</td>\n",
       "      <td>Sep  8, 2018 22:54:30.751871000 ora legale Eur...</td>\n",
       "      <td>Sep  8, 2018 20:54:30.751871000 UTC</td>\n",
       "      <td>1536440070.751871000</td>\n",
       "      <td>0.000000000</td>\n",
       "      <td>0.016603000</td>\n",
       "      <td>0.016603000</td>\n",
       "      <td>0.696356000</td>\n",
       "      <td>9</td>\n",
       "      <td>82</td>\n",
       "    </tr>\n",
       "    <tr>\n",
       "      <th>9</th>\n",
       "      <td>1</td>\n",
       "      <td>Sep  8, 2018 22:54:30.829737000 ora legale Eur...</td>\n",
       "      <td>Sep  8, 2018 20:54:30.829737000 UTC</td>\n",
       "      <td>1536440070.829737000</td>\n",
       "      <td>0.000000000</td>\n",
       "      <td>0.077866000</td>\n",
       "      <td>0.077866000</td>\n",
       "      <td>0.774222000</td>\n",
       "      <td>10</td>\n",
       "      <td>66</td>\n",
       "    </tr>\n",
       "  </tbody>\n",
       "</table>\n",
       "</div>"
      ],
      "text/plain": [
       "  frame.frame.encap_type                                   frame.frame.time  \\\n",
       "0                      1  Sep  8, 2018 22:54:30.055515000 ora legale Eur...   \n",
       "1                      1  Sep  8, 2018 22:54:30.111272000 ora legale Eur...   \n",
       "2                      1  Sep  8, 2018 22:54:30.205937000 ora legale Eur...   \n",
       "3                      1  Sep  8, 2018 22:54:30.209039000 ora legale Eur...   \n",
       "4                      1  Sep  8, 2018 22:54:30.423275000 ora legale Eur...   \n",
       "5                      1  Sep  8, 2018 22:54:30.517529000 ora legale Eur...   \n",
       "6                      1  Sep  8, 2018 22:54:30.528387000 ora legale Eur...   \n",
       "7                      1  Sep  8, 2018 22:54:30.735268000 ora legale Eur...   \n",
       "8                      1  Sep  8, 2018 22:54:30.751871000 ora legale Eur...   \n",
       "9                      1  Sep  8, 2018 22:54:30.829737000 ora legale Eur...   \n",
       "\n",
       "                  frame.frame.time_utc frame.frame.time_epoch  \\\n",
       "0  Sep  8, 2018 20:54:30.055515000 UTC   1536440070.055515000   \n",
       "1  Sep  8, 2018 20:54:30.111272000 UTC   1536440070.111272000   \n",
       "2  Sep  8, 2018 20:54:30.205937000 UTC   1536440070.205937000   \n",
       "3  Sep  8, 2018 20:54:30.209039000 UTC   1536440070.209039000   \n",
       "4  Sep  8, 2018 20:54:30.423275000 UTC   1536440070.423275000   \n",
       "5  Sep  8, 2018 20:54:30.517529000 UTC   1536440070.517529000   \n",
       "6  Sep  8, 2018 20:54:30.528387000 UTC   1536440070.528387000   \n",
       "7  Sep  8, 2018 20:54:30.735268000 UTC   1536440070.735268000   \n",
       "8  Sep  8, 2018 20:54:30.751871000 UTC   1536440070.751871000   \n",
       "9  Sep  8, 2018 20:54:30.829737000 UTC   1536440070.829737000   \n",
       "\n",
       "  frame.frame.offset_shift frame.frame.time_delta  \\\n",
       "0              0.000000000            0.000000000   \n",
       "1              0.000000000            0.055757000   \n",
       "2              0.000000000            0.094665000   \n",
       "3              0.000000000            0.003102000   \n",
       "4              0.000000000            0.214236000   \n",
       "5              0.000000000            0.094254000   \n",
       "6              0.000000000            0.010858000   \n",
       "7              0.000000000            0.206881000   \n",
       "8              0.000000000            0.016603000   \n",
       "9              0.000000000            0.077866000   \n",
       "\n",
       "  frame.frame.time_delta_displayed frame.frame.time_relative  \\\n",
       "0                      0.000000000               0.000000000   \n",
       "1                      0.055757000               0.055757000   \n",
       "2                      0.094665000               0.150422000   \n",
       "3                      0.003102000               0.153524000   \n",
       "4                      0.214236000               0.367760000   \n",
       "5                      0.094254000               0.462014000   \n",
       "6                      0.010858000               0.472872000   \n",
       "7                      0.206881000               0.679753000   \n",
       "8                      0.016603000               0.696356000   \n",
       "9                      0.077866000               0.774222000   \n",
       "\n",
       "  frame.frame.number frame.frame.len  \n",
       "0                  1              64  \n",
       "1                  2              60  \n",
       "2                  3              66  \n",
       "3                  4              85  \n",
       "4                  5              60  \n",
       "5                  6              66  \n",
       "6                  7              85  \n",
       "7                  8              60  \n",
       "8                  9              82  \n",
       "9                 10              66  "
      ]
     },
     "execution_count": 54,
     "metadata": {},
     "output_type": "execute_result"
    }
   ],
   "source": [
    "df_colonne_senza_nan.select_dtypes(include=['object']).iloc[:10,:10]"
   ]
  },
  {
   "cell_type": "markdown",
   "id": "3188715f",
   "metadata": {},
   "source": [
    "### Feature tipo intero\n",
    "frame.frame.encap_type\n",
    "frame.frame.number\n",
    "frame.frame.len\n",
    "eth.eth.dst_tree.eth.dst.oui\t\n",
    "frame.frame.cap_len\tframe.frame.marked\tframe.frame.ignored\n",
    "eth.eth.dst_tree.eth.dst.lg_raw[0]\t\n",
    "eth.eth.dst_tree.eth.addr.oui\n",
    "eth.eth.dst_tree.eth.dst.lg\n",
    "eth.eth.dst_tree.eth.lg_raw[0]\teth.eth.dst_tree.eth.lg\teth.eth.dst_tree.eth.dst.ig_raw[0]\teth.eth.dst_tree.eth.dst.ig\teth.eth.dst_tree.eth.ig_raw[0]\teth.eth.dst_tree.eth.ig\n",
    "eth.eth.src\n",
    "eth.eth.src_tree.eth.src.oui\t\n",
    "eth.eth.src_tree.eth.addr.oui\n",
    "eth.eth.src_tree.eth.src.lg_raw[0]\teth.eth.src_tree.eth.src.lg\teth.eth.src_tree.eth.lg_raw[0]\teth.eth.src_tree.eth.lg\teth.eth.src_tree.eth.src.ig_raw[0]\teth.eth.src_tree.eth.src.ig\teth.eth.src_tree.eth.ig_raw[0]\teth.eth.src_tree.eth.ig\n",
    "#### ESADECIMALE\n",
    "eth.eth.dst_raw[0]\t eth.eth.dst_tree.eth.dst_resolved_raw[0] eth.eth.dst_tree.eth.dst.oui_raw[0] eth.eth.dst_tree.eth.addr_raw[0] eth.eth.dst_tree.eth.addr.oui_raw[0]\n",
    "eth.eth.src_raw[0]\n",
    "eth.eth.src_tree.eth.src_resolved_raw[0]\t\n",
    "eth.eth.src_tree.eth.src.oui_raw[0]\n",
    "eth.eth.src_tree.eth.src.oui_resolved_raw[0]\n",
    "eth.eth.src_tree.eth.addr_raw[0]\n",
    "eth.eth.src_tree.eth.addr\n",
    "eth.eth.src_tree.eth.addr_resolved_raw[0]\n",
    "eth.eth.src_tree.eth.addr.oui_raw[0]\n",
    "eth.eth.src_tree.eth.addr.oui_resolved_raw[0]\t\t\t\t\n",
    "#### MAC ADDRESS\t\n",
    "eth.eth.dst mac address eth.eth.dst_tree.eth.addr eth.eth.dst_tree.eth.addr_resolved_raw[0] \t (da rimuovere : e conversione in esadecimale)\n",
    "\n",
    "### Feature tipo float\n",
    "frame.frame.time_epoch\n",
    "frame.frame.offset_shift\n",
    "frame.frame.time_delta\n",
    "frame.frame.time_delta_displayed\n",
    "frame.frame.time_relative\n",
    "### Feature tipo string\n",
    "frame.frame.protocols\tda ricavare i protocolli contenuti all'interno del frame\n",
    "#### DA SCARTARE\n",
    "'frame.frame.coloring_rule.name'\n",
    "'frame.frame.coloring_rule.string'\n",
    "'eth.eth.dst_tree.eth.dst_resolved'\n",
    "'eth.eth.dst_tree.eth.addr_resolved'\n",
    "'eth.eth.src_tree.eth.src_resolved'\n",
    "'eth.eth.src_tree.eth.src.oui_resolved'\t\n",
    "'eth.eth.src_tree.eth.addr_resolved'\n",
    "'eth.eth.src_tree.eth.addr.oui_resolved'"
   ]
  },
  {
   "cell_type": "code",
   "execution_count": 55,
   "id": "0e1df272",
   "metadata": {},
   "outputs": [
    {
     "name": "stdout",
     "output_type": "stream",
     "text": [
      "['frame.frame.encap_type', 'frame.frame.time', 'frame.frame.time_utc', 'frame.frame.time_epoch', 'frame.frame.offset_shift', 'frame.frame.time_delta', 'frame.frame.time_delta_displayed', 'frame.frame.time_relative', 'frame.frame.number', 'frame.frame.len', 'frame.frame.cap_len', 'frame.frame.marked', 'frame.frame.ignored', 'frame.frame.protocols', 'eth.eth.dst_raw[0]', 'eth.eth.dst_raw[1]', 'eth.eth.dst_raw[2]', 'eth.eth.dst_raw[3]', 'eth.eth.dst_raw[4]', 'eth.eth.dst', 'eth.eth.dst_tree.eth.dst_resolved_raw[0]', 'eth.eth.dst_tree.eth.dst_resolved_raw[1]', 'eth.eth.dst_tree.eth.dst_resolved_raw[2]', 'eth.eth.dst_tree.eth.dst_resolved_raw[3]', 'eth.eth.dst_tree.eth.dst_resolved_raw[4]', 'eth.eth.dst_tree.eth.dst.oui_raw[0]', 'eth.eth.dst_tree.eth.dst.oui_raw[1]', 'eth.eth.dst_tree.eth.dst.oui_raw[2]', 'eth.eth.dst_tree.eth.dst.oui_raw[3]', 'eth.eth.dst_tree.eth.dst.oui_raw[4]', 'eth.eth.dst_tree.eth.dst.oui', 'eth.eth.dst_tree.eth.addr_raw[0]', 'eth.eth.dst_tree.eth.addr_raw[1]', 'eth.eth.dst_tree.eth.addr_raw[2]', 'eth.eth.dst_tree.eth.addr_raw[3]', 'eth.eth.dst_tree.eth.addr_raw[4]', 'eth.eth.dst_tree.eth.addr', 'eth.eth.dst_tree.eth.addr_resolved_raw[0]', 'eth.eth.dst_tree.eth.addr_resolved_raw[1]', 'eth.eth.dst_tree.eth.addr_resolved_raw[2]', 'eth.eth.dst_tree.eth.addr_resolved_raw[3]', 'eth.eth.dst_tree.eth.addr_resolved_raw[4]', 'eth.eth.dst_tree.eth.addr.oui_raw[0]', 'eth.eth.dst_tree.eth.addr.oui_raw[1]', 'eth.eth.dst_tree.eth.addr.oui_raw[2]', 'eth.eth.dst_tree.eth.addr.oui_raw[3]', 'eth.eth.dst_tree.eth.addr.oui_raw[4]', 'eth.eth.dst_tree.eth.addr.oui', 'eth.eth.dst_tree.eth.dst.lg_raw[0]', 'eth.eth.dst_tree.eth.dst.lg_raw[1]', 'eth.eth.dst_tree.eth.dst.lg_raw[2]', 'eth.eth.dst_tree.eth.dst.lg_raw[3]', 'eth.eth.dst_tree.eth.dst.lg_raw[4]', 'eth.eth.dst_tree.eth.dst.lg', 'eth.eth.dst_tree.eth.lg_raw[0]', 'eth.eth.dst_tree.eth.lg_raw[1]', 'eth.eth.dst_tree.eth.lg_raw[2]', 'eth.eth.dst_tree.eth.lg_raw[3]', 'eth.eth.dst_tree.eth.lg_raw[4]', 'eth.eth.dst_tree.eth.lg', 'eth.eth.dst_tree.eth.dst.ig_raw[0]', 'eth.eth.dst_tree.eth.dst.ig_raw[1]', 'eth.eth.dst_tree.eth.dst.ig_raw[2]', 'eth.eth.dst_tree.eth.dst.ig_raw[3]', 'eth.eth.dst_tree.eth.dst.ig_raw[4]', 'eth.eth.dst_tree.eth.dst.ig', 'eth.eth.dst_tree.eth.ig_raw[0]', 'eth.eth.dst_tree.eth.ig_raw[1]', 'eth.eth.dst_tree.eth.ig_raw[2]', 'eth.eth.dst_tree.eth.ig_raw[3]', 'eth.eth.dst_tree.eth.ig_raw[4]', 'eth.eth.dst_tree.eth.ig', 'eth.eth.src_raw[0]', 'eth.eth.src_raw[1]', 'eth.eth.src_raw[2]', 'eth.eth.src_raw[3]', 'eth.eth.src_raw[4]', 'eth.eth.src', 'eth.eth.src_tree.eth.src_resolved_raw[0]', 'eth.eth.src_tree.eth.src_resolved_raw[1]', 'eth.eth.src_tree.eth.src_resolved_raw[2]', 'eth.eth.src_tree.eth.src_resolved_raw[3]', 'eth.eth.src_tree.eth.src_resolved_raw[4]', 'eth.eth.src_tree.eth.src.oui_raw[0]', 'eth.eth.src_tree.eth.src.oui_raw[1]', 'eth.eth.src_tree.eth.src.oui_raw[2]', 'eth.eth.src_tree.eth.src.oui_raw[3]', 'eth.eth.src_tree.eth.src.oui_raw[4]', 'eth.eth.src_tree.eth.src.oui', 'eth.eth.src_tree.eth.src.oui_resolved_raw[0]', 'eth.eth.src_tree.eth.src.oui_resolved_raw[1]', 'eth.eth.src_tree.eth.src.oui_resolved_raw[2]', 'eth.eth.src_tree.eth.src.oui_resolved_raw[3]', 'eth.eth.src_tree.eth.src.oui_resolved_raw[4]', 'eth.eth.src_tree.eth.addr_raw[0]', 'eth.eth.src_tree.eth.addr_raw[1]', 'eth.eth.src_tree.eth.addr_raw[2]', 'eth.eth.src_tree.eth.addr_raw[3]', 'eth.eth.src_tree.eth.addr_raw[4]', 'eth.eth.src_tree.eth.addr', 'eth.eth.src_tree.eth.addr_resolved_raw[0]', 'eth.eth.src_tree.eth.addr_resolved_raw[1]', 'eth.eth.src_tree.eth.addr_resolved_raw[2]', 'eth.eth.src_tree.eth.addr_resolved_raw[3]', 'eth.eth.src_tree.eth.addr_resolved_raw[4]', 'eth.eth.src_tree.eth.addr.oui_raw[0]', 'eth.eth.src_tree.eth.addr.oui_raw[1]', 'eth.eth.src_tree.eth.addr.oui_raw[2]', 'eth.eth.src_tree.eth.addr.oui_raw[3]', 'eth.eth.src_tree.eth.addr.oui_raw[4]', 'eth.eth.src_tree.eth.addr.oui', 'eth.eth.src_tree.eth.addr.oui_resolved_raw[0]', 'eth.eth.src_tree.eth.addr.oui_resolved_raw[1]', 'eth.eth.src_tree.eth.addr.oui_resolved_raw[2]', 'eth.eth.src_tree.eth.addr.oui_resolved_raw[3]', 'eth.eth.src_tree.eth.addr.oui_resolved_raw[4]', 'eth.eth.src_tree.eth.src.lg_raw[0]', 'eth.eth.src_tree.eth.src.lg_raw[1]', 'eth.eth.src_tree.eth.src.lg_raw[2]', 'eth.eth.src_tree.eth.src.lg_raw[3]', 'eth.eth.src_tree.eth.src.lg_raw[4]', 'eth.eth.src_tree.eth.src.lg', 'eth.eth.src_tree.eth.lg_raw[0]', 'eth.eth.src_tree.eth.lg_raw[1]', 'eth.eth.src_tree.eth.lg_raw[2]', 'eth.eth.src_tree.eth.lg_raw[3]', 'eth.eth.src_tree.eth.lg_raw[4]', 'eth.eth.src_tree.eth.lg', 'eth.eth.src_tree.eth.src.ig_raw[0]', 'eth.eth.src_tree.eth.src.ig_raw[1]', 'eth.eth.src_tree.eth.src.ig_raw[2]', 'eth.eth.src_tree.eth.src.ig_raw[3]', 'eth.eth.src_tree.eth.src.ig_raw[4]', 'eth.eth.src_tree.eth.src.ig', 'eth.eth.src_tree.eth.ig_raw[0]', 'eth.eth.src_tree.eth.ig_raw[1]', 'eth.eth.src_tree.eth.ig_raw[2]', 'eth.eth.src_tree.eth.ig_raw[3]', 'eth.eth.src_tree.eth.ig_raw[4]', 'eth.eth.src_tree.eth.ig', 'label']\n"
     ]
    }
   ],
   "source": [
    "pd_nona_bck = df_colonne_senza_nan.copy()\n",
    "df_colonne_senza_nan.drop(columns=['frame.frame.coloring_rule.name','frame.frame.coloring_rule.string', 'eth.eth.dst_tree.eth.dst_resolved', 'eth.eth.dst_tree.eth.addr_resolved', 'eth.eth.src_tree.eth.src_resolved', 'eth.eth.src_tree.eth.src.oui_resolved', 'eth.eth.src_tree.eth.addr_resolved', 'eth.eth.src_tree.eth.addr.oui_resolved'], inplace=True)\n",
    "column_names = df_colonne_senza_nan.columns.tolist()\n",
    "print(column_names)\n"
   ]
  },
  {
   "cell_type": "code",
   "execution_count": 56,
   "id": "1eee8ce0",
   "metadata": {},
   "outputs": [
    {
     "data": {
      "text/plain": [
       "161226"
      ]
     },
     "execution_count": 56,
     "metadata": {},
     "output_type": "execute_result"
    }
   ],
   "source": [
    "len(df_colonne_senza_nan)"
   ]
  },
  {
   "cell_type": "code",
   "execution_count": 57,
   "id": "9de865f9",
   "metadata": {},
   "outputs": [
    {
     "name": "stdout",
     "output_type": "stream",
     "text": [
      "frame.frame.encap_type\n",
      "frame.frame.number\n",
      "frame.frame.len\n",
      "eth.eth.dst_tree.eth.dst.oui\n",
      "frame.frame.cap_len\n",
      "frame.frame.marked\n",
      "frame.frame.ignored\n",
      "eth.eth.dst_tree.eth.dst.lg_raw[0]\n",
      "eth.eth.dst_tree.eth.addr.oui\n",
      "eth.eth.dst_tree.eth.dst.lg\n",
      "eth.eth.dst_tree.eth.lg_raw[0]\n",
      "eth.eth.dst_tree.eth.lg\n",
      "eth.eth.dst_tree.eth.dst.ig_raw[0]\n",
      "eth.eth.dst_tree.eth.dst.ig\n",
      "eth.eth.dst_tree.eth.ig_raw[0]\n",
      "eth.eth.dst_tree.eth.ig\n",
      "eth.eth.src_tree.eth.src.oui\n",
      "eth.eth.src_tree.eth.addr.oui\n",
      "eth.eth.src_tree.eth.src.lg_raw[0]\n",
      "eth.eth.src_tree.eth.src.lg\n",
      "eth.eth.src_tree.eth.lg_raw[0]\n",
      "eth.eth.src_tree.eth.lg\n",
      "eth.eth.src_tree.eth.src.ig_raw[0]\n",
      "eth.eth.src_tree.eth.src.ig\n",
      "eth.eth.src_tree.eth.ig_raw[0]\n",
      "eth.eth.src_tree.eth.ig\n"
     ]
    },
    {
     "ename": "AttributeError",
     "evalue": "Can only use .str accessor with string values!",
     "output_type": "error",
     "traceback": [
      "\u001b[1;31m---------------------------------------------------------------------------\u001b[0m",
      "\u001b[1;31mAttributeError\u001b[0m                            Traceback (most recent call last)",
      "Cell \u001b[1;32mIn[57], line 1\u001b[0m\n\u001b[1;32m----> 1\u001b[0m \u001b[43mfn\u001b[49m\u001b[38;5;241;43m.\u001b[39;49m\u001b[43mdf_convert\u001b[49m\u001b[43m(\u001b[49m\u001b[43mdf_colonne_senza_nan\u001b[49m\u001b[43m)\u001b[49m\n\u001b[0;32m      2\u001b[0m df_colonne_senza_nan\n",
      "File \u001b[1;32mc:\\Users\\User\\Desktop\\manprev2324\\manprev2324\\functions_notebook_new.py:186\u001b[0m, in \u001b[0;36mdf_convert\u001b[1;34m(dataframe)\u001b[0m\n\u001b[0;32m    184\u001b[0m     dataframe[field] \u001b[38;5;241m=\u001b[39m dataframe[field]\u001b[38;5;241m.\u001b[39mstr\u001b[38;5;241m.\u001b[39mreplace(\u001b[38;5;124m\"\u001b[39m\u001b[38;5;124m:\u001b[39m\u001b[38;5;124m\"\u001b[39m, \u001b[38;5;124m\"\u001b[39m\u001b[38;5;124m\"\u001b[39m, regex\u001b[38;5;241m=\u001b[39m\u001b[38;5;28;01mFalse\u001b[39;00m)\n\u001b[0;32m    185\u001b[0m     dataframe[field] \u001b[38;5;241m=\u001b[39m dataframe[field]\u001b[38;5;241m.\u001b[39mapply(\u001b[38;5;28;01mlambda\u001b[39;00m x : \u001b[38;5;28mint\u001b[39m(x, \u001b[38;5;241m16\u001b[39m))\n\u001b[1;32m--> 186\u001b[0m     dataframe[field] \u001b[38;5;241m=\u001b[39m \u001b[43mdataframe\u001b[49m\u001b[43m[\u001b[49m\u001b[43mfield\u001b[49m\u001b[43m]\u001b[49m\u001b[38;5;241;43m.\u001b[39;49m\u001b[43mstr\u001b[49m\u001b[38;5;241m.\u001b[39mreplace(\u001b[38;5;124m\"\u001b[39m\u001b[38;5;124m:\u001b[39m\u001b[38;5;124m\"\u001b[39m, \u001b[38;5;124m\"\u001b[39m\u001b[38;5;124m\"\u001b[39m, regex\u001b[38;5;241m=\u001b[39m\u001b[38;5;28;01mFalse\u001b[39;00m)\u001b[38;5;241m.\u001b[39mapply(\u001b[38;5;28;01mlambda\u001b[39;00m x : \u001b[38;5;28mint\u001b[39m(x, \u001b[38;5;241m16\u001b[39m))\n\u001b[0;32m    187\u001b[0m     \u001b[38;5;66;03m# dataframe[field] = dataframe[field].apply(lambda x : int(x, 16))\u001b[39;00m\n\u001b[0;32m    189\u001b[0m \u001b[38;5;28;01mfor\u001b[39;00m field \u001b[38;5;129;01min\u001b[39;00m tofloat:\n",
      "File \u001b[1;32m~\\AppData\\Local\\Packages\\PythonSoftwareFoundation.Python.3.12_qbz5n2kfra8p0\\LocalCache\\local-packages\\Python312\\site-packages\\pandas\\core\\generic.py:6296\u001b[0m, in \u001b[0;36mNDFrame.__getattr__\u001b[1;34m(self, name)\u001b[0m\n\u001b[0;32m   6289\u001b[0m \u001b[38;5;28;01mif\u001b[39;00m (\n\u001b[0;32m   6290\u001b[0m     name \u001b[38;5;129;01mnot\u001b[39;00m \u001b[38;5;129;01min\u001b[39;00m \u001b[38;5;28mself\u001b[39m\u001b[38;5;241m.\u001b[39m_internal_names_set\n\u001b[0;32m   6291\u001b[0m     \u001b[38;5;129;01mand\u001b[39;00m name \u001b[38;5;129;01mnot\u001b[39;00m \u001b[38;5;129;01min\u001b[39;00m \u001b[38;5;28mself\u001b[39m\u001b[38;5;241m.\u001b[39m_metadata\n\u001b[0;32m   6292\u001b[0m     \u001b[38;5;129;01mand\u001b[39;00m name \u001b[38;5;129;01mnot\u001b[39;00m \u001b[38;5;129;01min\u001b[39;00m \u001b[38;5;28mself\u001b[39m\u001b[38;5;241m.\u001b[39m_accessors\n\u001b[0;32m   6293\u001b[0m     \u001b[38;5;129;01mand\u001b[39;00m \u001b[38;5;28mself\u001b[39m\u001b[38;5;241m.\u001b[39m_info_axis\u001b[38;5;241m.\u001b[39m_can_hold_identifiers_and_holds_name(name)\n\u001b[0;32m   6294\u001b[0m ):\n\u001b[0;32m   6295\u001b[0m     \u001b[38;5;28;01mreturn\u001b[39;00m \u001b[38;5;28mself\u001b[39m[name]\n\u001b[1;32m-> 6296\u001b[0m \u001b[38;5;28;01mreturn\u001b[39;00m \u001b[38;5;28;43mobject\u001b[39;49m\u001b[38;5;241;43m.\u001b[39;49m\u001b[38;5;21;43m__getattribute__\u001b[39;49m\u001b[43m(\u001b[49m\u001b[38;5;28;43mself\u001b[39;49m\u001b[43m,\u001b[49m\u001b[43m \u001b[49m\u001b[43mname\u001b[49m\u001b[43m)\u001b[49m\n",
      "File \u001b[1;32m~\\AppData\\Local\\Packages\\PythonSoftwareFoundation.Python.3.12_qbz5n2kfra8p0\\LocalCache\\local-packages\\Python312\\site-packages\\pandas\\core\\accessor.py:224\u001b[0m, in \u001b[0;36mCachedAccessor.__get__\u001b[1;34m(self, obj, cls)\u001b[0m\n\u001b[0;32m    221\u001b[0m \u001b[38;5;28;01mif\u001b[39;00m obj \u001b[38;5;129;01mis\u001b[39;00m \u001b[38;5;28;01mNone\u001b[39;00m:\n\u001b[0;32m    222\u001b[0m     \u001b[38;5;66;03m# we're accessing the attribute of the class, i.e., Dataset.geo\u001b[39;00m\n\u001b[0;32m    223\u001b[0m     \u001b[38;5;28;01mreturn\u001b[39;00m \u001b[38;5;28mself\u001b[39m\u001b[38;5;241m.\u001b[39m_accessor\n\u001b[1;32m--> 224\u001b[0m accessor_obj \u001b[38;5;241m=\u001b[39m \u001b[38;5;28;43mself\u001b[39;49m\u001b[38;5;241;43m.\u001b[39;49m\u001b[43m_accessor\u001b[49m\u001b[43m(\u001b[49m\u001b[43mobj\u001b[49m\u001b[43m)\u001b[49m\n\u001b[0;32m    225\u001b[0m \u001b[38;5;66;03m# Replace the property with the accessor object. Inspired by:\u001b[39;00m\n\u001b[0;32m    226\u001b[0m \u001b[38;5;66;03m# https://www.pydanny.com/cached-property.html\u001b[39;00m\n\u001b[0;32m    227\u001b[0m \u001b[38;5;66;03m# We need to use object.__setattr__ because we overwrite __setattr__ on\u001b[39;00m\n\u001b[0;32m    228\u001b[0m \u001b[38;5;66;03m# NDFrame\u001b[39;00m\n\u001b[0;32m    229\u001b[0m \u001b[38;5;28mobject\u001b[39m\u001b[38;5;241m.\u001b[39m\u001b[38;5;21m__setattr__\u001b[39m(obj, \u001b[38;5;28mself\u001b[39m\u001b[38;5;241m.\u001b[39m_name, accessor_obj)\n",
      "File \u001b[1;32m~\\AppData\\Local\\Packages\\PythonSoftwareFoundation.Python.3.12_qbz5n2kfra8p0\\LocalCache\\local-packages\\Python312\\site-packages\\pandas\\core\\strings\\accessor.py:191\u001b[0m, in \u001b[0;36mStringMethods.__init__\u001b[1;34m(self, data)\u001b[0m\n\u001b[0;32m    188\u001b[0m \u001b[38;5;28;01mdef\u001b[39;00m \u001b[38;5;21m__init__\u001b[39m(\u001b[38;5;28mself\u001b[39m, data) \u001b[38;5;241m-\u001b[39m\u001b[38;5;241m>\u001b[39m \u001b[38;5;28;01mNone\u001b[39;00m:\n\u001b[0;32m    189\u001b[0m     \u001b[38;5;28;01mfrom\u001b[39;00m \u001b[38;5;21;01mpandas\u001b[39;00m\u001b[38;5;21;01m.\u001b[39;00m\u001b[38;5;21;01mcore\u001b[39;00m\u001b[38;5;21;01m.\u001b[39;00m\u001b[38;5;21;01marrays\u001b[39;00m\u001b[38;5;21;01m.\u001b[39;00m\u001b[38;5;21;01mstring_\u001b[39;00m \u001b[38;5;28;01mimport\u001b[39;00m StringDtype\n\u001b[1;32m--> 191\u001b[0m     \u001b[38;5;28mself\u001b[39m\u001b[38;5;241m.\u001b[39m_inferred_dtype \u001b[38;5;241m=\u001b[39m \u001b[38;5;28;43mself\u001b[39;49m\u001b[38;5;241;43m.\u001b[39;49m\u001b[43m_validate\u001b[49m\u001b[43m(\u001b[49m\u001b[43mdata\u001b[49m\u001b[43m)\u001b[49m\n\u001b[0;32m    192\u001b[0m     \u001b[38;5;28mself\u001b[39m\u001b[38;5;241m.\u001b[39m_is_categorical \u001b[38;5;241m=\u001b[39m \u001b[38;5;28misinstance\u001b[39m(data\u001b[38;5;241m.\u001b[39mdtype, CategoricalDtype)\n\u001b[0;32m    193\u001b[0m     \u001b[38;5;28mself\u001b[39m\u001b[38;5;241m.\u001b[39m_is_string \u001b[38;5;241m=\u001b[39m \u001b[38;5;28misinstance\u001b[39m(data\u001b[38;5;241m.\u001b[39mdtype, StringDtype)\n",
      "File \u001b[1;32m~\\AppData\\Local\\Packages\\PythonSoftwareFoundation.Python.3.12_qbz5n2kfra8p0\\LocalCache\\local-packages\\Python312\\site-packages\\pandas\\core\\strings\\accessor.py:245\u001b[0m, in \u001b[0;36mStringMethods._validate\u001b[1;34m(data)\u001b[0m\n\u001b[0;32m    242\u001b[0m inferred_dtype \u001b[38;5;241m=\u001b[39m lib\u001b[38;5;241m.\u001b[39minfer_dtype(values, skipna\u001b[38;5;241m=\u001b[39m\u001b[38;5;28;01mTrue\u001b[39;00m)\n\u001b[0;32m    244\u001b[0m \u001b[38;5;28;01mif\u001b[39;00m inferred_dtype \u001b[38;5;129;01mnot\u001b[39;00m \u001b[38;5;129;01min\u001b[39;00m allowed_types:\n\u001b[1;32m--> 245\u001b[0m     \u001b[38;5;28;01mraise\u001b[39;00m \u001b[38;5;167;01mAttributeError\u001b[39;00m(\u001b[38;5;124m\"\u001b[39m\u001b[38;5;124mCan only use .str accessor with string values!\u001b[39m\u001b[38;5;124m\"\u001b[39m)\n\u001b[0;32m    246\u001b[0m \u001b[38;5;28;01mreturn\u001b[39;00m inferred_dtype\n",
      "\u001b[1;31mAttributeError\u001b[0m: Can only use .str accessor with string values!"
     ]
    }
   ],
   "source": [
    "fn.df_convert(df_colonne_senza_nan)\n",
    "df_colonne_senza_nan"
   ]
  },
  {
   "cell_type": "code",
   "execution_count": 31,
   "id": "16c7488b",
   "metadata": {},
   "outputs": [
    {
     "name": "stdout",
     "output_type": "stream",
     "text": [
      "frame.frame.encap_type            object\n",
      "frame.frame.time                  object\n",
      "frame.frame.time_utc              object\n",
      "frame.frame.time_epoch            object\n",
      "frame.frame.offset_shift          object\n",
      "                                   ...  \n",
      "eth.eth.src_tree.eth.ig_raw[2]     int64\n",
      "eth.eth.src_tree.eth.ig_raw[3]     int64\n",
      "eth.eth.src_tree.eth.ig_raw[4]     int64\n",
      "eth.eth.src_tree.eth.ig           object\n",
      "label                              int64\n",
      "Length: 141, dtype: object\n"
     ]
    }
   ],
   "source": [
    "print(df_nonan_converted.dtypes)"
   ]
  },
  {
   "cell_type": "code",
   "execution_count": 15,
   "id": "faccd93b",
   "metadata": {},
   "outputs": [
    {
     "name": "stdout",
     "output_type": "stream",
     "text": [
      "['frame.frame.encap_type', 'frame.frame.time', 'frame.frame.time_utc', 'frame.frame.time_epoch', 'frame.frame.offset_shift', 'frame.frame.time_delta', 'frame.frame.time_delta_displayed', 'frame.frame.time_relative', 'frame.frame.number', 'frame.frame.len', 'frame.frame.cap_len', 'frame.frame.marked', 'frame.frame.ignored', 'frame.frame.protocols', 'eth.eth.dst_raw[0]', 'eth.eth.dst_raw[1]', 'eth.eth.dst_raw[2]', 'eth.eth.dst_raw[3]', 'eth.eth.dst_raw[4]', 'eth.eth.dst', 'eth.eth.dst_tree.eth.dst_resolved_raw[0]', 'eth.eth.dst_tree.eth.dst_resolved_raw[1]', 'eth.eth.dst_tree.eth.dst_resolved_raw[2]', 'eth.eth.dst_tree.eth.dst_resolved_raw[3]', 'eth.eth.dst_tree.eth.dst_resolved_raw[4]', 'eth.eth.dst_tree.eth.dst.oui_raw[0]', 'eth.eth.dst_tree.eth.dst.oui_raw[1]', 'eth.eth.dst_tree.eth.dst.oui_raw[2]', 'eth.eth.dst_tree.eth.dst.oui_raw[3]', 'eth.eth.dst_tree.eth.dst.oui_raw[4]', 'eth.eth.dst_tree.eth.dst.oui', 'eth.eth.dst_tree.eth.addr_raw[0]', 'eth.eth.dst_tree.eth.addr_raw[1]', 'eth.eth.dst_tree.eth.addr_raw[2]', 'eth.eth.dst_tree.eth.addr_raw[3]', 'eth.eth.dst_tree.eth.addr_raw[4]', 'eth.eth.dst_tree.eth.addr', 'eth.eth.dst_tree.eth.addr_resolved_raw[0]', 'eth.eth.dst_tree.eth.addr_resolved_raw[1]', 'eth.eth.dst_tree.eth.addr_resolved_raw[2]', 'eth.eth.dst_tree.eth.addr_resolved_raw[3]', 'eth.eth.dst_tree.eth.addr_resolved_raw[4]', 'eth.eth.dst_tree.eth.addr.oui_raw[0]', 'eth.eth.dst_tree.eth.addr.oui_raw[1]', 'eth.eth.dst_tree.eth.addr.oui_raw[2]', 'eth.eth.dst_tree.eth.addr.oui_raw[3]', 'eth.eth.dst_tree.eth.addr.oui_raw[4]', 'eth.eth.dst_tree.eth.addr.oui', 'eth.eth.dst_tree.eth.dst.lg_raw[0]', 'eth.eth.dst_tree.eth.dst.lg_raw[1]', 'eth.eth.dst_tree.eth.dst.lg_raw[2]', 'eth.eth.dst_tree.eth.dst.lg_raw[3]', 'eth.eth.dst_tree.eth.dst.lg_raw[4]', 'eth.eth.dst_tree.eth.dst.lg', 'eth.eth.dst_tree.eth.lg_raw[0]', 'eth.eth.dst_tree.eth.lg_raw[1]', 'eth.eth.dst_tree.eth.lg_raw[2]', 'eth.eth.dst_tree.eth.lg_raw[3]', 'eth.eth.dst_tree.eth.lg_raw[4]', 'eth.eth.dst_tree.eth.lg', 'eth.eth.dst_tree.eth.dst.ig_raw[0]', 'eth.eth.dst_tree.eth.dst.ig_raw[1]', 'eth.eth.dst_tree.eth.dst.ig_raw[2]', 'eth.eth.dst_tree.eth.dst.ig_raw[3]', 'eth.eth.dst_tree.eth.dst.ig_raw[4]', 'eth.eth.dst_tree.eth.dst.ig', 'eth.eth.dst_tree.eth.ig_raw[0]', 'eth.eth.dst_tree.eth.ig_raw[1]', 'eth.eth.dst_tree.eth.ig_raw[2]', 'eth.eth.dst_tree.eth.ig_raw[3]', 'eth.eth.dst_tree.eth.ig_raw[4]', 'eth.eth.dst_tree.eth.ig', 'eth.eth.src_raw[0]', 'eth.eth.src_raw[1]', 'eth.eth.src_raw[2]', 'eth.eth.src_raw[3]', 'eth.eth.src_raw[4]', 'eth.eth.src', 'eth.eth.src_tree.eth.src_resolved_raw[0]', 'eth.eth.src_tree.eth.src_resolved_raw[1]', 'eth.eth.src_tree.eth.src_resolved_raw[2]', 'eth.eth.src_tree.eth.src_resolved_raw[3]', 'eth.eth.src_tree.eth.src_resolved_raw[4]', 'eth.eth.src_tree.eth.src.oui_raw[0]', 'eth.eth.src_tree.eth.src.oui_raw[1]', 'eth.eth.src_tree.eth.src.oui_raw[2]', 'eth.eth.src_tree.eth.src.oui_raw[3]', 'eth.eth.src_tree.eth.src.oui_raw[4]', 'eth.eth.src_tree.eth.src.oui', 'eth.eth.src_tree.eth.src.oui_resolved_raw[0]', 'eth.eth.src_tree.eth.src.oui_resolved_raw[1]', 'eth.eth.src_tree.eth.src.oui_resolved_raw[2]', 'eth.eth.src_tree.eth.src.oui_resolved_raw[3]', 'eth.eth.src_tree.eth.src.oui_resolved_raw[4]', 'eth.eth.src_tree.eth.addr_raw[0]', 'eth.eth.src_tree.eth.addr_raw[1]', 'eth.eth.src_tree.eth.addr_raw[2]', 'eth.eth.src_tree.eth.addr_raw[3]', 'eth.eth.src_tree.eth.addr_raw[4]', 'eth.eth.src_tree.eth.addr', 'eth.eth.src_tree.eth.addr_resolved_raw[0]', 'eth.eth.src_tree.eth.addr_resolved_raw[1]', 'eth.eth.src_tree.eth.addr_resolved_raw[2]', 'eth.eth.src_tree.eth.addr_resolved_raw[3]', 'eth.eth.src_tree.eth.addr_resolved_raw[4]', 'eth.eth.src_tree.eth.addr.oui_raw[0]', 'eth.eth.src_tree.eth.addr.oui_raw[1]', 'eth.eth.src_tree.eth.addr.oui_raw[2]', 'eth.eth.src_tree.eth.addr.oui_raw[3]', 'eth.eth.src_tree.eth.addr.oui_raw[4]', 'eth.eth.src_tree.eth.addr.oui', 'eth.eth.src_tree.eth.addr.oui_resolved_raw[0]', 'eth.eth.src_tree.eth.addr.oui_resolved_raw[1]', 'eth.eth.src_tree.eth.addr.oui_resolved_raw[2]', 'eth.eth.src_tree.eth.addr.oui_resolved_raw[3]', 'eth.eth.src_tree.eth.addr.oui_resolved_raw[4]', 'eth.eth.src_tree.eth.src.lg_raw[0]', 'eth.eth.src_tree.eth.src.lg_raw[1]', 'eth.eth.src_tree.eth.src.lg_raw[2]', 'eth.eth.src_tree.eth.src.lg_raw[3]', 'eth.eth.src_tree.eth.src.lg_raw[4]', 'eth.eth.src_tree.eth.src.lg', 'eth.eth.src_tree.eth.lg_raw[0]', 'eth.eth.src_tree.eth.lg_raw[1]', 'eth.eth.src_tree.eth.lg_raw[2]', 'eth.eth.src_tree.eth.lg_raw[3]', 'eth.eth.src_tree.eth.lg_raw[4]', 'eth.eth.src_tree.eth.lg', 'eth.eth.src_tree.eth.src.ig_raw[0]', 'eth.eth.src_tree.eth.src.ig_raw[1]', 'eth.eth.src_tree.eth.src.ig_raw[2]', 'eth.eth.src_tree.eth.src.ig_raw[3]', 'eth.eth.src_tree.eth.src.ig_raw[4]', 'eth.eth.src_tree.eth.src.ig', 'eth.eth.src_tree.eth.ig_raw[0]', 'eth.eth.src_tree.eth.ig_raw[1]', 'eth.eth.src_tree.eth.ig_raw[2]', 'eth.eth.src_tree.eth.ig_raw[3]', 'eth.eth.src_tree.eth.ig_raw[4]', 'eth.eth.src_tree.eth.ig', 'label']\n"
     ]
    }
   ],
   "source": [
    "print(df_nonan_converted.columns.tolist())"
   ]
  },
  {
   "cell_type": "code",
   "execution_count": 16,
   "id": "a10b94cb",
   "metadata": {},
   "outputs": [],
   "source": [
    "df_nonan_converted.drop(columns=['frame.frame.time_utc','frame.frame.time','frame.frame.protocols'],inplace=True)\n"
   ]
  },
  {
   "cell_type": "code",
   "execution_count": 17,
   "id": "b40c22dd",
   "metadata": {},
   "outputs": [],
   "source": [
    "\n",
    "from sklearn.feature_selection import SelectKBest, f_classif\n",
    "from sklearn.preprocessing import StandardScaler\n",
    "from sklearn.model_selection import train_test_split\n",
    "# Supponiamo che 'label' sia la colonna target e tutte le altre colonne siano features\n",
    "X = df_nonan_converted.drop(columns=['label'])\n",
    "y = df_nonan_converted['label']\n",
    "scaler = StandardScaler()\n",
    "X_scaled = scaler.fit_transform(X)\n",
    "\n"
   ]
  },
  {
   "cell_type": "code",
   "execution_count": 18,
   "id": "c7780173",
   "metadata": {},
   "outputs": [
    {
     "name": "stdout",
     "output_type": "stream",
     "text": [
      "Le 68 features migliori selezionate dall'ANOVA sono:\n",
      "['frame.frame.time_epoch', 'frame.frame.time_delta', 'frame.frame.time_delta_displayed', 'frame.frame.time_relative', 'frame.frame.number', 'frame.frame.len', 'frame.frame.cap_len', 'eth.eth.dst_raw[0]', 'eth.eth.dst', 'eth.eth.dst_tree.eth.dst_resolved_raw[0]', 'eth.eth.dst_tree.eth.dst.oui_raw[0]', 'eth.eth.dst_tree.eth.dst.oui', 'eth.eth.dst_tree.eth.addr_raw[0]', 'eth.eth.dst_tree.eth.addr', 'eth.eth.dst_tree.eth.addr_resolved_raw[0]', 'eth.eth.dst_tree.eth.addr.oui_raw[0]', 'eth.eth.dst_tree.eth.addr.oui', 'eth.eth.dst_tree.eth.dst.lg_raw[0]', 'eth.eth.dst_tree.eth.dst.lg', 'eth.eth.dst_tree.eth.lg_raw[0]', 'eth.eth.dst_tree.eth.lg', 'eth.eth.dst_tree.eth.dst.ig_raw[0]', 'eth.eth.dst_tree.eth.dst.ig', 'eth.eth.dst_tree.eth.ig_raw[0]', 'eth.eth.dst_tree.eth.ig', 'eth.eth.src_raw[0]', 'eth.eth.src', 'eth.eth.src_tree.eth.src_resolved_raw[0]', 'eth.eth.src_tree.eth.src.oui_raw[0]', 'eth.eth.src_tree.eth.src.oui', 'eth.eth.src_tree.eth.src.oui_resolved_raw[0]', 'eth.eth.src_tree.eth.addr_raw[0]', 'eth.eth.src_tree.eth.addr', 'eth.eth.src_tree.eth.addr_resolved_raw[0]', 'eth.eth.src_tree.eth.addr.oui_raw[0]', 'eth.eth.src_tree.eth.addr.oui_raw[2]', 'eth.eth.src_tree.eth.addr.oui_raw[3]', 'eth.eth.src_tree.eth.addr.oui_raw[4]', 'eth.eth.src_tree.eth.addr.oui', 'eth.eth.src_tree.eth.addr.oui_resolved_raw[0]', 'eth.eth.src_tree.eth.addr.oui_resolved_raw[1]', 'eth.eth.src_tree.eth.addr.oui_resolved_raw[2]', 'eth.eth.src_tree.eth.addr.oui_resolved_raw[3]', 'eth.eth.src_tree.eth.addr.oui_resolved_raw[4]', 'eth.eth.src_tree.eth.src.lg_raw[0]', 'eth.eth.src_tree.eth.src.lg_raw[1]', 'eth.eth.src_tree.eth.src.lg_raw[2]', 'eth.eth.src_tree.eth.src.lg_raw[3]', 'eth.eth.src_tree.eth.src.lg_raw[4]', 'eth.eth.src_tree.eth.src.lg', 'eth.eth.src_tree.eth.lg_raw[0]', 'eth.eth.src_tree.eth.lg_raw[1]', 'eth.eth.src_tree.eth.lg_raw[2]', 'eth.eth.src_tree.eth.lg_raw[3]', 'eth.eth.src_tree.eth.lg_raw[4]', 'eth.eth.src_tree.eth.lg', 'eth.eth.src_tree.eth.src.ig_raw[0]', 'eth.eth.src_tree.eth.src.ig_raw[1]', 'eth.eth.src_tree.eth.src.ig_raw[2]', 'eth.eth.src_tree.eth.src.ig_raw[3]', 'eth.eth.src_tree.eth.src.ig_raw[4]', 'eth.eth.src_tree.eth.src.ig', 'eth.eth.src_tree.eth.ig_raw[0]', 'eth.eth.src_tree.eth.ig_raw[1]', 'eth.eth.src_tree.eth.ig_raw[2]', 'eth.eth.src_tree.eth.ig_raw[3]', 'eth.eth.src_tree.eth.ig_raw[4]', 'eth.eth.src_tree.eth.ig']\n",
      "['frame.frame.time_epoch', 'frame.frame.time_delta', 'frame.frame.time_delta_displayed', 'frame.frame.time_relative', 'frame.frame.number', 'frame.frame.len', 'frame.frame.cap_len', 'eth.eth.dst_raw[0]', 'eth.eth.dst', 'eth.eth.dst_tree.eth.dst_resolved_raw[0]', 'eth.eth.dst_tree.eth.dst.oui_raw[0]', 'eth.eth.dst_tree.eth.dst.oui', 'eth.eth.dst_tree.eth.addr_raw[0]', 'eth.eth.dst_tree.eth.addr', 'eth.eth.dst_tree.eth.addr_resolved_raw[0]', 'eth.eth.dst_tree.eth.addr.oui_raw[0]', 'eth.eth.dst_tree.eth.addr.oui', 'eth.eth.dst_tree.eth.dst.lg_raw[0]', 'eth.eth.dst_tree.eth.dst.lg', 'eth.eth.dst_tree.eth.lg_raw[0]', 'eth.eth.dst_tree.eth.lg', 'eth.eth.dst_tree.eth.dst.ig_raw[0]', 'eth.eth.dst_tree.eth.dst.ig', 'eth.eth.dst_tree.eth.ig_raw[0]', 'eth.eth.dst_tree.eth.ig', 'eth.eth.src_raw[0]', 'eth.eth.src', 'eth.eth.src_tree.eth.src_resolved_raw[0]', 'eth.eth.src_tree.eth.src.oui_raw[0]', 'eth.eth.src_tree.eth.src.oui', 'eth.eth.src_tree.eth.src.oui_resolved_raw[0]', 'eth.eth.src_tree.eth.addr_raw[0]', 'eth.eth.src_tree.eth.addr', 'eth.eth.src_tree.eth.addr_resolved_raw[0]', 'eth.eth.src_tree.eth.addr.oui_raw[0]', 'eth.eth.src_tree.eth.addr.oui_raw[2]', 'eth.eth.src_tree.eth.addr.oui_raw[3]', 'eth.eth.src_tree.eth.addr.oui_raw[4]', 'eth.eth.src_tree.eth.addr.oui', 'eth.eth.src_tree.eth.addr.oui_resolved_raw[0]', 'eth.eth.src_tree.eth.addr.oui_resolved_raw[1]', 'eth.eth.src_tree.eth.addr.oui_resolved_raw[2]', 'eth.eth.src_tree.eth.addr.oui_resolved_raw[3]', 'eth.eth.src_tree.eth.addr.oui_resolved_raw[4]', 'eth.eth.src_tree.eth.src.lg_raw[0]', 'eth.eth.src_tree.eth.src.lg_raw[1]', 'eth.eth.src_tree.eth.src.lg_raw[2]', 'eth.eth.src_tree.eth.src.lg_raw[3]', 'eth.eth.src_tree.eth.src.lg_raw[4]', 'eth.eth.src_tree.eth.src.lg', 'eth.eth.src_tree.eth.lg_raw[0]', 'eth.eth.src_tree.eth.lg_raw[1]', 'eth.eth.src_tree.eth.lg_raw[2]', 'eth.eth.src_tree.eth.lg_raw[3]', 'eth.eth.src_tree.eth.lg_raw[4]', 'eth.eth.src_tree.eth.lg', 'eth.eth.src_tree.eth.src.ig_raw[0]', 'eth.eth.src_tree.eth.src.ig_raw[1]', 'eth.eth.src_tree.eth.src.ig_raw[2]', 'eth.eth.src_tree.eth.src.ig_raw[3]', 'eth.eth.src_tree.eth.src.ig_raw[4]', 'eth.eth.src_tree.eth.src.ig', 'eth.eth.src_tree.eth.ig_raw[0]', 'eth.eth.src_tree.eth.ig_raw[1]', 'eth.eth.src_tree.eth.ig_raw[2]', 'eth.eth.src_tree.eth.ig_raw[3]', 'eth.eth.src_tree.eth.ig_raw[4]', 'eth.eth.src_tree.eth.ig']\n"
     ]
    },
    {
     "name": "stderr",
     "output_type": "stream",
     "text": [
      "C:\\Users\\User\\AppData\\Local\\Packages\\PythonSoftwareFoundation.Python.3.12_qbz5n2kfra8p0\\LocalCache\\local-packages\\Python312\\site-packages\\sklearn\\feature_selection\\_univariate_selection.py:112: UserWarning: Features [  0   2   9  10  12  13  14  15  18  19  20  21  23  24  25  26  29  30\n",
      "  31  32  35  36  37  38  40  41  42  43  46  47  48  49  52  53  54  55\n",
      "  58  59  60  61  64  65  66  67  70  71  72  73  76  77  78  79  81  82\n",
      "  83  84  87  88  89  90  92  93  94  95  98  99 100 101 103 104 105 106\n",
      " 109 110 111 112 113 114 115 116 117 118 119 120 121 122 123 124 125 126\n",
      " 127 128 129 130 131 132 133 134 135 136] are constant.\n",
      "  warnings.warn(\"Features %s are constant.\" % constant_features_idx, UserWarning)\n",
      "C:\\Users\\User\\AppData\\Local\\Packages\\PythonSoftwareFoundation.Python.3.12_qbz5n2kfra8p0\\LocalCache\\local-packages\\Python312\\site-packages\\sklearn\\feature_selection\\_univariate_selection.py:113: RuntimeWarning: invalid value encountered in divide\n",
      "  f = msb / msw\n"
     ]
    }
   ],
   "source": [
    "# Definire il numero di feature da selezionare\n",
    "k = 68\n",
    "\n",
    "# Applicare SelectKBest con la funzione di score f_classif (ANOVA)\n",
    "selector = SelectKBest(score_func=f_classif, k=k)\n",
    "X_new = selector.fit_transform(X_scaled, y)\n",
    "\n",
    "# Ottenere i punteggi delle features\n",
    "scores = selector.scores_\n",
    "\n",
    "# Ottenere le feature selezionate\n",
    "selected_features = selector.get_support(indices=True)\n",
    "\n",
    "# Ottenere i nomi delle colonne selezionate\n",
    "selected_feature_names = X.columns[selected_features].tolist()\n",
    "\n",
    "print(\"Le 68 features migliori selezionate dall'ANOVA sono:\")\n",
    "print(selected_feature_names)\n",
    "\n",
    "\n",
    "# Se desideri memorizzarle in una variabile lista\n",
    "features_list = selected_feature_names\n",
    "print(features_list)\n",
    "\n"
   ]
  },
  {
   "cell_type": "code",
   "execution_count": 19,
   "id": "5e800920",
   "metadata": {},
   "outputs": [
    {
     "name": "stdout",
     "output_type": "stream",
     "text": [
      "Colonne costanti:\n",
      "['frame.frame.encap_type', 'frame.frame.offset_shift', 'frame.frame.marked', 'frame.frame.ignored', 'eth.eth.dst_raw[1]', 'eth.eth.dst_raw[2]', 'eth.eth.dst_raw[3]', 'eth.eth.dst_raw[4]', 'eth.eth.dst_tree.eth.dst_resolved_raw[1]', 'eth.eth.dst_tree.eth.dst_resolved_raw[2]', 'eth.eth.dst_tree.eth.dst_resolved_raw[3]', 'eth.eth.dst_tree.eth.dst_resolved_raw[4]', 'eth.eth.dst_tree.eth.dst.oui_raw[1]', 'eth.eth.dst_tree.eth.dst.oui_raw[2]', 'eth.eth.dst_tree.eth.dst.oui_raw[3]', 'eth.eth.dst_tree.eth.dst.oui_raw[4]', 'eth.eth.dst_tree.eth.addr_raw[1]', 'eth.eth.dst_tree.eth.addr_raw[2]', 'eth.eth.dst_tree.eth.addr_raw[3]', 'eth.eth.dst_tree.eth.addr_raw[4]', 'eth.eth.dst_tree.eth.addr_resolved_raw[1]', 'eth.eth.dst_tree.eth.addr_resolved_raw[2]', 'eth.eth.dst_tree.eth.addr_resolved_raw[3]', 'eth.eth.dst_tree.eth.addr_resolved_raw[4]', 'eth.eth.dst_tree.eth.addr.oui_raw[1]', 'eth.eth.dst_tree.eth.addr.oui_raw[2]', 'eth.eth.dst_tree.eth.addr.oui_raw[3]', 'eth.eth.dst_tree.eth.addr.oui_raw[4]', 'eth.eth.dst_tree.eth.dst.lg_raw[1]', 'eth.eth.dst_tree.eth.dst.lg_raw[2]', 'eth.eth.dst_tree.eth.dst.lg_raw[3]', 'eth.eth.dst_tree.eth.dst.lg_raw[4]', 'eth.eth.dst_tree.eth.lg_raw[1]', 'eth.eth.dst_tree.eth.lg_raw[2]', 'eth.eth.dst_tree.eth.lg_raw[3]', 'eth.eth.dst_tree.eth.lg_raw[4]', 'eth.eth.dst_tree.eth.dst.ig_raw[1]', 'eth.eth.dst_tree.eth.dst.ig_raw[2]', 'eth.eth.dst_tree.eth.dst.ig_raw[3]', 'eth.eth.dst_tree.eth.dst.ig_raw[4]', 'eth.eth.dst_tree.eth.ig_raw[1]', 'eth.eth.dst_tree.eth.ig_raw[2]', 'eth.eth.dst_tree.eth.ig_raw[3]', 'eth.eth.dst_tree.eth.ig_raw[4]', 'eth.eth.src_raw[1]', 'eth.eth.src_raw[2]', 'eth.eth.src_raw[3]', 'eth.eth.src_raw[4]', 'eth.eth.src_tree.eth.src_resolved_raw[1]', 'eth.eth.src_tree.eth.src_resolved_raw[2]', 'eth.eth.src_tree.eth.src_resolved_raw[3]', 'eth.eth.src_tree.eth.src_resolved_raw[4]', 'eth.eth.src_tree.eth.src.oui_raw[1]', 'eth.eth.src_tree.eth.src.oui_raw[2]', 'eth.eth.src_tree.eth.src.oui_raw[3]', 'eth.eth.src_tree.eth.src.oui_raw[4]', 'eth.eth.src_tree.eth.src.oui_resolved_raw[1]', 'eth.eth.src_tree.eth.src.oui_resolved_raw[2]', 'eth.eth.src_tree.eth.src.oui_resolved_raw[3]', 'eth.eth.src_tree.eth.src.oui_resolved_raw[4]', 'eth.eth.src_tree.eth.addr_raw[1]', 'eth.eth.src_tree.eth.addr_raw[2]', 'eth.eth.src_tree.eth.addr_raw[3]', 'eth.eth.src_tree.eth.addr_raw[4]', 'eth.eth.src_tree.eth.addr_resolved_raw[1]', 'eth.eth.src_tree.eth.addr_resolved_raw[2]', 'eth.eth.src_tree.eth.addr_resolved_raw[3]', 'eth.eth.src_tree.eth.addr_resolved_raw[4]', 'eth.eth.src_tree.eth.addr.oui_raw[1]', 'eth.eth.src_tree.eth.addr.oui_raw[2]', 'eth.eth.src_tree.eth.addr.oui_raw[3]', 'eth.eth.src_tree.eth.addr.oui_raw[4]', 'eth.eth.src_tree.eth.addr.oui_resolved_raw[1]', 'eth.eth.src_tree.eth.addr.oui_resolved_raw[2]', 'eth.eth.src_tree.eth.addr.oui_resolved_raw[3]', 'eth.eth.src_tree.eth.addr.oui_resolved_raw[4]', 'eth.eth.src_tree.eth.src.lg_raw[0]', 'eth.eth.src_tree.eth.src.lg_raw[1]', 'eth.eth.src_tree.eth.src.lg_raw[2]', 'eth.eth.src_tree.eth.src.lg_raw[3]', 'eth.eth.src_tree.eth.src.lg_raw[4]', 'eth.eth.src_tree.eth.src.lg', 'eth.eth.src_tree.eth.lg_raw[0]', 'eth.eth.src_tree.eth.lg_raw[1]', 'eth.eth.src_tree.eth.lg_raw[2]', 'eth.eth.src_tree.eth.lg_raw[3]', 'eth.eth.src_tree.eth.lg_raw[4]', 'eth.eth.src_tree.eth.lg', 'eth.eth.src_tree.eth.src.ig_raw[0]', 'eth.eth.src_tree.eth.src.ig_raw[1]', 'eth.eth.src_tree.eth.src.ig_raw[2]', 'eth.eth.src_tree.eth.src.ig_raw[3]', 'eth.eth.src_tree.eth.src.ig_raw[4]', 'eth.eth.src_tree.eth.src.ig', 'eth.eth.src_tree.eth.ig_raw[0]', 'eth.eth.src_tree.eth.ig_raw[1]', 'eth.eth.src_tree.eth.ig_raw[2]', 'eth.eth.src_tree.eth.ig_raw[3]', 'eth.eth.src_tree.eth.ig_raw[4]', 'eth.eth.src_tree.eth.ig']\n",
      "Punteggi delle Features:\n",
      "                                          Feature         Score\n",
      "0                          frame.frame.time_epoch  5.900746e+12\n",
      "3                       frame.frame.time_relative  8.255944e+04\n",
      "4                              frame.frame.number  7.653583e+04\n",
      "5                                 frame.frame.len  6.328046e+03\n",
      "6                             frame.frame.cap_len  6.328046e+03\n",
      "17             eth.eth.dst_tree.eth.dst.lg_raw[0]  7.784643e+02\n",
      "20                        eth.eth.dst_tree.eth.lg  7.784643e+02\n",
      "19                 eth.eth.dst_tree.eth.lg_raw[0]  7.784643e+02\n",
      "18                    eth.eth.dst_tree.eth.dst.lg  7.784643e+02\n",
      "36  eth.eth.src_tree.eth.addr.oui_resolved_raw[0]  6.641036e+02\n",
      "33      eth.eth.src_tree.eth.addr_resolved_raw[0]  6.641036e+02\n",
      "32                      eth.eth.src_tree.eth.addr  6.641036e+02\n",
      "31               eth.eth.src_tree.eth.addr_raw[0]  6.641036e+02\n",
      "30   eth.eth.src_tree.eth.src.oui_resolved_raw[0]  6.641036e+02\n",
      "27       eth.eth.src_tree.eth.src_resolved_raw[0]  6.641036e+02\n",
      "26                                    eth.eth.src  6.641036e+02\n",
      "25                             eth.eth.src_raw[0]  6.641036e+02\n",
      "35                  eth.eth.src_tree.eth.addr.oui  6.641030e+02\n",
      "34           eth.eth.src_tree.eth.addr.oui_raw[0]  6.641030e+02\n",
      "29                   eth.eth.src_tree.eth.src.oui  6.641030e+02\n",
      "28            eth.eth.src_tree.eth.src.oui_raw[0]  6.641030e+02\n",
      "24                        eth.eth.dst_tree.eth.ig  2.797767e+02\n",
      "23                 eth.eth.dst_tree.eth.ig_raw[0]  2.797767e+02\n",
      "22                    eth.eth.dst_tree.eth.dst.ig  2.797767e+02\n",
      "21             eth.eth.dst_tree.eth.dst.ig_raw[0]  2.797767e+02\n",
      "2                frame.frame.time_delta_displayed  1.468682e+02\n",
      "1                          frame.frame.time_delta  1.468682e+02\n",
      "7                              eth.eth.dst_raw[0]  7.604695e+01\n",
      "8                                     eth.eth.dst  7.604695e+01\n",
      "14      eth.eth.dst_tree.eth.addr_resolved_raw[0]  7.604695e+01\n",
      "13                      eth.eth.dst_tree.eth.addr  7.604695e+01\n",
      "12               eth.eth.dst_tree.eth.addr_raw[0]  7.604695e+01\n",
      "9        eth.eth.dst_tree.eth.dst_resolved_raw[0]  7.604695e+01\n",
      "10            eth.eth.dst_tree.eth.dst.oui_raw[0]  7.604685e+01\n",
      "16                  eth.eth.dst_tree.eth.addr.oui  7.604685e+01\n",
      "15           eth.eth.dst_tree.eth.addr.oui_raw[0]  7.604685e+01\n",
      "11                   eth.eth.dst_tree.eth.dst.oui  7.604685e+01\n",
      "\n",
      "Le 68 features migliori selezionate dall'ANOVA sono:\n",
      "['frame.frame.time_epoch', 'frame.frame.time_delta', 'frame.frame.time_delta_displayed', 'frame.frame.time_relative', 'frame.frame.number', 'frame.frame.len', 'frame.frame.cap_len', 'eth.eth.dst_raw[0]', 'eth.eth.dst', 'eth.eth.dst_tree.eth.dst_resolved_raw[0]', 'eth.eth.dst_tree.eth.dst.oui_raw[0]', 'eth.eth.dst_tree.eth.dst.oui', 'eth.eth.dst_tree.eth.addr_raw[0]', 'eth.eth.dst_tree.eth.addr', 'eth.eth.dst_tree.eth.addr_resolved_raw[0]', 'eth.eth.dst_tree.eth.addr.oui_raw[0]', 'eth.eth.dst_tree.eth.addr.oui', 'eth.eth.dst_tree.eth.dst.lg_raw[0]', 'eth.eth.dst_tree.eth.dst.lg', 'eth.eth.dst_tree.eth.lg_raw[0]', 'eth.eth.dst_tree.eth.lg', 'eth.eth.dst_tree.eth.dst.ig_raw[0]', 'eth.eth.dst_tree.eth.dst.ig', 'eth.eth.dst_tree.eth.ig_raw[0]', 'eth.eth.dst_tree.eth.ig', 'eth.eth.src_raw[0]', 'eth.eth.src', 'eth.eth.src_tree.eth.src_resolved_raw[0]', 'eth.eth.src_tree.eth.src.oui_raw[0]', 'eth.eth.src_tree.eth.src.oui', 'eth.eth.src_tree.eth.src.oui_resolved_raw[0]', 'eth.eth.src_tree.eth.addr_raw[0]', 'eth.eth.src_tree.eth.addr', 'eth.eth.src_tree.eth.addr_resolved_raw[0]', 'eth.eth.src_tree.eth.addr.oui_raw[0]', 'eth.eth.src_tree.eth.addr.oui', 'eth.eth.src_tree.eth.addr.oui_resolved_raw[0]']\n"
     ]
    },
    {
     "name": "stderr",
     "output_type": "stream",
     "text": [
      "C:\\Users\\User\\AppData\\Local\\Packages\\PythonSoftwareFoundation.Python.3.12_qbz5n2kfra8p0\\LocalCache\\local-packages\\Python312\\site-packages\\sklearn\\feature_selection\\_univariate_selection.py:776: UserWarning: k=68 is greater than n_features=37. All the features will be returned.\n",
      "  warnings.warn(\n"
     ]
    }
   ],
   "source": [
    "import pandas as pd\n",
    "from sklearn.feature_selection import SelectKBest, f_classif\n",
    "from sklearn.preprocessing import StandardScaler\n",
    "\n",
    "# Supponiamo che 'df' sia il tuo DataFrame e 'label' sia la colonna target\n",
    "X = df_colonne_senza_nan.drop(columns=['label'])\n",
    "y = df_colonne_senza_nan['label']\n",
    "\n",
    "# Identifica le colonne costanti\n",
    "constant_features = [col for col in X.columns if X[col].nunique() == 1]\n",
    "print(\"Colonne costanti:\")\n",
    "print(constant_features)\n",
    "\n",
    "# Rimuovi le colonne costanti\n",
    "X = X.drop(columns=constant_features)\n",
    "\n",
    "# Normalizza le features\n",
    "scaler = StandardScaler()\n",
    "X_scaled = scaler.fit_transform(X)\n",
    "\n",
    "# Definisci il numero di feature da selezionare\n",
    "k = 68\n",
    "\n",
    "# Applicare SelectKBest con ANOVA\n",
    "selector = SelectKBest(score_func=f_classif, k=k)\n",
    "X_new = selector.fit_transform(X_scaled, y)\n",
    "\n",
    "# Ottenere gli indici delle feature selezionate\n",
    "selected_features_indices = selector.get_support(indices=True)\n",
    "\n",
    "# Ottenere i punteggi delle features\n",
    "feature_scores = selector.scores_\n",
    "\n",
    "# Ottenere i nomi delle colonne selezionate\n",
    "selected_feature_names = X.columns[selected_features_indices].tolist()\n",
    "\n",
    "# Creare un DataFrame per visualizzare i punteggi\n",
    "scores_df = pd.DataFrame({\n",
    "    'Feature': X.columns,\n",
    "    'Score': feature_scores\n",
    "})\n",
    "\n",
    "# Ordinare i punteggi in ordine decrescente\n",
    "scores_df = scores_df.sort_values(by='Score', ascending=False)\n",
    "\n",
    "# Visualizzare i punteggi e i nomi delle features selezionate\n",
    "print(\"Punteggi delle Features:\")\n",
    "print(scores_df)\n",
    "\n",
    "print(\"\\nLe 68 features migliori selezionate dall'ANOVA sono:\")\n",
    "print(selected_feature_names)\n",
    "\n"
   ]
  },
  {
   "cell_type": "code",
   "execution_count": 20,
   "id": "c719d1dc",
   "metadata": {},
   "outputs": [
    {
     "name": "stdout",
     "output_type": "stream",
     "text": [
      "['frame.frame.time_epoch', 'frame.frame.time_delta', 'frame.frame.time_delta_displayed', 'frame.frame.time_relative', 'frame.frame.number', 'frame.frame.len', 'frame.frame.cap_len', 'eth.eth.dst_raw[0]', 'eth.eth.dst', 'eth.eth.dst_tree.eth.dst_resolved_raw[0]', 'eth.eth.dst_tree.eth.dst.oui_raw[0]', 'eth.eth.dst_tree.eth.dst.oui', 'eth.eth.dst_tree.eth.addr_raw[0]', 'eth.eth.dst_tree.eth.addr', 'eth.eth.dst_tree.eth.addr_resolved_raw[0]', 'eth.eth.dst_tree.eth.addr.oui_raw[0]', 'eth.eth.dst_tree.eth.addr.oui', 'eth.eth.dst_tree.eth.dst.lg_raw[0]', 'eth.eth.dst_tree.eth.dst.lg', 'eth.eth.dst_tree.eth.lg_raw[0]', 'eth.eth.dst_tree.eth.lg', 'eth.eth.dst_tree.eth.dst.ig_raw[0]', 'eth.eth.dst_tree.eth.dst.ig', 'eth.eth.dst_tree.eth.ig_raw[0]', 'eth.eth.dst_tree.eth.ig', 'eth.eth.src_raw[0]', 'eth.eth.src', 'eth.eth.src_tree.eth.src_resolved_raw[0]', 'eth.eth.src_tree.eth.src.oui_raw[0]', 'eth.eth.src_tree.eth.src.oui', 'eth.eth.src_tree.eth.src.oui_resolved_raw[0]', 'eth.eth.src_tree.eth.addr_raw[0]', 'eth.eth.src_tree.eth.addr', 'eth.eth.src_tree.eth.addr_resolved_raw[0]', 'eth.eth.src_tree.eth.addr.oui_raw[0]', 'eth.eth.src_tree.eth.addr.oui', 'eth.eth.src_tree.eth.addr.oui_resolved_raw[0]']\n",
      "37\n"
     ]
    }
   ],
   "source": [
    "listel=selected_feature_names\n",
    "print(listel)\n",
    "print(len(listel))"
   ]
  },
  {
   "cell_type": "code",
   "execution_count": 21,
   "id": "00c8e0e4",
   "metadata": {},
   "outputs": [],
   "source": [
    "df_clean=df_clean[listel]\n",
    "df_pf_1m_05h=df_pf_1m_05h[listel]"
   ]
  },
  {
   "cell_type": "code",
   "execution_count": 22,
   "id": "be6f3765",
   "metadata": {},
   "outputs": [
    {
     "ename": "TypeError",
     "evalue": "df_convert() takes 1 positional argument but 2 were given",
     "output_type": "error",
     "traceback": [
      "\u001b[1;31m---------------------------------------------------------------------------\u001b[0m",
      "\u001b[1;31mTypeError\u001b[0m                                 Traceback (most recent call last)",
      "Cell \u001b[1;32mIn[22], line 1\u001b[0m\n\u001b[1;32m----> 1\u001b[0m df_clean\u001b[38;5;241m=\u001b[39m\u001b[43mfn\u001b[49m\u001b[38;5;241;43m.\u001b[39;49m\u001b[43mdf_convert\u001b[49m\u001b[43m(\u001b[49m\u001b[43mdf_clean\u001b[49m\u001b[43m,\u001b[49m\u001b[43mlistel\u001b[49m\u001b[43m)\u001b[49m\n\u001b[0;32m      2\u001b[0m df_pf_1m_05h\u001b[38;5;241m=\u001b[39mfn\u001b[38;5;241m.\u001b[39mdf_convert(df_pf_1m_05h,listel)\n",
      "\u001b[1;31mTypeError\u001b[0m: df_convert() takes 1 positional argument but 2 were given"
     ]
    }
   ],
   "source": [
    "df_clean=fn.df_convert(df_clean,listel)\n",
    "df_pf_1m_05h=fn.df_convert(df_pf_1m_05h,listel)"
   ]
  },
  {
   "cell_type": "code",
   "execution_count": 29,
   "id": "f08d02d1",
   "metadata": {},
   "outputs": [
    {
     "name": "stdout",
     "output_type": "stream",
     "text": [
      "frame.frame.time_epoch                           timedelta64[ns]\n",
      "frame.frame.time_delta                                    object\n",
      "frame.frame.time_delta_displayed                          object\n",
      "frame.frame.time_relative                                 object\n",
      "frame.frame.number                                        object\n",
      "frame.frame.len                                           object\n",
      "frame.frame.cap_len                                       object\n",
      "eth.eth.dst_raw[0]                                        object\n",
      "eth.eth.dst                                               object\n",
      "eth.eth.dst_tree.eth.dst_resolved_raw[0]                  object\n",
      "eth.eth.dst_tree.eth.dst.oui_raw[0]                       object\n",
      "eth.eth.dst_tree.eth.dst.oui                              object\n",
      "eth.eth.dst_tree.eth.addr_raw[0]                          object\n",
      "eth.eth.dst_tree.eth.addr                                 object\n",
      "eth.eth.dst_tree.eth.addr_resolved_raw[0]                 object\n",
      "eth.eth.dst_tree.eth.addr.oui_raw[0]                      object\n",
      "eth.eth.dst_tree.eth.addr.oui                             object\n",
      "eth.eth.dst_tree.eth.dst.lg_raw[0]                        object\n",
      "eth.eth.dst_tree.eth.dst.lg                               object\n",
      "eth.eth.dst_tree.eth.lg_raw[0]                            object\n",
      "eth.eth.dst_tree.eth.lg                                   object\n",
      "eth.eth.dst_tree.eth.dst.ig_raw[0]                        object\n",
      "eth.eth.dst_tree.eth.dst.ig                               object\n",
      "eth.eth.dst_tree.eth.ig_raw[0]                            object\n",
      "eth.eth.dst_tree.eth.ig                                   object\n",
      "eth.eth.src_raw[0]                                        object\n",
      "eth.eth.src                                               object\n",
      "eth.eth.src_tree.eth.src_resolved_raw[0]                  object\n",
      "eth.eth.src_tree.eth.src.oui_raw[0]                       object\n",
      "eth.eth.src_tree.eth.src.oui                              object\n",
      "eth.eth.src_tree.eth.src.oui_resolved_raw[0]              object\n",
      "eth.eth.src_tree.eth.addr_raw[0]                          object\n",
      "eth.eth.src_tree.eth.addr                                 object\n",
      "eth.eth.src_tree.eth.addr_resolved_raw[0]                 object\n",
      "eth.eth.src_tree.eth.addr.oui_raw[0]                      object\n",
      "eth.eth.src_tree.eth.addr.oui                             object\n",
      "eth.eth.src_tree.eth.addr.oui_resolved_raw[0]             object\n",
      "capture_id                                                 int32\n",
      "label                                                      int64\n",
      "dtype: object\n"
     ]
    }
   ],
   "source": [
    "print(df_clean.dtypes)"
   ]
  },
  {
   "cell_type": "code",
   "execution_count": 23,
   "id": "092871bd",
   "metadata": {},
   "outputs": [],
   "source": [
    "\n",
    "# Supponiamo che df_clean e df_pf_1m_05h siano i tuoi DataFrame\n",
    "\n",
    "# Converti gli interi in pd.Timedelta, se necessario\n",
    "\n",
    "df_clean['frame.frame.time_epoch'] = pd.to_timedelta(df_clean['frame.frame.time_epoch'], unit='s')\n",
    "df_pf_1m_05h['frame.frame.time_epoch'] = pd.to_timedelta(df_pf_1m_05h['frame.frame.time_epoch'], unit='s')"
   ]
  },
  {
   "cell_type": "code",
   "execution_count": 27,
   "id": "0396aa97",
   "metadata": {},
   "outputs": [],
   "source": [
    "# Calcola i cambiamenti di tempo\n",
    "df_clean['capture_id'] = (df_clean['frame.frame.time_epoch'].diff() > pd.Timedelta(seconds=60)).cumsum()\n",
    "df_pf_1m_05h['capture_id'] = (df_pf_1m_05h['frame.frame.time_epoch'].diff() > pd.Timedelta(seconds=60)).cumsum()\n"
   ]
  },
  {
   "cell_type": "code",
   "execution_count": 25,
   "id": "ea5cc236",
   "metadata": {},
   "outputs": [],
   "source": [
    "df_clean['label'] = 0\n",
    "df_pf_1m_05h['label'] = 1"
   ]
  },
  {
   "cell_type": "code",
   "execution_count": 26,
   "id": "e27c80c7",
   "metadata": {},
   "outputs": [
    {
     "ename": "AttributeError",
     "evalue": "Can only use .str accessor with string values!",
     "output_type": "error",
     "traceback": [
      "\u001b[1;31m---------------------------------------------------------------------------\u001b[0m",
      "\u001b[1;31mAttributeError\u001b[0m                            Traceback (most recent call last)",
      "Cell \u001b[1;32mIn[26], line 1\u001b[0m\n\u001b[1;32m----> 1\u001b[0m df_clean\u001b[38;5;241m=\u001b[39m\u001b[43mfn\u001b[49m\u001b[38;5;241;43m.\u001b[39;49m\u001b[43mdf_convert\u001b[49m\u001b[43m(\u001b[49m\u001b[43mdf_clean\u001b[49m\u001b[43m,\u001b[49m\u001b[43m \u001b[49m\u001b[43mlistel\u001b[49m\u001b[43m)\u001b[49m\n\u001b[0;32m      2\u001b[0m df_pf_1m_05h\u001b[38;5;241m=\u001b[39mfn\u001b[38;5;241m.\u001b[39mdf_convert(df_pf_1m_05h, listel)\n",
      "File \u001b[1;32mc:\\Users\\User\\Desktop\\manprev2324\\manprev2324\\functions_notebook_new.py:153\u001b[0m, in \u001b[0;36mdf_convert\u001b[1;34m(dataframe, elementi)\u001b[0m\n\u001b[0;32m    150\u001b[0m \u001b[38;5;28;01mfor\u001b[39;00m field \u001b[38;5;129;01min\u001b[39;00m mactohex:\n\u001b[0;32m    151\u001b[0m     \u001b[38;5;28;01mif\u001b[39;00m field \u001b[38;5;129;01min\u001b[39;00m dataframe\u001b[38;5;241m.\u001b[39mcolumns \u001b[38;5;129;01mand\u001b[39;00m field \u001b[38;5;129;01min\u001b[39;00m elementi:\n\u001b[0;32m    152\u001b[0m         \u001b[38;5;66;03m# Rimuove i due punti dagli indirizzi MAC e converte\u001b[39;00m\n\u001b[1;32m--> 153\u001b[0m         dataframe\u001b[38;5;241m.\u001b[39mloc[:, field] \u001b[38;5;241m=\u001b[39m \u001b[43mdataframe\u001b[49m\u001b[43m[\u001b[49m\u001b[43mfield\u001b[49m\u001b[43m]\u001b[49m\u001b[38;5;241;43m.\u001b[39;49m\u001b[43mstr\u001b[49m\u001b[38;5;241m.\u001b[39mreplace(\u001b[38;5;124m\"\u001b[39m\u001b[38;5;124m:\u001b[39m\u001b[38;5;124m\"\u001b[39m, \u001b[38;5;124m\"\u001b[39m\u001b[38;5;124m\"\u001b[39m, regex\u001b[38;5;241m=\u001b[39m\u001b[38;5;28;01mFalse\u001b[39;00m)\n\u001b[0;32m    154\u001b[0m         dataframe\u001b[38;5;241m.\u001b[39mloc[:, field] \u001b[38;5;241m=\u001b[39m dataframe[field]\u001b[38;5;241m.\u001b[39mapply(\u001b[38;5;28;01mlambda\u001b[39;00m x: \u001b[38;5;28mint\u001b[39m(x, \u001b[38;5;241m16\u001b[39m) \u001b[38;5;28;01mif\u001b[39;00m pd\u001b[38;5;241m.\u001b[39mnotnull(x) \u001b[38;5;129;01mand\u001b[39;00m \u001b[38;5;28misinstance\u001b[39m(x, \u001b[38;5;28mstr\u001b[39m) \u001b[38;5;28;01melse\u001b[39;00m \u001b[38;5;241m0\u001b[39m)\n\u001b[0;32m    158\u001b[0m \u001b[38;5;66;03m# Conversione in float\u001b[39;00m\n",
      "File \u001b[1;32m~\\AppData\\Local\\Packages\\PythonSoftwareFoundation.Python.3.12_qbz5n2kfra8p0\\LocalCache\\local-packages\\Python312\\site-packages\\pandas\\core\\generic.py:6296\u001b[0m, in \u001b[0;36mNDFrame.__getattr__\u001b[1;34m(self, name)\u001b[0m\n\u001b[0;32m   6289\u001b[0m \u001b[38;5;28;01mif\u001b[39;00m (\n\u001b[0;32m   6290\u001b[0m     name \u001b[38;5;129;01mnot\u001b[39;00m \u001b[38;5;129;01min\u001b[39;00m \u001b[38;5;28mself\u001b[39m\u001b[38;5;241m.\u001b[39m_internal_names_set\n\u001b[0;32m   6291\u001b[0m     \u001b[38;5;129;01mand\u001b[39;00m name \u001b[38;5;129;01mnot\u001b[39;00m \u001b[38;5;129;01min\u001b[39;00m \u001b[38;5;28mself\u001b[39m\u001b[38;5;241m.\u001b[39m_metadata\n\u001b[0;32m   6292\u001b[0m     \u001b[38;5;129;01mand\u001b[39;00m name \u001b[38;5;129;01mnot\u001b[39;00m \u001b[38;5;129;01min\u001b[39;00m \u001b[38;5;28mself\u001b[39m\u001b[38;5;241m.\u001b[39m_accessors\n\u001b[0;32m   6293\u001b[0m     \u001b[38;5;129;01mand\u001b[39;00m \u001b[38;5;28mself\u001b[39m\u001b[38;5;241m.\u001b[39m_info_axis\u001b[38;5;241m.\u001b[39m_can_hold_identifiers_and_holds_name(name)\n\u001b[0;32m   6294\u001b[0m ):\n\u001b[0;32m   6295\u001b[0m     \u001b[38;5;28;01mreturn\u001b[39;00m \u001b[38;5;28mself\u001b[39m[name]\n\u001b[1;32m-> 6296\u001b[0m \u001b[38;5;28;01mreturn\u001b[39;00m \u001b[38;5;28;43mobject\u001b[39;49m\u001b[38;5;241;43m.\u001b[39;49m\u001b[38;5;21;43m__getattribute__\u001b[39;49m\u001b[43m(\u001b[49m\u001b[38;5;28;43mself\u001b[39;49m\u001b[43m,\u001b[49m\u001b[43m \u001b[49m\u001b[43mname\u001b[49m\u001b[43m)\u001b[49m\n",
      "File \u001b[1;32m~\\AppData\\Local\\Packages\\PythonSoftwareFoundation.Python.3.12_qbz5n2kfra8p0\\LocalCache\\local-packages\\Python312\\site-packages\\pandas\\core\\accessor.py:224\u001b[0m, in \u001b[0;36mCachedAccessor.__get__\u001b[1;34m(self, obj, cls)\u001b[0m\n\u001b[0;32m    221\u001b[0m \u001b[38;5;28;01mif\u001b[39;00m obj \u001b[38;5;129;01mis\u001b[39;00m \u001b[38;5;28;01mNone\u001b[39;00m:\n\u001b[0;32m    222\u001b[0m     \u001b[38;5;66;03m# we're accessing the attribute of the class, i.e., Dataset.geo\u001b[39;00m\n\u001b[0;32m    223\u001b[0m     \u001b[38;5;28;01mreturn\u001b[39;00m \u001b[38;5;28mself\u001b[39m\u001b[38;5;241m.\u001b[39m_accessor\n\u001b[1;32m--> 224\u001b[0m accessor_obj \u001b[38;5;241m=\u001b[39m \u001b[38;5;28;43mself\u001b[39;49m\u001b[38;5;241;43m.\u001b[39;49m\u001b[43m_accessor\u001b[49m\u001b[43m(\u001b[49m\u001b[43mobj\u001b[49m\u001b[43m)\u001b[49m\n\u001b[0;32m    225\u001b[0m \u001b[38;5;66;03m# Replace the property with the accessor object. Inspired by:\u001b[39;00m\n\u001b[0;32m    226\u001b[0m \u001b[38;5;66;03m# https://www.pydanny.com/cached-property.html\u001b[39;00m\n\u001b[0;32m    227\u001b[0m \u001b[38;5;66;03m# We need to use object.__setattr__ because we overwrite __setattr__ on\u001b[39;00m\n\u001b[0;32m    228\u001b[0m \u001b[38;5;66;03m# NDFrame\u001b[39;00m\n\u001b[0;32m    229\u001b[0m \u001b[38;5;28mobject\u001b[39m\u001b[38;5;241m.\u001b[39m\u001b[38;5;21m__setattr__\u001b[39m(obj, \u001b[38;5;28mself\u001b[39m\u001b[38;5;241m.\u001b[39m_name, accessor_obj)\n",
      "File \u001b[1;32m~\\AppData\\Local\\Packages\\PythonSoftwareFoundation.Python.3.12_qbz5n2kfra8p0\\LocalCache\\local-packages\\Python312\\site-packages\\pandas\\core\\strings\\accessor.py:191\u001b[0m, in \u001b[0;36mStringMethods.__init__\u001b[1;34m(self, data)\u001b[0m\n\u001b[0;32m    188\u001b[0m \u001b[38;5;28;01mdef\u001b[39;00m \u001b[38;5;21m__init__\u001b[39m(\u001b[38;5;28mself\u001b[39m, data) \u001b[38;5;241m-\u001b[39m\u001b[38;5;241m>\u001b[39m \u001b[38;5;28;01mNone\u001b[39;00m:\n\u001b[0;32m    189\u001b[0m     \u001b[38;5;28;01mfrom\u001b[39;00m \u001b[38;5;21;01mpandas\u001b[39;00m\u001b[38;5;21;01m.\u001b[39;00m\u001b[38;5;21;01mcore\u001b[39;00m\u001b[38;5;21;01m.\u001b[39;00m\u001b[38;5;21;01marrays\u001b[39;00m\u001b[38;5;21;01m.\u001b[39;00m\u001b[38;5;21;01mstring_\u001b[39;00m \u001b[38;5;28;01mimport\u001b[39;00m StringDtype\n\u001b[1;32m--> 191\u001b[0m     \u001b[38;5;28mself\u001b[39m\u001b[38;5;241m.\u001b[39m_inferred_dtype \u001b[38;5;241m=\u001b[39m \u001b[38;5;28;43mself\u001b[39;49m\u001b[38;5;241;43m.\u001b[39;49m\u001b[43m_validate\u001b[49m\u001b[43m(\u001b[49m\u001b[43mdata\u001b[49m\u001b[43m)\u001b[49m\n\u001b[0;32m    192\u001b[0m     \u001b[38;5;28mself\u001b[39m\u001b[38;5;241m.\u001b[39m_is_categorical \u001b[38;5;241m=\u001b[39m \u001b[38;5;28misinstance\u001b[39m(data\u001b[38;5;241m.\u001b[39mdtype, CategoricalDtype)\n\u001b[0;32m    193\u001b[0m     \u001b[38;5;28mself\u001b[39m\u001b[38;5;241m.\u001b[39m_is_string \u001b[38;5;241m=\u001b[39m \u001b[38;5;28misinstance\u001b[39m(data\u001b[38;5;241m.\u001b[39mdtype, StringDtype)\n",
      "File \u001b[1;32m~\\AppData\\Local\\Packages\\PythonSoftwareFoundation.Python.3.12_qbz5n2kfra8p0\\LocalCache\\local-packages\\Python312\\site-packages\\pandas\\core\\strings\\accessor.py:245\u001b[0m, in \u001b[0;36mStringMethods._validate\u001b[1;34m(data)\u001b[0m\n\u001b[0;32m    242\u001b[0m inferred_dtype \u001b[38;5;241m=\u001b[39m lib\u001b[38;5;241m.\u001b[39minfer_dtype(values, skipna\u001b[38;5;241m=\u001b[39m\u001b[38;5;28;01mTrue\u001b[39;00m)\n\u001b[0;32m    244\u001b[0m \u001b[38;5;28;01mif\u001b[39;00m inferred_dtype \u001b[38;5;129;01mnot\u001b[39;00m \u001b[38;5;129;01min\u001b[39;00m allowed_types:\n\u001b[1;32m--> 245\u001b[0m     \u001b[38;5;28;01mraise\u001b[39;00m \u001b[38;5;167;01mAttributeError\u001b[39;00m(\u001b[38;5;124m\"\u001b[39m\u001b[38;5;124mCan only use .str accessor with string values!\u001b[39m\u001b[38;5;124m\"\u001b[39m)\n\u001b[0;32m    246\u001b[0m \u001b[38;5;28;01mreturn\u001b[39;00m inferred_dtype\n",
      "\u001b[1;31mAttributeError\u001b[0m: Can only use .str accessor with string values!"
     ]
    }
   ],
   "source": [
    "df_clean=fn.df_convert(df_clean, listel)\n",
    "df_pf_1m_05h=fn.df_convert(df_pf_1m_05h, listel)"
   ]
  },
  {
   "cell_type": "code",
   "execution_count": 26,
   "id": "e363190b",
   "metadata": {},
   "outputs": [],
   "source": [
    "concat = pd.concat([df_clean, df_pf_1m_05h], axis=0)"
   ]
  },
  {
   "cell_type": "code",
   "execution_count": 27,
   "id": "bc05977c",
   "metadata": {},
   "outputs": [
    {
     "name": "stdout",
     "output_type": "stream",
     "text": [
      "['frame.frame.time_epoch', 'frame.frame.time_delta', 'frame.frame.time_delta_displayed', 'frame.frame.time_relative', 'frame.frame.number', 'frame.frame.len', 'frame.frame.cap_len', 'eth.eth.dst_raw[0]', 'eth.eth.dst', 'eth.eth.dst_tree.eth.dst_resolved_raw[0]', 'eth.eth.dst_tree.eth.dst.oui_raw[0]', 'eth.eth.dst_tree.eth.dst.oui', 'eth.eth.dst_tree.eth.addr_raw[0]', 'eth.eth.dst_tree.eth.addr', 'eth.eth.dst_tree.eth.addr_resolved_raw[0]', 'eth.eth.dst_tree.eth.addr.oui_raw[0]', 'eth.eth.dst_tree.eth.addr.oui', 'eth.eth.dst_tree.eth.dst.lg_raw[0]', 'eth.eth.dst_tree.eth.dst.lg', 'eth.eth.dst_tree.eth.lg_raw[0]', 'eth.eth.dst_tree.eth.lg', 'eth.eth.dst_tree.eth.dst.ig_raw[0]', 'eth.eth.dst_tree.eth.dst.ig', 'eth.eth.dst_tree.eth.ig_raw[0]', 'eth.eth.dst_tree.eth.ig', 'eth.eth.src_raw[0]', 'eth.eth.src', 'eth.eth.src_tree.eth.src_resolved_raw[0]', 'eth.eth.src_tree.eth.src.oui_raw[0]', 'eth.eth.src_tree.eth.src.oui', 'eth.eth.src_tree.eth.src.oui_resolved_raw[0]', 'eth.eth.src_tree.eth.addr_raw[0]', 'eth.eth.src_tree.eth.addr', 'eth.eth.src_tree.eth.addr_resolved_raw[0]', 'eth.eth.src_tree.eth.addr.oui_raw[0]', 'eth.eth.src_tree.eth.addr.oui', 'eth.eth.src_tree.eth.addr.oui_resolved_raw[0]', 'capture_id', 'label']\n"
     ]
    }
   ],
   "source": [
    "print(concat.columns.tolist())"
   ]
  },
  {
   "cell_type": "code",
   "execution_count": 28,
   "id": "32411e64",
   "metadata": {},
   "outputs": [],
   "source": [
    "concat['group_id']=concat.groupby(['capture_id', 'label']).ngroup()\n",
    "\n",
    "\n"
   ]
  },
  {
   "cell_type": "code",
   "execution_count": 29,
   "id": "08433203",
   "metadata": {},
   "outputs": [
    {
     "ename": "AttributeError",
     "evalue": "Can only use .str accessor with string values!",
     "output_type": "error",
     "traceback": [
      "\u001b[1;31m---------------------------------------------------------------------------\u001b[0m",
      "\u001b[1;31mAttributeError\u001b[0m                            Traceback (most recent call last)",
      "Cell \u001b[1;32mIn[29], line 1\u001b[0m\n\u001b[1;32m----> 1\u001b[0m \u001b[43mfn\u001b[49m\u001b[38;5;241;43m.\u001b[39;49m\u001b[43mdf_convert\u001b[49m\u001b[43m(\u001b[49m\u001b[43mconcat\u001b[49m\u001b[43m,\u001b[49m\u001b[43mlistel\u001b[49m\u001b[43m)\u001b[49m\n",
      "File \u001b[1;32mc:\\Users\\User\\Desktop\\manprev2324\\manprev2324\\functions_notebook_new.py:153\u001b[0m, in \u001b[0;36mdf_convert\u001b[1;34m(dataframe, elementi)\u001b[0m\n\u001b[0;32m    150\u001b[0m \u001b[38;5;28;01mfor\u001b[39;00m field \u001b[38;5;129;01min\u001b[39;00m mactohex:\n\u001b[0;32m    151\u001b[0m     \u001b[38;5;28;01mif\u001b[39;00m field \u001b[38;5;129;01min\u001b[39;00m dataframe\u001b[38;5;241m.\u001b[39mcolumns \u001b[38;5;129;01mand\u001b[39;00m field \u001b[38;5;129;01min\u001b[39;00m elementi:\n\u001b[0;32m    152\u001b[0m         \u001b[38;5;66;03m# Rimuove i due punti dagli indirizzi MAC e converte\u001b[39;00m\n\u001b[1;32m--> 153\u001b[0m         dataframe\u001b[38;5;241m.\u001b[39mloc[:, field] \u001b[38;5;241m=\u001b[39m \u001b[43mdataframe\u001b[49m\u001b[43m[\u001b[49m\u001b[43mfield\u001b[49m\u001b[43m]\u001b[49m\u001b[38;5;241;43m.\u001b[39;49m\u001b[43mstr\u001b[49m\u001b[38;5;241m.\u001b[39mreplace(\u001b[38;5;124m\"\u001b[39m\u001b[38;5;124m:\u001b[39m\u001b[38;5;124m\"\u001b[39m, \u001b[38;5;124m\"\u001b[39m\u001b[38;5;124m\"\u001b[39m, regex\u001b[38;5;241m=\u001b[39m\u001b[38;5;28;01mFalse\u001b[39;00m)\n\u001b[0;32m    154\u001b[0m         dataframe\u001b[38;5;241m.\u001b[39mloc[:, field] \u001b[38;5;241m=\u001b[39m dataframe[field]\u001b[38;5;241m.\u001b[39mapply(\u001b[38;5;28;01mlambda\u001b[39;00m x: \u001b[38;5;28mint\u001b[39m(x, \u001b[38;5;241m16\u001b[39m) \u001b[38;5;28;01mif\u001b[39;00m pd\u001b[38;5;241m.\u001b[39mnotnull(x) \u001b[38;5;129;01mand\u001b[39;00m \u001b[38;5;28misinstance\u001b[39m(x, \u001b[38;5;28mstr\u001b[39m) \u001b[38;5;28;01melse\u001b[39;00m \u001b[38;5;241m0\u001b[39m)\n\u001b[0;32m    158\u001b[0m \u001b[38;5;66;03m# Conversione in float\u001b[39;00m\n",
      "File \u001b[1;32m~\\AppData\\Local\\Packages\\PythonSoftwareFoundation.Python.3.12_qbz5n2kfra8p0\\LocalCache\\local-packages\\Python312\\site-packages\\pandas\\core\\generic.py:6296\u001b[0m, in \u001b[0;36mNDFrame.__getattr__\u001b[1;34m(self, name)\u001b[0m\n\u001b[0;32m   6289\u001b[0m \u001b[38;5;28;01mif\u001b[39;00m (\n\u001b[0;32m   6290\u001b[0m     name \u001b[38;5;129;01mnot\u001b[39;00m \u001b[38;5;129;01min\u001b[39;00m \u001b[38;5;28mself\u001b[39m\u001b[38;5;241m.\u001b[39m_internal_names_set\n\u001b[0;32m   6291\u001b[0m     \u001b[38;5;129;01mand\u001b[39;00m name \u001b[38;5;129;01mnot\u001b[39;00m \u001b[38;5;129;01min\u001b[39;00m \u001b[38;5;28mself\u001b[39m\u001b[38;5;241m.\u001b[39m_metadata\n\u001b[0;32m   6292\u001b[0m     \u001b[38;5;129;01mand\u001b[39;00m name \u001b[38;5;129;01mnot\u001b[39;00m \u001b[38;5;129;01min\u001b[39;00m \u001b[38;5;28mself\u001b[39m\u001b[38;5;241m.\u001b[39m_accessors\n\u001b[0;32m   6293\u001b[0m     \u001b[38;5;129;01mand\u001b[39;00m \u001b[38;5;28mself\u001b[39m\u001b[38;5;241m.\u001b[39m_info_axis\u001b[38;5;241m.\u001b[39m_can_hold_identifiers_and_holds_name(name)\n\u001b[0;32m   6294\u001b[0m ):\n\u001b[0;32m   6295\u001b[0m     \u001b[38;5;28;01mreturn\u001b[39;00m \u001b[38;5;28mself\u001b[39m[name]\n\u001b[1;32m-> 6296\u001b[0m \u001b[38;5;28;01mreturn\u001b[39;00m \u001b[38;5;28;43mobject\u001b[39;49m\u001b[38;5;241;43m.\u001b[39;49m\u001b[38;5;21;43m__getattribute__\u001b[39;49m\u001b[43m(\u001b[49m\u001b[38;5;28;43mself\u001b[39;49m\u001b[43m,\u001b[49m\u001b[43m \u001b[49m\u001b[43mname\u001b[49m\u001b[43m)\u001b[49m\n",
      "File \u001b[1;32m~\\AppData\\Local\\Packages\\PythonSoftwareFoundation.Python.3.12_qbz5n2kfra8p0\\LocalCache\\local-packages\\Python312\\site-packages\\pandas\\core\\accessor.py:224\u001b[0m, in \u001b[0;36mCachedAccessor.__get__\u001b[1;34m(self, obj, cls)\u001b[0m\n\u001b[0;32m    221\u001b[0m \u001b[38;5;28;01mif\u001b[39;00m obj \u001b[38;5;129;01mis\u001b[39;00m \u001b[38;5;28;01mNone\u001b[39;00m:\n\u001b[0;32m    222\u001b[0m     \u001b[38;5;66;03m# we're accessing the attribute of the class, i.e., Dataset.geo\u001b[39;00m\n\u001b[0;32m    223\u001b[0m     \u001b[38;5;28;01mreturn\u001b[39;00m \u001b[38;5;28mself\u001b[39m\u001b[38;5;241m.\u001b[39m_accessor\n\u001b[1;32m--> 224\u001b[0m accessor_obj \u001b[38;5;241m=\u001b[39m \u001b[38;5;28;43mself\u001b[39;49m\u001b[38;5;241;43m.\u001b[39;49m\u001b[43m_accessor\u001b[49m\u001b[43m(\u001b[49m\u001b[43mobj\u001b[49m\u001b[43m)\u001b[49m\n\u001b[0;32m    225\u001b[0m \u001b[38;5;66;03m# Replace the property with the accessor object. Inspired by:\u001b[39;00m\n\u001b[0;32m    226\u001b[0m \u001b[38;5;66;03m# https://www.pydanny.com/cached-property.html\u001b[39;00m\n\u001b[0;32m    227\u001b[0m \u001b[38;5;66;03m# We need to use object.__setattr__ because we overwrite __setattr__ on\u001b[39;00m\n\u001b[0;32m    228\u001b[0m \u001b[38;5;66;03m# NDFrame\u001b[39;00m\n\u001b[0;32m    229\u001b[0m \u001b[38;5;28mobject\u001b[39m\u001b[38;5;241m.\u001b[39m\u001b[38;5;21m__setattr__\u001b[39m(obj, \u001b[38;5;28mself\u001b[39m\u001b[38;5;241m.\u001b[39m_name, accessor_obj)\n",
      "File \u001b[1;32m~\\AppData\\Local\\Packages\\PythonSoftwareFoundation.Python.3.12_qbz5n2kfra8p0\\LocalCache\\local-packages\\Python312\\site-packages\\pandas\\core\\strings\\accessor.py:191\u001b[0m, in \u001b[0;36mStringMethods.__init__\u001b[1;34m(self, data)\u001b[0m\n\u001b[0;32m    188\u001b[0m \u001b[38;5;28;01mdef\u001b[39;00m \u001b[38;5;21m__init__\u001b[39m(\u001b[38;5;28mself\u001b[39m, data) \u001b[38;5;241m-\u001b[39m\u001b[38;5;241m>\u001b[39m \u001b[38;5;28;01mNone\u001b[39;00m:\n\u001b[0;32m    189\u001b[0m     \u001b[38;5;28;01mfrom\u001b[39;00m \u001b[38;5;21;01mpandas\u001b[39;00m\u001b[38;5;21;01m.\u001b[39;00m\u001b[38;5;21;01mcore\u001b[39;00m\u001b[38;5;21;01m.\u001b[39;00m\u001b[38;5;21;01marrays\u001b[39;00m\u001b[38;5;21;01m.\u001b[39;00m\u001b[38;5;21;01mstring_\u001b[39;00m \u001b[38;5;28;01mimport\u001b[39;00m StringDtype\n\u001b[1;32m--> 191\u001b[0m     \u001b[38;5;28mself\u001b[39m\u001b[38;5;241m.\u001b[39m_inferred_dtype \u001b[38;5;241m=\u001b[39m \u001b[38;5;28;43mself\u001b[39;49m\u001b[38;5;241;43m.\u001b[39;49m\u001b[43m_validate\u001b[49m\u001b[43m(\u001b[49m\u001b[43mdata\u001b[49m\u001b[43m)\u001b[49m\n\u001b[0;32m    192\u001b[0m     \u001b[38;5;28mself\u001b[39m\u001b[38;5;241m.\u001b[39m_is_categorical \u001b[38;5;241m=\u001b[39m \u001b[38;5;28misinstance\u001b[39m(data\u001b[38;5;241m.\u001b[39mdtype, CategoricalDtype)\n\u001b[0;32m    193\u001b[0m     \u001b[38;5;28mself\u001b[39m\u001b[38;5;241m.\u001b[39m_is_string \u001b[38;5;241m=\u001b[39m \u001b[38;5;28misinstance\u001b[39m(data\u001b[38;5;241m.\u001b[39mdtype, StringDtype)\n",
      "File \u001b[1;32m~\\AppData\\Local\\Packages\\PythonSoftwareFoundation.Python.3.12_qbz5n2kfra8p0\\LocalCache\\local-packages\\Python312\\site-packages\\pandas\\core\\strings\\accessor.py:245\u001b[0m, in \u001b[0;36mStringMethods._validate\u001b[1;34m(data)\u001b[0m\n\u001b[0;32m    242\u001b[0m inferred_dtype \u001b[38;5;241m=\u001b[39m lib\u001b[38;5;241m.\u001b[39minfer_dtype(values, skipna\u001b[38;5;241m=\u001b[39m\u001b[38;5;28;01mTrue\u001b[39;00m)\n\u001b[0;32m    244\u001b[0m \u001b[38;5;28;01mif\u001b[39;00m inferred_dtype \u001b[38;5;129;01mnot\u001b[39;00m \u001b[38;5;129;01min\u001b[39;00m allowed_types:\n\u001b[1;32m--> 245\u001b[0m     \u001b[38;5;28;01mraise\u001b[39;00m \u001b[38;5;167;01mAttributeError\u001b[39;00m(\u001b[38;5;124m\"\u001b[39m\u001b[38;5;124mCan only use .str accessor with string values!\u001b[39m\u001b[38;5;124m\"\u001b[39m)\n\u001b[0;32m    246\u001b[0m \u001b[38;5;28;01mreturn\u001b[39;00m inferred_dtype\n",
      "\u001b[1;31mAttributeError\u001b[0m: Can only use .str accessor with string values!"
     ]
    }
   ],
   "source": [
    "fn.df_convert(concat,listel)"
   ]
  },
  {
   "cell_type": "code",
   "execution_count": 31,
   "id": "09626750",
   "metadata": {},
   "outputs": [
    {
     "data": {
      "text/plain": [
       "Index(['frame.frame.time_epoch', 'frame.frame.time_delta',\n",
       "       'frame.frame.time_delta_displayed', 'frame.frame.time_relative',\n",
       "       'frame.frame.number', 'frame.frame.len', 'frame.frame.cap_len',\n",
       "       'eth.eth.dst_raw[0]', 'eth.eth.dst',\n",
       "       'eth.eth.dst_tree.eth.dst_resolved_raw[0]',\n",
       "       'eth.eth.dst_tree.eth.dst.oui_raw[0]', 'eth.eth.dst_tree.eth.dst.oui',\n",
       "       'eth.eth.dst_tree.eth.addr_raw[0]', 'eth.eth.dst_tree.eth.addr',\n",
       "       'eth.eth.dst_tree.eth.addr_resolved_raw[0]',\n",
       "       'eth.eth.dst_tree.eth.addr.oui_raw[0]', 'eth.eth.dst_tree.eth.addr.oui',\n",
       "       'eth.eth.dst_tree.eth.dst.lg_raw[0]', 'eth.eth.dst_tree.eth.dst.lg',\n",
       "       'eth.eth.dst_tree.eth.lg_raw[0]', 'eth.eth.dst_tree.eth.lg',\n",
       "       'eth.eth.dst_tree.eth.dst.ig_raw[0]', 'eth.eth.dst_tree.eth.dst.ig',\n",
       "       'eth.eth.dst_tree.eth.ig_raw[0]', 'eth.eth.dst_tree.eth.ig',\n",
       "       'eth.eth.src_raw[0]', 'eth.eth.src',\n",
       "       'eth.eth.src_tree.eth.src_resolved_raw[0]',\n",
       "       'eth.eth.src_tree.eth.src.oui_raw[0]', 'eth.eth.src_tree.eth.src.oui',\n",
       "       'eth.eth.src_tree.eth.src.oui_resolved_raw[0]',\n",
       "       'eth.eth.src_tree.eth.addr_raw[0]', 'eth.eth.src_tree.eth.addr',\n",
       "       'eth.eth.src_tree.eth.addr_resolved_raw[0]',\n",
       "       'eth.eth.src_tree.eth.addr.oui_raw[0]', 'eth.eth.src_tree.eth.addr.oui',\n",
       "       'eth.eth.src_tree.eth.addr.oui_resolved_raw[0]', 'capture_id', 'label',\n",
       "       'group_id'],\n",
       "      dtype='object')"
      ]
     },
     "execution_count": 31,
     "metadata": {},
     "output_type": "execute_result"
    }
   ],
   "source": [
    "concat.columns"
   ]
  },
  {
   "cell_type": "code",
   "execution_count": 32,
   "id": "dcff31b6",
   "metadata": {},
   "outputs": [
    {
     "data": {
      "text/plain": [
       "frame.frame.time_epoch                           timedelta64[ns]\n",
       "frame.frame.time_delta                                    object\n",
       "frame.frame.time_delta_displayed                          object\n",
       "frame.frame.time_relative                                 object\n",
       "frame.frame.number                                        object\n",
       "frame.frame.len                                           object\n",
       "frame.frame.cap_len                                       object\n",
       "eth.eth.dst_raw[0]                                        object\n",
       "eth.eth.dst                                               object\n",
       "eth.eth.dst_tree.eth.dst_resolved_raw[0]                  object\n",
       "eth.eth.dst_tree.eth.dst.oui_raw[0]                       object\n",
       "eth.eth.dst_tree.eth.dst.oui                              object\n",
       "eth.eth.dst_tree.eth.addr_raw[0]                          object\n",
       "eth.eth.dst_tree.eth.addr                                 object\n",
       "eth.eth.dst_tree.eth.addr_resolved_raw[0]                 object\n",
       "eth.eth.dst_tree.eth.addr.oui_raw[0]                      object\n",
       "eth.eth.dst_tree.eth.addr.oui                             object\n",
       "eth.eth.dst_tree.eth.dst.lg_raw[0]                        object\n",
       "eth.eth.dst_tree.eth.dst.lg                               object\n",
       "eth.eth.dst_tree.eth.lg_raw[0]                            object\n",
       "eth.eth.dst_tree.eth.lg                                   object\n",
       "eth.eth.dst_tree.eth.dst.ig_raw[0]                        object\n",
       "eth.eth.dst_tree.eth.dst.ig                               object\n",
       "eth.eth.dst_tree.eth.ig_raw[0]                            object\n",
       "eth.eth.dst_tree.eth.ig                                   object\n",
       "eth.eth.src_raw[0]                                        object\n",
       "eth.eth.src                                               object\n",
       "eth.eth.src_tree.eth.src_resolved_raw[0]                  object\n",
       "eth.eth.src_tree.eth.src.oui_raw[0]                       object\n",
       "eth.eth.src_tree.eth.src.oui                              object\n",
       "eth.eth.src_tree.eth.src.oui_resolved_raw[0]              object\n",
       "eth.eth.src_tree.eth.addr_raw[0]                          object\n",
       "eth.eth.src_tree.eth.addr                                 object\n",
       "eth.eth.src_tree.eth.addr_resolved_raw[0]                 object\n",
       "eth.eth.src_tree.eth.addr.oui_raw[0]                      object\n",
       "eth.eth.src_tree.eth.addr.oui                             object\n",
       "eth.eth.src_tree.eth.addr.oui_resolved_raw[0]             object\n",
       "capture_id                                                 int32\n",
       "label                                                      int64\n",
       "group_id                                                   int64\n",
       "dtype: object"
      ]
     },
     "execution_count": 32,
     "metadata": {},
     "output_type": "execute_result"
    }
   ],
   "source": [
    "concat.dtypes"
   ]
  },
  {
   "cell_type": "code",
   "execution_count": 29,
   "id": "f8a26c5c",
   "metadata": {},
   "outputs": [
    {
     "name": "stdout",
     "output_type": "stream",
     "text": [
      "Dimensioni di X: (101842, 38)\n",
      "Dimensioni di y: (101842,)\n"
     ]
    },
    {
     "ename": "TypeError",
     "evalue": "float() argument must be a string or a real number, not 'Timedelta'",
     "output_type": "error",
     "traceback": [
      "\u001b[1;31m---------------------------------------------------------------------------\u001b[0m",
      "\u001b[1;31mTypeError\u001b[0m                                 Traceback (most recent call last)",
      "\u001b[1;32m~\\AppData\\Local\\Temp\\ipykernel_7420\\418456595.py\u001b[0m in \u001b[0;36m?\u001b[1;34m()\u001b[0m\n\u001b[0;32m     17\u001b[0m \u001b[0mX_train\u001b[0m\u001b[1;33m,\u001b[0m \u001b[0mX_test\u001b[0m\u001b[1;33m,\u001b[0m \u001b[0my_train\u001b[0m\u001b[1;33m,\u001b[0m \u001b[0my_test\u001b[0m \u001b[1;33m=\u001b[0m \u001b[0mtrain_test_split\u001b[0m\u001b[1;33m(\u001b[0m\u001b[0mX\u001b[0m\u001b[1;33m,\u001b[0m \u001b[0my\u001b[0m\u001b[1;33m,\u001b[0m \u001b[0mtest_size\u001b[0m\u001b[1;33m=\u001b[0m\u001b[1;36m0.30\u001b[0m\u001b[1;33m,\u001b[0m \u001b[0mrandom_state\u001b[0m\u001b[1;33m=\u001b[0m\u001b[1;36m42\u001b[0m\u001b[1;33m,\u001b[0m \u001b[0mstratify\u001b[0m\u001b[1;33m=\u001b[0m\u001b[0my\u001b[0m\u001b[1;33m)\u001b[0m\u001b[1;33m\u001b[0m\u001b[1;33m\u001b[0m\u001b[0m\n\u001b[0;32m     18\u001b[0m \u001b[1;33m\u001b[0m\u001b[0m\n\u001b[0;32m     19\u001b[0m \u001b[1;31m# Normalizzare le caratteristiche\u001b[0m\u001b[1;33m\u001b[0m\u001b[1;33m\u001b[0m\u001b[0m\n\u001b[0;32m     20\u001b[0m \u001b[0mscaler\u001b[0m \u001b[1;33m=\u001b[0m \u001b[0mStandardScaler\u001b[0m\u001b[1;33m(\u001b[0m\u001b[1;33m)\u001b[0m\u001b[1;33m\u001b[0m\u001b[1;33m\u001b[0m\u001b[0m\n\u001b[1;32m---> 21\u001b[1;33m \u001b[0mX_train\u001b[0m \u001b[1;33m=\u001b[0m \u001b[0mscaler\u001b[0m\u001b[1;33m.\u001b[0m\u001b[0mfit_transform\u001b[0m\u001b[1;33m(\u001b[0m\u001b[0mX_train\u001b[0m\u001b[1;33m)\u001b[0m\u001b[1;33m\u001b[0m\u001b[1;33m\u001b[0m\u001b[0m\n\u001b[0m\u001b[0;32m     22\u001b[0m \u001b[0mX_test\u001b[0m \u001b[1;33m=\u001b[0m \u001b[0mscaler\u001b[0m\u001b[1;33m.\u001b[0m\u001b[0mtransform\u001b[0m\u001b[1;33m(\u001b[0m\u001b[0mX_test\u001b[0m\u001b[1;33m)\u001b[0m\u001b[1;33m\u001b[0m\u001b[1;33m\u001b[0m\u001b[0m\n\u001b[0;32m     23\u001b[0m \u001b[1;33m\u001b[0m\u001b[0m\n\u001b[0;32m     24\u001b[0m \u001b[1;31m# Creare e addestrare il modello SVM\u001b[0m\u001b[1;33m\u001b[0m\u001b[1;33m\u001b[0m\u001b[0m\n",
      "\u001b[1;32m~\\AppData\\Local\\Packages\\PythonSoftwareFoundation.Python.3.12_qbz5n2kfra8p0\\LocalCache\\local-packages\\Python312\\site-packages\\sklearn\\utils\\_set_output.py\u001b[0m in \u001b[0;36m?\u001b[1;34m(self, X, *args, **kwargs)\u001b[0m\n\u001b[0;32m    311\u001b[0m     \u001b[1;33m@\u001b[0m\u001b[0mwraps\u001b[0m\u001b[1;33m(\u001b[0m\u001b[0mf\u001b[0m\u001b[1;33m)\u001b[0m\u001b[1;33m\u001b[0m\u001b[1;33m\u001b[0m\u001b[0m\n\u001b[0;32m    312\u001b[0m     \u001b[1;32mdef\u001b[0m \u001b[0mwrapped\u001b[0m\u001b[1;33m(\u001b[0m\u001b[0mself\u001b[0m\u001b[1;33m,\u001b[0m \u001b[0mX\u001b[0m\u001b[1;33m,\u001b[0m \u001b[1;33m*\u001b[0m\u001b[0margs\u001b[0m\u001b[1;33m,\u001b[0m \u001b[1;33m**\u001b[0m\u001b[0mkwargs\u001b[0m\u001b[1;33m)\u001b[0m\u001b[1;33m:\u001b[0m\u001b[1;33m\u001b[0m\u001b[1;33m\u001b[0m\u001b[0m\n\u001b[1;32m--> 313\u001b[1;33m         \u001b[0mdata_to_wrap\u001b[0m \u001b[1;33m=\u001b[0m \u001b[0mf\u001b[0m\u001b[1;33m(\u001b[0m\u001b[0mself\u001b[0m\u001b[1;33m,\u001b[0m \u001b[0mX\u001b[0m\u001b[1;33m,\u001b[0m \u001b[1;33m*\u001b[0m\u001b[0margs\u001b[0m\u001b[1;33m,\u001b[0m \u001b[1;33m**\u001b[0m\u001b[0mkwargs\u001b[0m\u001b[1;33m)\u001b[0m\u001b[1;33m\u001b[0m\u001b[1;33m\u001b[0m\u001b[0m\n\u001b[0m\u001b[0;32m    314\u001b[0m         \u001b[1;32mif\u001b[0m \u001b[0misinstance\u001b[0m\u001b[1;33m(\u001b[0m\u001b[0mdata_to_wrap\u001b[0m\u001b[1;33m,\u001b[0m \u001b[0mtuple\u001b[0m\u001b[1;33m)\u001b[0m\u001b[1;33m:\u001b[0m\u001b[1;33m\u001b[0m\u001b[1;33m\u001b[0m\u001b[0m\n\u001b[0;32m    315\u001b[0m             \u001b[1;31m# only wrap the first output for cross decomposition\u001b[0m\u001b[1;33m\u001b[0m\u001b[1;33m\u001b[0m\u001b[0m\n\u001b[0;32m    316\u001b[0m             return_tuple = (\n",
      "\u001b[1;32m~\\AppData\\Local\\Packages\\PythonSoftwareFoundation.Python.3.12_qbz5n2kfra8p0\\LocalCache\\local-packages\\Python312\\site-packages\\sklearn\\base.py\u001b[0m in \u001b[0;36m?\u001b[1;34m(self, X, y, **fit_params)\u001b[0m\n\u001b[0;32m   1094\u001b[0m                 \u001b[1;33m)\u001b[0m\u001b[1;33m\u001b[0m\u001b[1;33m\u001b[0m\u001b[0m\n\u001b[0;32m   1095\u001b[0m \u001b[1;33m\u001b[0m\u001b[0m\n\u001b[0;32m   1096\u001b[0m         \u001b[1;32mif\u001b[0m \u001b[0my\u001b[0m \u001b[1;32mis\u001b[0m \u001b[1;32mNone\u001b[0m\u001b[1;33m:\u001b[0m\u001b[1;33m\u001b[0m\u001b[1;33m\u001b[0m\u001b[0m\n\u001b[0;32m   1097\u001b[0m             \u001b[1;31m# fit method of arity 1 (unsupervised transformation)\u001b[0m\u001b[1;33m\u001b[0m\u001b[1;33m\u001b[0m\u001b[0m\n\u001b[1;32m-> 1098\u001b[1;33m             \u001b[1;32mreturn\u001b[0m \u001b[0mself\u001b[0m\u001b[1;33m.\u001b[0m\u001b[0mfit\u001b[0m\u001b[1;33m(\u001b[0m\u001b[0mX\u001b[0m\u001b[1;33m,\u001b[0m \u001b[1;33m**\u001b[0m\u001b[0mfit_params\u001b[0m\u001b[1;33m)\u001b[0m\u001b[1;33m.\u001b[0m\u001b[0mtransform\u001b[0m\u001b[1;33m(\u001b[0m\u001b[0mX\u001b[0m\u001b[1;33m)\u001b[0m\u001b[1;33m\u001b[0m\u001b[1;33m\u001b[0m\u001b[0m\n\u001b[0m\u001b[0;32m   1099\u001b[0m         \u001b[1;32melse\u001b[0m\u001b[1;33m:\u001b[0m\u001b[1;33m\u001b[0m\u001b[1;33m\u001b[0m\u001b[0m\n\u001b[0;32m   1100\u001b[0m             \u001b[1;31m# fit method of arity 2 (supervised transformation)\u001b[0m\u001b[1;33m\u001b[0m\u001b[1;33m\u001b[0m\u001b[0m\n\u001b[0;32m   1101\u001b[0m             \u001b[1;32mreturn\u001b[0m \u001b[0mself\u001b[0m\u001b[1;33m.\u001b[0m\u001b[0mfit\u001b[0m\u001b[1;33m(\u001b[0m\u001b[0mX\u001b[0m\u001b[1;33m,\u001b[0m \u001b[0my\u001b[0m\u001b[1;33m,\u001b[0m \u001b[1;33m**\u001b[0m\u001b[0mfit_params\u001b[0m\u001b[1;33m)\u001b[0m\u001b[1;33m.\u001b[0m\u001b[0mtransform\u001b[0m\u001b[1;33m(\u001b[0m\u001b[0mX\u001b[0m\u001b[1;33m)\u001b[0m\u001b[1;33m\u001b[0m\u001b[1;33m\u001b[0m\u001b[0m\n",
      "\u001b[1;32m~\\AppData\\Local\\Packages\\PythonSoftwareFoundation.Python.3.12_qbz5n2kfra8p0\\LocalCache\\local-packages\\Python312\\site-packages\\sklearn\\preprocessing\\_data.py\u001b[0m in \u001b[0;36m?\u001b[1;34m(self, X, y, sample_weight)\u001b[0m\n\u001b[0;32m    874\u001b[0m             \u001b[0mFitted\u001b[0m \u001b[0mscaler\u001b[0m\u001b[1;33m.\u001b[0m\u001b[1;33m\u001b[0m\u001b[1;33m\u001b[0m\u001b[0m\n\u001b[0;32m    875\u001b[0m         \"\"\"\n\u001b[0;32m    876\u001b[0m         \u001b[1;31m# Reset internal state before fitting\u001b[0m\u001b[1;33m\u001b[0m\u001b[1;33m\u001b[0m\u001b[0m\n\u001b[0;32m    877\u001b[0m         \u001b[0mself\u001b[0m\u001b[1;33m.\u001b[0m\u001b[0m_reset\u001b[0m\u001b[1;33m(\u001b[0m\u001b[1;33m)\u001b[0m\u001b[1;33m\u001b[0m\u001b[1;33m\u001b[0m\u001b[0m\n\u001b[1;32m--> 878\u001b[1;33m         \u001b[1;32mreturn\u001b[0m \u001b[0mself\u001b[0m\u001b[1;33m.\u001b[0m\u001b[0mpartial_fit\u001b[0m\u001b[1;33m(\u001b[0m\u001b[0mX\u001b[0m\u001b[1;33m,\u001b[0m \u001b[0my\u001b[0m\u001b[1;33m,\u001b[0m \u001b[0msample_weight\u001b[0m\u001b[1;33m)\u001b[0m\u001b[1;33m\u001b[0m\u001b[1;33m\u001b[0m\u001b[0m\n\u001b[0m",
      "\u001b[1;32m~\\AppData\\Local\\Packages\\PythonSoftwareFoundation.Python.3.12_qbz5n2kfra8p0\\LocalCache\\local-packages\\Python312\\site-packages\\sklearn\\base.py\u001b[0m in \u001b[0;36m?\u001b[1;34m(estimator, *args, **kwargs)\u001b[0m\n\u001b[0;32m   1469\u001b[0m                 skip_parameter_validation=(\n\u001b[0;32m   1470\u001b[0m                     \u001b[0mprefer_skip_nested_validation\u001b[0m \u001b[1;32mor\u001b[0m \u001b[0mglobal_skip_validation\u001b[0m\u001b[1;33m\u001b[0m\u001b[1;33m\u001b[0m\u001b[0m\n\u001b[0;32m   1471\u001b[0m                 \u001b[1;33m)\u001b[0m\u001b[1;33m\u001b[0m\u001b[1;33m\u001b[0m\u001b[0m\n\u001b[0;32m   1472\u001b[0m             \u001b[1;33m)\u001b[0m\u001b[1;33m:\u001b[0m\u001b[1;33m\u001b[0m\u001b[1;33m\u001b[0m\u001b[0m\n\u001b[1;32m-> 1473\u001b[1;33m                 \u001b[1;32mreturn\u001b[0m \u001b[0mfit_method\u001b[0m\u001b[1;33m(\u001b[0m\u001b[0mestimator\u001b[0m\u001b[1;33m,\u001b[0m \u001b[1;33m*\u001b[0m\u001b[0margs\u001b[0m\u001b[1;33m,\u001b[0m \u001b[1;33m**\u001b[0m\u001b[0mkwargs\u001b[0m\u001b[1;33m)\u001b[0m\u001b[1;33m\u001b[0m\u001b[1;33m\u001b[0m\u001b[0m\n\u001b[0m",
      "\u001b[1;32m~\\AppData\\Local\\Packages\\PythonSoftwareFoundation.Python.3.12_qbz5n2kfra8p0\\LocalCache\\local-packages\\Python312\\site-packages\\sklearn\\preprocessing\\_data.py\u001b[0m in \u001b[0;36m?\u001b[1;34m(self, X, y, sample_weight)\u001b[0m\n\u001b[0;32m    910\u001b[0m         \u001b[0mself\u001b[0m \u001b[1;33m:\u001b[0m \u001b[0mobject\u001b[0m\u001b[1;33m\u001b[0m\u001b[1;33m\u001b[0m\u001b[0m\n\u001b[0;32m    911\u001b[0m             \u001b[0mFitted\u001b[0m \u001b[0mscaler\u001b[0m\u001b[1;33m.\u001b[0m\u001b[1;33m\u001b[0m\u001b[1;33m\u001b[0m\u001b[0m\n\u001b[0;32m    912\u001b[0m         \"\"\"\n\u001b[0;32m    913\u001b[0m         \u001b[0mfirst_call\u001b[0m \u001b[1;33m=\u001b[0m \u001b[1;32mnot\u001b[0m \u001b[0mhasattr\u001b[0m\u001b[1;33m(\u001b[0m\u001b[0mself\u001b[0m\u001b[1;33m,\u001b[0m \u001b[1;34m\"n_samples_seen_\"\u001b[0m\u001b[1;33m)\u001b[0m\u001b[1;33m\u001b[0m\u001b[1;33m\u001b[0m\u001b[0m\n\u001b[1;32m--> 914\u001b[1;33m         X = self._validate_data(\n\u001b[0m\u001b[0;32m    915\u001b[0m             \u001b[0mX\u001b[0m\u001b[1;33m,\u001b[0m\u001b[1;33m\u001b[0m\u001b[1;33m\u001b[0m\u001b[0m\n\u001b[0;32m    916\u001b[0m             \u001b[0maccept_sparse\u001b[0m\u001b[1;33m=\u001b[0m\u001b[1;33m(\u001b[0m\u001b[1;34m\"csr\"\u001b[0m\u001b[1;33m,\u001b[0m \u001b[1;34m\"csc\"\u001b[0m\u001b[1;33m)\u001b[0m\u001b[1;33m,\u001b[0m\u001b[1;33m\u001b[0m\u001b[1;33m\u001b[0m\u001b[0m\n\u001b[0;32m    917\u001b[0m             \u001b[0mdtype\u001b[0m\u001b[1;33m=\u001b[0m\u001b[0mFLOAT_DTYPES\u001b[0m\u001b[1;33m,\u001b[0m\u001b[1;33m\u001b[0m\u001b[1;33m\u001b[0m\u001b[0m\n",
      "\u001b[1;32m~\\AppData\\Local\\Packages\\PythonSoftwareFoundation.Python.3.12_qbz5n2kfra8p0\\LocalCache\\local-packages\\Python312\\site-packages\\sklearn\\base.py\u001b[0m in \u001b[0;36m?\u001b[1;34m(self, X, y, reset, validate_separately, cast_to_ndarray, **check_params)\u001b[0m\n\u001b[0;32m    629\u001b[0m                 \u001b[0mout\u001b[0m \u001b[1;33m=\u001b[0m \u001b[0my\u001b[0m\u001b[1;33m\u001b[0m\u001b[1;33m\u001b[0m\u001b[0m\n\u001b[0;32m    630\u001b[0m             \u001b[1;32melse\u001b[0m\u001b[1;33m:\u001b[0m\u001b[1;33m\u001b[0m\u001b[1;33m\u001b[0m\u001b[0m\n\u001b[0;32m    631\u001b[0m                 \u001b[0mout\u001b[0m \u001b[1;33m=\u001b[0m \u001b[0mX\u001b[0m\u001b[1;33m,\u001b[0m \u001b[0my\u001b[0m\u001b[1;33m\u001b[0m\u001b[1;33m\u001b[0m\u001b[0m\n\u001b[0;32m    632\u001b[0m         \u001b[1;32melif\u001b[0m \u001b[1;32mnot\u001b[0m \u001b[0mno_val_X\u001b[0m \u001b[1;32mand\u001b[0m \u001b[0mno_val_y\u001b[0m\u001b[1;33m:\u001b[0m\u001b[1;33m\u001b[0m\u001b[1;33m\u001b[0m\u001b[0m\n\u001b[1;32m--> 633\u001b[1;33m             \u001b[0mout\u001b[0m \u001b[1;33m=\u001b[0m \u001b[0mcheck_array\u001b[0m\u001b[1;33m(\u001b[0m\u001b[0mX\u001b[0m\u001b[1;33m,\u001b[0m \u001b[0minput_name\u001b[0m\u001b[1;33m=\u001b[0m\u001b[1;34m\"X\"\u001b[0m\u001b[1;33m,\u001b[0m \u001b[1;33m**\u001b[0m\u001b[0mcheck_params\u001b[0m\u001b[1;33m)\u001b[0m\u001b[1;33m\u001b[0m\u001b[1;33m\u001b[0m\u001b[0m\n\u001b[0m\u001b[0;32m    634\u001b[0m         \u001b[1;32melif\u001b[0m \u001b[0mno_val_X\u001b[0m \u001b[1;32mand\u001b[0m \u001b[1;32mnot\u001b[0m \u001b[0mno_val_y\u001b[0m\u001b[1;33m:\u001b[0m\u001b[1;33m\u001b[0m\u001b[1;33m\u001b[0m\u001b[0m\n\u001b[0;32m    635\u001b[0m             \u001b[0mout\u001b[0m \u001b[1;33m=\u001b[0m \u001b[0m_check_y\u001b[0m\u001b[1;33m(\u001b[0m\u001b[0my\u001b[0m\u001b[1;33m,\u001b[0m \u001b[1;33m**\u001b[0m\u001b[0mcheck_params\u001b[0m\u001b[1;33m)\u001b[0m\u001b[1;33m\u001b[0m\u001b[1;33m\u001b[0m\u001b[0m\n\u001b[0;32m    636\u001b[0m         \u001b[1;32melse\u001b[0m\u001b[1;33m:\u001b[0m\u001b[1;33m\u001b[0m\u001b[1;33m\u001b[0m\u001b[0m\n",
      "\u001b[1;32m~\\AppData\\Local\\Packages\\PythonSoftwareFoundation.Python.3.12_qbz5n2kfra8p0\\LocalCache\\local-packages\\Python312\\site-packages\\sklearn\\utils\\validation.py\u001b[0m in \u001b[0;36m?\u001b[1;34m(array, accept_sparse, accept_large_sparse, dtype, order, copy, force_writeable, force_all_finite, ensure_2d, allow_nd, ensure_min_samples, ensure_min_features, estimator, input_name)\u001b[0m\n\u001b[0;32m   1009\u001b[0m                         \u001b[1;33m)\u001b[0m\u001b[1;33m\u001b[0m\u001b[1;33m\u001b[0m\u001b[0m\n\u001b[0;32m   1010\u001b[0m                     \u001b[0marray\u001b[0m \u001b[1;33m=\u001b[0m \u001b[0mxp\u001b[0m\u001b[1;33m.\u001b[0m\u001b[0mastype\u001b[0m\u001b[1;33m(\u001b[0m\u001b[0marray\u001b[0m\u001b[1;33m,\u001b[0m \u001b[0mdtype\u001b[0m\u001b[1;33m,\u001b[0m \u001b[0mcopy\u001b[0m\u001b[1;33m=\u001b[0m\u001b[1;32mFalse\u001b[0m\u001b[1;33m)\u001b[0m\u001b[1;33m\u001b[0m\u001b[1;33m\u001b[0m\u001b[0m\n\u001b[0;32m   1011\u001b[0m                 \u001b[1;32melse\u001b[0m\u001b[1;33m:\u001b[0m\u001b[1;33m\u001b[0m\u001b[1;33m\u001b[0m\u001b[0m\n\u001b[0;32m   1012\u001b[0m                     \u001b[0marray\u001b[0m \u001b[1;33m=\u001b[0m \u001b[0m_asarray_with_order\u001b[0m\u001b[1;33m(\u001b[0m\u001b[0marray\u001b[0m\u001b[1;33m,\u001b[0m \u001b[0morder\u001b[0m\u001b[1;33m=\u001b[0m\u001b[0morder\u001b[0m\u001b[1;33m,\u001b[0m \u001b[0mdtype\u001b[0m\u001b[1;33m=\u001b[0m\u001b[0mdtype\u001b[0m\u001b[1;33m,\u001b[0m \u001b[0mxp\u001b[0m\u001b[1;33m=\u001b[0m\u001b[0mxp\u001b[0m\u001b[1;33m)\u001b[0m\u001b[1;33m\u001b[0m\u001b[1;33m\u001b[0m\u001b[0m\n\u001b[1;32m-> 1013\u001b[1;33m             \u001b[1;32mexcept\u001b[0m \u001b[0mComplexWarning\u001b[0m \u001b[1;32mas\u001b[0m \u001b[0mcomplex_warning\u001b[0m\u001b[1;33m:\u001b[0m\u001b[1;33m\u001b[0m\u001b[1;33m\u001b[0m\u001b[0m\n\u001b[0m\u001b[0;32m   1014\u001b[0m                 raise ValueError(\n\u001b[0;32m   1015\u001b[0m                     \u001b[1;34m\"Complex data not supported\\n{}\\n\"\u001b[0m\u001b[1;33m.\u001b[0m\u001b[0mformat\u001b[0m\u001b[1;33m(\u001b[0m\u001b[0marray\u001b[0m\u001b[1;33m)\u001b[0m\u001b[1;33m\u001b[0m\u001b[1;33m\u001b[0m\u001b[0m\n\u001b[0;32m   1016\u001b[0m                 \u001b[1;33m)\u001b[0m \u001b[1;32mfrom\u001b[0m \u001b[0mcomplex_warning\u001b[0m\u001b[1;33m\u001b[0m\u001b[1;33m\u001b[0m\u001b[0m\n",
      "\u001b[1;32m~\\AppData\\Local\\Packages\\PythonSoftwareFoundation.Python.3.12_qbz5n2kfra8p0\\LocalCache\\local-packages\\Python312\\site-packages\\sklearn\\utils\\_array_api.py\u001b[0m in \u001b[0;36m?\u001b[1;34m(array, dtype, order, copy, xp, device)\u001b[0m\n\u001b[0;32m    747\u001b[0m         \u001b[1;31m# Use NumPy API to support order\u001b[0m\u001b[1;33m\u001b[0m\u001b[1;33m\u001b[0m\u001b[0m\n\u001b[0;32m    748\u001b[0m         \u001b[1;32mif\u001b[0m \u001b[0mcopy\u001b[0m \u001b[1;32mis\u001b[0m \u001b[1;32mTrue\u001b[0m\u001b[1;33m:\u001b[0m\u001b[1;33m\u001b[0m\u001b[1;33m\u001b[0m\u001b[0m\n\u001b[0;32m    749\u001b[0m             \u001b[0marray\u001b[0m \u001b[1;33m=\u001b[0m \u001b[0mnumpy\u001b[0m\u001b[1;33m.\u001b[0m\u001b[0marray\u001b[0m\u001b[1;33m(\u001b[0m\u001b[0marray\u001b[0m\u001b[1;33m,\u001b[0m \u001b[0morder\u001b[0m\u001b[1;33m=\u001b[0m\u001b[0morder\u001b[0m\u001b[1;33m,\u001b[0m \u001b[0mdtype\u001b[0m\u001b[1;33m=\u001b[0m\u001b[0mdtype\u001b[0m\u001b[1;33m)\u001b[0m\u001b[1;33m\u001b[0m\u001b[1;33m\u001b[0m\u001b[0m\n\u001b[0;32m    750\u001b[0m         \u001b[1;32melse\u001b[0m\u001b[1;33m:\u001b[0m\u001b[1;33m\u001b[0m\u001b[1;33m\u001b[0m\u001b[0m\n\u001b[1;32m--> 751\u001b[1;33m             \u001b[0marray\u001b[0m \u001b[1;33m=\u001b[0m \u001b[0mnumpy\u001b[0m\u001b[1;33m.\u001b[0m\u001b[0masarray\u001b[0m\u001b[1;33m(\u001b[0m\u001b[0marray\u001b[0m\u001b[1;33m,\u001b[0m \u001b[0morder\u001b[0m\u001b[1;33m=\u001b[0m\u001b[0morder\u001b[0m\u001b[1;33m,\u001b[0m \u001b[0mdtype\u001b[0m\u001b[1;33m=\u001b[0m\u001b[0mdtype\u001b[0m\u001b[1;33m)\u001b[0m\u001b[1;33m\u001b[0m\u001b[1;33m\u001b[0m\u001b[0m\n\u001b[0m\u001b[0;32m    752\u001b[0m \u001b[1;33m\u001b[0m\u001b[0m\n\u001b[0;32m    753\u001b[0m         \u001b[1;31m# At this point array is a NumPy ndarray. We convert it to an array\u001b[0m\u001b[1;33m\u001b[0m\u001b[1;33m\u001b[0m\u001b[0m\n\u001b[0;32m    754\u001b[0m         \u001b[1;31m# container that is consistent with the input's namespace.\u001b[0m\u001b[1;33m\u001b[0m\u001b[1;33m\u001b[0m\u001b[0m\n",
      "\u001b[1;32m~\\AppData\\Local\\Packages\\PythonSoftwareFoundation.Python.3.12_qbz5n2kfra8p0\\LocalCache\\local-packages\\Python312\\site-packages\\pandas\\core\\generic.py\u001b[0m in \u001b[0;36m?\u001b[1;34m(self, dtype)\u001b[0m\n\u001b[0;32m   2148\u001b[0m     \u001b[1;32mdef\u001b[0m \u001b[0m__array__\u001b[0m\u001b[1;33m(\u001b[0m\u001b[0mself\u001b[0m\u001b[1;33m,\u001b[0m \u001b[0mdtype\u001b[0m\u001b[1;33m:\u001b[0m \u001b[0mnpt\u001b[0m\u001b[1;33m.\u001b[0m\u001b[0mDTypeLike\u001b[0m \u001b[1;33m|\u001b[0m \u001b[1;32mNone\u001b[0m \u001b[1;33m=\u001b[0m \u001b[1;32mNone\u001b[0m\u001b[1;33m)\u001b[0m \u001b[1;33m->\u001b[0m \u001b[0mnp\u001b[0m\u001b[1;33m.\u001b[0m\u001b[0mndarray\u001b[0m\u001b[1;33m:\u001b[0m\u001b[1;33m\u001b[0m\u001b[1;33m\u001b[0m\u001b[0m\n\u001b[0;32m   2149\u001b[0m         \u001b[0mvalues\u001b[0m \u001b[1;33m=\u001b[0m \u001b[0mself\u001b[0m\u001b[1;33m.\u001b[0m\u001b[0m_values\u001b[0m\u001b[1;33m\u001b[0m\u001b[1;33m\u001b[0m\u001b[0m\n\u001b[1;32m-> 2150\u001b[1;33m         \u001b[0marr\u001b[0m \u001b[1;33m=\u001b[0m \u001b[0mnp\u001b[0m\u001b[1;33m.\u001b[0m\u001b[0masarray\u001b[0m\u001b[1;33m(\u001b[0m\u001b[0mvalues\u001b[0m\u001b[1;33m,\u001b[0m \u001b[0mdtype\u001b[0m\u001b[1;33m=\u001b[0m\u001b[0mdtype\u001b[0m\u001b[1;33m)\u001b[0m\u001b[1;33m\u001b[0m\u001b[1;33m\u001b[0m\u001b[0m\n\u001b[0m\u001b[0;32m   2151\u001b[0m         if (\n\u001b[0;32m   2152\u001b[0m             \u001b[0mastype_is_view\u001b[0m\u001b[1;33m(\u001b[0m\u001b[0mvalues\u001b[0m\u001b[1;33m.\u001b[0m\u001b[0mdtype\u001b[0m\u001b[1;33m,\u001b[0m \u001b[0marr\u001b[0m\u001b[1;33m.\u001b[0m\u001b[0mdtype\u001b[0m\u001b[1;33m)\u001b[0m\u001b[1;33m\u001b[0m\u001b[1;33m\u001b[0m\u001b[0m\n\u001b[0;32m   2153\u001b[0m             \u001b[1;32mand\u001b[0m \u001b[0musing_copy_on_write\u001b[0m\u001b[1;33m(\u001b[0m\u001b[1;33m)\u001b[0m\u001b[1;33m\u001b[0m\u001b[1;33m\u001b[0m\u001b[0m\n",
      "\u001b[1;31mTypeError\u001b[0m: float() argument must be a string or a real number, not 'Timedelta'"
     ]
    }
   ],
   "source": [
    "\n",
    "import pandas as pd\n",
    "from sklearn.model_selection import train_test_split\n",
    "from sklearn.preprocessing import StandardScaler\n",
    "from sklearn.svm import SVC\n",
    "from sklearn.metrics import classification_report, confusion_matrix\n",
    "\n",
    "# Supponendo che concat sia il DataFrame con i dati aggregati\n",
    "# Separare le caratteristiche e le etichette\n",
    "X = concat.drop(['label', 'capture_id'], axis=1)\n",
    "y = concat['label']\n",
    "\n",
    "# Verifica delle dimensioni\n",
    "print(\"Dimensioni di X:\", X.shape)\n",
    "print(\"Dimensioni di y:\", y.shape)\n",
    "\n",
    "# Suddividere i dati in set di addestramento e test\n",
    "X_train, X_test, y_train, y_test = train_test_split(X, y, test_size=0.30, random_state=42, stratify=y)\n",
    "\n",
    "# Normalizzare le caratteristiche\n",
    "scaler = StandardScaler()\n",
    "X_train = scaler.fit_transform(X_train)\n",
    "X_test = scaler.transform(X_test)\n",
    "\n",
    "# Creare e addestrare il modello SVM\n",
    "svm_model = SVC(kernel='rbf', C=10.0, gamma='scale')\n",
    "svm_model.fit(X_train, y_train)\n",
    "\n",
    "# Fare previsioni\n",
    "y_pred = svm_model.predict(X_test)\n",
    "\n",
    "# Stampa dei risultati\n",
    "for i in range(len(y_test)):\n",
    "    print(f\"Elemento {i + 1}:\")\n",
    "    print(f\"  Caratteristiche: {X_test[i]}\")\n",
    "    print(f\"  Classe prevista: {y_pred[i]}\")\n",
    "    print(f\"  Classe effettiva: {y_test.values[i]}\\n\")\n",
    "\n",
    "# Stampa della Confusion Matrix\n",
    "print(\"Confusion Matrix:\")\n",
    "print(confusion_matrix(y_test, y_pred))\n",
    "\n",
    "# Stampa del Classification Report\n",
    "print(\"\\nClassification Report:\")\n",
    "print(classification_report(y_test, y_pred))\n"
   ]
  }
 ],
 "metadata": {
  "kernelspec": {
   "display_name": ".venv",
   "language": "python",
   "name": "python3"
  },
  "language_info": {
   "codemirror_mode": {
    "name": "ipython",
    "version": 3
   },
   "file_extension": ".py",
   "mimetype": "text/x-python",
   "name": "python",
   "nbconvert_exporter": "python",
   "pygments_lexer": "ipython3",
   "version": "3.12.5"
  }
 },
 "nbformat": 4,
 "nbformat_minor": 5
}
