{
 "cells": [
  {
   "cell_type": "markdown",
   "id": "e67c5a0c",
   "metadata": {},
   "source": [
    "# Manutenzione preventiva - "
   ]
  },
  {
   "cell_type": "markdown",
   "id": "93ff88e4",
   "metadata": {},
   "source": [
    "# Manutenzione preventiva - DoS Attacks"
   ]
  },
  {
   "cell_type": "code",
   "execution_count": 3,
   "id": "1adaf332-86d4-433f-ac6e-df096b1099c2",
   "metadata": {},
   "outputs": [],
   "source": [
    "import pandas as pd\n",
    "import json as json\n",
    "import ipaddress as ip \n",
    "import numpy as np"
   ]
  },
  {
   "cell_type": "code",
   "execution_count": 78,
   "id": "04f4814f-1092-4c2d-8dde-1b7818740e9b",
   "metadata": {},
   "outputs": [],
   "source": [
    "clean_cap_30m = open('.\\\\captures\\\\captures1_v2\\\\clean\\\\eth2dump-clean-0,5h_1.json')\n",
    "data_cc_30m = json.load(clean_cap_30m)\n",
    "clean_cap_30m.close()"
   ]
  },
  {
   "cell_type": "code",
   "execution_count": 88,
   "id": "65f22c92",
   "metadata": {},
   "outputs": [],
   "source": [
    "interesting_layers = [\"eth\", \"arp\", \"icmp\", \"ip\", \"tcp\", \"udp\", \"mbtcp\"]\n",
    "timestamp_field_name = 'frame.time_epoch'\n",
    "ipat_field_name = 'inter.packet_arrival_time'\n",
    "eth_fields = ['eth.dst', 'eth.src', 'eth.type', 'eth.len']\n",
    "arp_fields = ['arp.hw.type', 'arp.proto.type', 'arp.hw.size', 'arp.proto.size']\n",
    "icmp_fields = ['icmp.type', 'icmp.code', 'icmp.checksum', 'icmp.checksum.status']\n",
    "ip_fields = ['ip.version', 'ip.hdr_len', 'ip.dsfield','ip.len', 'ip.id', 'ip.flags', 'ip.ttl', 'ip.proto', 'ip.checksum', 'ip.checksum.status', 'ip.src', 'ip.dst']\n",
    "tcp_fields = ['tcp.srcport', 'tcp.dstport', 'tcp.stream', 'tcp.len', 'tcp.seq', 'tcp.nxtseq', 'tcp.ack',\n",
    "              'tcp.hdr_len', 'tcp.flags', 'tcp.window_size_value', 'tcp.window_size', 'tcp.window_size_scalefactor', 'tcp.checksum',\n",
    "              'tcp.checksum.status', 'tcp.urgent_pointer']\n",
    "udp_fields = ['udp.srcport', 'udp.dstport', 'udp.port', 'udp.length', 'udp.checksum', 'udp.checksum_status']\n",
    "mbtcp_fields = ['mbtcp.trans_id', 'mbtcp.prot_id', 'mbtcp.len', 'mbtcp.unit_id']\n",
    "interesting_layer_fields = [eth_fields, arp_fields, icmp_fields, ip_fields, tcp_fields, udp_fields, mbtcp_fields]\n",
    "df_columns = [timestamp_field_name] + eth_fields + arp_fields + icmp_fields + ip_fields + tcp_fields + udp_fields + mbtcp_fields\n",
    "packets_values = []"
   ]
  },
  {
   "cell_type": "code",
   "execution_count": 90,
   "id": "44fe3a0b",
   "metadata": {},
   "outputs": [
    {
     "name": "stdout",
     "output_type": "stream",
     "text": [
      "50\n",
      "144300\n"
     ]
    }
   ],
   "source": [
    "counter = 0\n",
    "for packet in data_cc_30m:\n",
    "    tmp_pkt = []\n",
    "\n",
    "    tmp_pkt.append(packet['_source']['layers']['frame']['frame.time_epoch'])\n",
    "    \n",
    "    for i in range(len(interesting_layers)):\n",
    "        if interesting_layers[i] in packet['_source']['layers']:\n",
    "            for field in interesting_layer_fields[i]:\n",
    "                if field in packet['_source']['layers'][interesting_layers[i]]:\n",
    "                    tmp_pkt.append(packet['_source']['layers'][interesting_layers[i]][field])\n",
    "                else:\n",
    "                    tmp_pkt.append(np.nan)\n",
    "        else:\n",
    "            for field in interesting_layer_fields[i]:\n",
    "                tmp_pkt.append(np.nan)\n",
    "    packets_values.append(tmp_pkt)\n",
    "\n",
    "print(len(packets_values[1]))\n",
    "print(len(packets_values))\n",
    "      "
   ]
  },
  {
   "cell_type": "code",
   "execution_count": 91,
   "id": "d88602a9",
   "metadata": {},
   "outputs": [
    {
     "data": {
      "text/plain": [
       "Index(['frame.time_epoch', 'eth.dst', 'eth.src', 'eth.type', 'eth.len',\n",
       "       'arp.hw.type', 'arp.proto.type', 'arp.hw.size', 'arp.proto.size',\n",
       "       'icmp.type', 'icmp.code', 'icmp.checksum', 'icmp.checksum.status',\n",
       "       'ip.version', 'ip.hdr_len', 'ip.dsfield', 'ip.len', 'ip.id', 'ip.flags',\n",
       "       'ip.ttl', 'ip.proto', 'ip.checksum', 'ip.checksum.status', 'ip.src',\n",
       "       'ip.dst', 'tcp.srcport', 'tcp.dstport', 'tcp.stream', 'tcp.len',\n",
       "       'tcp.seq', 'tcp.nxtseq', 'tcp.ack', 'tcp.hdr_len', 'tcp.flags',\n",
       "       'tcp.window_size_value', 'tcp.window_size',\n",
       "       'tcp.window_size_scalefactor', 'tcp.checksum', 'tcp.checksum.status',\n",
       "       'tcp.urgent_pointer', 'udp.srcport', 'udp.dstport', 'udp.port',\n",
       "       'udp.length', 'udp.checksum', 'udp.checksum_status', 'mbtcp.trans_id',\n",
       "       'mbtcp.prot_id', 'mbtcp.len', 'mbtcp.unit_id',\n",
       "       'inter.packet_arrival_time'],\n",
       "      dtype='object')"
      ]
     },
     "execution_count": 91,
     "metadata": {},
     "output_type": "execute_result"
    }
   ],
   "source": [
    "# Costruzione dataframe\n",
    "df_clean_30m = pd.DataFrame(data=packets_values, columns=df_columns)\n",
    "# Conversione colonna timestamp a float\n",
    "df_clean_30m['frame.time_epoch'] = df_clean_30m['frame.time_epoch'].astype('float')\n",
    "# Inserimento colonna inter packet arrival time\n",
    "df_clean_30m[ipat_field_name] = df_clean_30m['frame.time_epoch'].diff()\n",
    "\n",
    "df_clean_30m.columns"
   ]
  },
  {
   "cell_type": "code",
   "execution_count": 92,
   "id": "781860b0",
   "metadata": {},
   "outputs": [
    {
     "name": "stdout",
     "output_type": "stream",
     "text": [
      "144300\n",
      "8         59926\n",
      "95           68\n",
      "178       59926\n",
      "183          68\n",
      "462          68\n",
      "          ...  \n",
      "143551    59926\n",
      "143759       68\n",
      "143977       68\n",
      "144123       68\n",
      "144293    59926\n",
      "Name: udp.srcport, Length: 1522, dtype: object\n",
      "1522\n"
     ]
    }
   ],
   "source": [
    "'''df1=df_clean_30m.filter(like='udp', axis=1)\n",
    "print(len(df1))\n",
    "\n",
    "df_clean = df1.dropna(subset=['udp.srcport'])\n",
    "\n",
    "print(df_clean['udp.srcport'])\n",
    "print(len(df_clean['udp.srcport']))'''\n",
    "\n"
   ]
  },
  {
   "cell_type": "code",
   "execution_count": 93,
   "id": "a5a038ca",
   "metadata": {},
   "outputs": [
    {
     "name": "stderr",
     "output_type": "stream",
     "text": [
      "C:\\Users\\User\\AppData\\Local\\Temp\\ipykernel_12680\\4189383700.py:20: FutureWarning: A value is trying to be set on a copy of a DataFrame or Series through chained assignment using an inplace method.\n",
      "The behavior will change in pandas 3.0. This inplace method will never work because the intermediate object on which we are setting values always behaves as a copy.\n",
      "\n",
      "For example, when doing 'df[col].method(value, inplace=True)', try using 'df.method({col: value}, inplace=True)' or df[col] = df[col].method(value) instead, to perform the operation inplace on the original object.\n",
      "\n",
      "\n",
      "  df_clean_30m['ip.src'].replace({np.nan: '169.254.0.0'}, inplace=True)\n",
      "C:\\Users\\User\\AppData\\Local\\Temp\\ipykernel_12680\\4189383700.py:21: FutureWarning: A value is trying to be set on a copy of a DataFrame or Series through chained assignment using an inplace method.\n",
      "The behavior will change in pandas 3.0. This inplace method will never work because the intermediate object on which we are setting values always behaves as a copy.\n",
      "\n",
      "For example, when doing 'df[col].method(value, inplace=True)', try using 'df.method({col: value}, inplace=True)' or df[col] = df[col].method(value) instead, to perform the operation inplace on the original object.\n",
      "\n",
      "\n",
      "  df_clean_30m['ip.dst'].replace({np.nan: '169.254.0.0'}, inplace=True)\n",
      "C:\\Users\\User\\AppData\\Local\\Temp\\ipykernel_12680\\4189383700.py:38: FutureWarning: A value is trying to be set on a copy of a DataFrame or Series through chained assignment using an inplace method.\n",
      "The behavior will change in pandas 3.0. This inplace method will never work because the intermediate object on which we are setting values always behaves as a copy.\n",
      "\n",
      "For example, when doing 'df[col].method(value, inplace=True)', try using 'df.method({col: value}, inplace=True)' or df[col] = df[col].method(value) instead, to perform the operation inplace on the original object.\n",
      "\n",
      "\n",
      "  df_clean_30m['ip.ttl'].fillna(0, inplace=True)\n",
      "C:\\Users\\User\\AppData\\Local\\Temp\\ipykernel_12680\\4189383700.py:42: FutureWarning: A value is trying to be set on a copy of a DataFrame or Series through chained assignment using an inplace method.\n",
      "The behavior will change in pandas 3.0. This inplace method will never work because the intermediate object on which we are setting values always behaves as a copy.\n",
      "\n",
      "For example, when doing 'df[col].method(value, inplace=True)', try using 'df.method({col: value}, inplace=True)' or df[col] = df[col].method(value) instead, to perform the operation inplace on the original object.\n",
      "\n",
      "\n",
      "  df_clean_30m['ip.proto'].fillna(0, inplace=True)\n",
      "C:\\Users\\User\\AppData\\Local\\Temp\\ipykernel_12680\\4189383700.py:50: FutureWarning: A value is trying to be set on a copy of a DataFrame or Series through chained assignment using an inplace method.\n",
      "The behavior will change in pandas 3.0. This inplace method will never work because the intermediate object on which we are setting values always behaves as a copy.\n",
      "\n",
      "For example, when doing 'df[col].method(value, inplace=True)', try using 'df.method({col: value}, inplace=True)' or df[col] = df[col].method(value) instead, to perform the operation inplace on the original object.\n",
      "\n",
      "\n",
      "  df_clean_30m['tcp.srcport'].replace({np.nan: '0'}, inplace=True)\n",
      "C:\\Users\\User\\AppData\\Local\\Temp\\ipykernel_12680\\4189383700.py:51: FutureWarning: A value is trying to be set on a copy of a DataFrame or Series through chained assignment using an inplace method.\n",
      "The behavior will change in pandas 3.0. This inplace method will never work because the intermediate object on which we are setting values always behaves as a copy.\n",
      "\n",
      "For example, when doing 'df[col].method(value, inplace=True)', try using 'df.method({col: value}, inplace=True)' or df[col] = df[col].method(value) instead, to perform the operation inplace on the original object.\n",
      "\n",
      "\n",
      "  df_clean_30m['tcp.dstport'].replace({np.nan: '0'}, inplace=True)\n"
     ]
    }
   ],
   "source": [
    "# Conversione del MAC Address da esadecimale a decimale\n",
    "# flags_ tutti nulli//\n",
    "# ip.checksum_status tutti nulli//\n",
    "# arp tutti null//\n",
    "# icmp tutti nulli (da verificare)//\n",
    "# tcp.checksum_status tutti null\n",
    "# eliminare le colonne che non servono piu alla fine e inserire i campi binari e vedere il numero di feature\n",
    "df_clean_30m['eth.dst_cleaned'] = df_clean_30m['eth.dst'].str.replace(\":\", \"\", regex=False)\n",
    "df_clean_30m['eth.dst_int'] = df_clean_30m['eth.dst_cleaned'].apply(lambda x : int(x, 16))\n",
    "df_clean_30m['eth.src_cleaned'] = df_clean_30m['eth.src'].str.replace(\":\", \"\", regex=False)\n",
    "df_clean_30m['eth.src_int'] = df_clean_30m['eth.src_cleaned'].apply(lambda x : int(x, 16))\n",
    "df_clean_30m['eth.type'] = df_clean_30m['eth.type'].apply(\n",
    "    lambda x: int(x, 16) if pd.notnull(x) and isinstance(x, str) else np.nan\n",
    ")\n",
    "df_clean_30m['eth.len'] = df_clean_30m['eth.len'].astype(float)\n",
    "df_clean_30m.drop(['eth.dst_cleaned', 'eth.dst', 'eth.src_cleaned', 'eth.src'], axis=1)\n",
    "\n",
    "df_clean_30m['ip.version'] = df_clean_30m['ip.version'].astype(float)\n",
    "df_clean_30m['ip.hdr_len'] = df_clean_30m['ip.hdr_len'].astype(float)\n",
    "df_clean_30m['ip.src'].replace({np.nan: '169.254.0.0'}, inplace=True)\n",
    "df_clean_30m['ip.dst'].replace({np.nan: '169.254.0.0'}, inplace=True)\n",
    "df_clean_30m['ip.src'] = df_clean_30m['ip.src'].apply(lambda x : int(ip.IPv4Address(x)))\n",
    "df_clean_30m['ip.dst'] = df_clean_30m['ip.dst'].apply(lambda x : int(ip.IPv4Address(x)))\n",
    "df_clean_30m['ip.dsfield'] = df_clean_30m['ip.dsfield'].apply(\n",
    "    lambda x: int(x, 16) if pd.notnull(x) and isinstance(x, str) else np.nan\n",
    ")\n",
    "'''df_clean_30m['ip.dsfield_dscp'] = df_clean_30m['ip.dsfield_dscp'].astype(float)\n",
    "df_clean_30m['ip.dsfield_ecn'] = df_clean_30m['ip.dsfield_ecn'].astype(float)'''\n",
    "df_clean_30m['ip.len'] = pd.to_numeric(df_clean_30m['ip.len'], errors='coerce').astype('Int64')\n",
    "df_clean_30m['ip.id'] = df_clean_30m['ip.id'].apply(\n",
    "    lambda x: int(x, 16) if pd.notnull(x) and isinstance(x, str) and len(x.strip()) > 0 else np.nan\n",
    ")\n",
    "\n",
    "df_clean_30m['ip.flags'] = df_clean_30m['ip.flags'].apply(\n",
    "    lambda x: int(x, 16) if pd.notnull(x) and isinstance(x, str) and len(x.strip()) > 0 else np.nan\n",
    ")\n",
    "'''df_clean_30m['ip.frag_offset'] = df_clean_30m['ip.frag_offset'].astype(float)'''\n",
    "df_clean_30m['ip.ttl'].fillna(0, inplace=True)\n",
    "\n",
    "# Convertire in intero\n",
    "df_clean_30m['ip.ttl'] = df_clean_30m['ip.ttl'].astype(int)\n",
    "df_clean_30m['ip.proto'].fillna(0, inplace=True)\n",
    "\n",
    "# Ora puoi convertire la colonna 'ip.proto' in intero\n",
    "df_clean_30m['ip.proto'] = df_clean_30m['ip.proto'].astype(int)\n",
    "df_clean_30m['ip.checksum'] = df_clean_30m['ip.checksum'].apply(\n",
    "    lambda x: int(x, 16) if pd.notnull(x) and isinstance(x, str) and len(x.strip()) > 0 else np.nan\n",
    ")\n",
    "df_clean_30m.loc[df_clean_30m['tcp.srcport'] == '0']\n",
    "df_clean_30m['tcp.srcport'].replace({np.nan: '0'}, inplace=True)\n",
    "df_clean_30m['tcp.dstport'].replace({np.nan: '0'}, inplace=True)\n",
    "df_clean_30m['tcp.srcport'] = df_clean_30m['tcp.srcport'].apply(lambda x : int(x))\n",
    "df_clean_30m['tcp.dstport'] = df_clean_30m['tcp.dstport'].apply(lambda x : int(x))\n",
    "df_clean_30m['tcp.stream'] = df_clean_30m['tcp.stream'].astype(float)\n",
    "df_clean_30m['tcp.len'] = df_clean_30m['tcp.len'].astype(float)\n",
    "df_clean_30m['tcp.seq'] = df_clean_30m['tcp.seq'].astype(float)\n",
    "df_clean_30m['tcp.nxtseq'] = df_clean_30m['tcp.nxtseq'].astype(float)\n",
    "df_clean_30m['tcp.ack'] = df_clean_30m['tcp.ack'].astype(float)\n",
    "df_clean_30m['tcp.hdr_len'] = df_clean_30m['tcp.hdr_len'].astype(float)\n",
    "df_clean_30m['tcp.window_size_value'] = df_clean_30m['tcp.window_size_value'].astype(float)\n",
    "df_clean_30m['tcp.window_size'] = df_clean_30m['tcp.window_size'].astype(float)\n",
    "df_clean_30m['tcp.window_size_scalefactor'] = df_clean_30m['tcp.window_size_scalefactor'].astype(float)\n",
    "df_clean_30m['tcp.urgent_pointer'] = df_clean_30m['tcp.urgent_pointer'].astype(float)\n",
    "df_clean_30m['tcp.flags'] = df_clean_30m['tcp.flags'].apply(\n",
    "    lambda x: int(x, 16) if pd.notnull(x) and isinstance(x, str) and len(x.strip()) > 0 else np.nan\n",
    ")\n",
    "\n",
    "# Stesso approccio per 'tcp.checksum'\n",
    "df_clean_30m['tcp.checksum'] = df_clean_30m['tcp.checksum'].apply(\n",
    "    lambda x: int(x, 16) if pd.notnull(x) and isinstance(x, str) and len(x.strip()) > 0 else np.nan\n",
    ")\n",
    "\n",
    "\n",
    "df_clean_30m['mbtcp.trans_id'] = df_clean_30m['mbtcp.trans_id'].astype(float)\n",
    "df_clean_30m['mbtcp.prot_id'] = df_clean_30m['mbtcp.prot_id'].astype(float)\n",
    "df_clean_30m['mbtcp.len'] = df_clean_30m['mbtcp.len'].astype(float)\n",
    "df_clean_30m['mbtcp.unit_id'] = df_clean_30m['mbtcp.unit_id'].astype(float)\n",
    "\n",
    "\n",
    "\n",
    "\n",
    "\n"
   ]
  },
  {
   "cell_type": "code",
   "execution_count": null,
   "id": "1847790d",
   "metadata": {},
   "outputs": [],
   "source": []
  }
 ],
 "metadata": {
  "kernelspec": {
   "display_name": ".venv",
   "language": "python",
   "name": "python3"
  },
  "language_info": {
   "codemirror_mode": {
    "name": "ipython",
    "version": 3
   },
   "file_extension": ".py",
   "mimetype": "text/x-python",
   "name": "python",
   "nbconvert_exporter": "python",
   "pygments_lexer": "ipython3",
   "version": "3.12.5"
  }
 },
 "nbformat": 4,
 "nbformat_minor": 5
}
