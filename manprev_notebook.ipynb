{
 "cells": [
  {
   "cell_type": "markdown",
   "id": "93ff88e4",
   "metadata": {},
   "source": [
    "# Manutenzione preventiva - DoS Attacks"
   ]
  },
  {
   "cell_type": "code",
   "execution_count": 1,
   "id": "1adaf332-86d4-433f-ac6e-df096b1099c2",
   "metadata": {},
   "outputs": [],
   "source": [
    "import pandas as pd\n",
    "import json as json\n",
    "import ipaddress as ip \n",
    "import numpy as np\n",
    "import warnings\n",
    "import functions_notebook_new as fn\n",
    "from datetime import timedelta\n",
    "\n",
    "\n",
    "\n",
    "warnings.simplefilter(action='ignore', category=FutureWarning)"
   ]
  },
  {
   "cell_type": "code",
   "execution_count": 2,
   "id": "3439d92c",
   "metadata": {},
   "outputs": [],
   "source": [
    "### costanti\n",
    "# clean captures\n",
    "clean_capture = 'captures\\\\captures1_v2\\\\clean\\\\eth2dump-clean-0,5h_1.json'\n",
    "\n",
    "# ping flooding captures 1 min\n",
    "pf_capture_1 = 'captures\\\\captures1_v2\\\\pingFloodDDoS\\\\eth2dump-pingFloodDDoS15m-0,5h_1.json'\n",
    "\n",
    "levels_of_interest = ['frame', 'eth', 'tcp', 'arp', 'udp', 'modbus', 'icmp', 'ip']\n",
    "\n",
    "### variabili"
   ]
  },
  {
   "cell_type": "code",
   "execution_count": 3,
   "id": "e45e8db7",
   "metadata": {},
   "outputs": [],
   "source": [
    "### estrazione dati\n",
    "# packets clean capture\n",
    "packets_cc = fn.load_packets_from_file(clean_capture)\n",
    "\n",
    "# packets attack captures (es. packets ping flooding attack 1m per cattura di 0.5 = pkt_pf_1m_05h)\n",
    "pkt_pf_1m_05h = fn.load_packets_from_file(pf_capture_1)"
   ]
  },
  {
   "cell_type": "code",
   "execution_count": 4,
   "id": "ab1e451d",
   "metadata": {},
   "outputs": [],
   "source": [
    "### features\n",
    "# clean features\n",
    "features_cc = fn.extract_features_from_packets(packets_cc, levels_of_interest)\n",
    "\n",
    "# ping flooding attack features\n",
    "features_pf_1m_05h = fn.extract_features_from_packets(pkt_pf_1m_05h, levels_of_interest)"
   ]
  },
  {
   "cell_type": "code",
   "execution_count": 5,
   "id": "9c50ce27",
   "metadata": {},
   "outputs": [],
   "source": [
    "df_cc = pd.DataFrame(features_cc)\n",
    "df = pd.DataFrame(features_pf_1m_05h)"
   ]
  },
  {
   "cell_type": "code",
   "execution_count": 6,
   "id": "abb1c4ac",
   "metadata": {},
   "outputs": [],
   "source": [
    "features_cc.clear()\n",
    "features_pf_1m_05h.clear()"
   ]
  },
  {
   "cell_type": "code",
   "execution_count": 7,
   "id": "b0d40e49",
   "metadata": {},
   "outputs": [],
   "source": [
    "fn.calcolo_features_binarie(df_cc)\n",
    "fn.calcolo_features_binarie(df)"
   ]
  },
  {
   "cell_type": "code",
   "execution_count": 8,
   "id": "9ae382cf",
   "metadata": {},
   "outputs": [],
   "source": [
    "df_cc['frame.frame.time_utc'] = pd.to_datetime(df_cc['frame.frame.time_utc'])\n",
    "df['frame.frame.time_utc'] = pd.to_datetime(df['frame.frame.time_utc'])"
   ]
  },
  {
   "cell_type": "code",
   "execution_count": null,
   "id": "97e333bf",
   "metadata": {},
   "outputs": [],
   "source": [
    "df_cc.sort_values(by='frame.frame.time_utc')\n",
    "df.sort_values(by='frame.frame.time_utc')"
   ]
  },
  {
   "cell_type": "code",
   "execution_count": null,
   "id": "2ae0d90b",
   "metadata": {},
   "outputs": [],
   "source": [
    "start_time = df['frame.frame.time_utc'].iloc[0]\n",
    "end_time=start_time+timedelta(seconds=298.8)\n",
    "end_time2 = end_time + timedelta(seconds=900)\n",
    "end_time"
   ]
  },
  {
   "cell_type": "code",
   "execution_count": null,
   "id": "dfa8804e",
   "metadata": {},
   "outputs": [],
   "source": [
    "df_cc1 = df[(df['frame.frame.time_utc'] >= start_time) & (df['frame.frame.time_utc'] < end_time)].copy()\n",
    "df_attack = df[(df['frame.frame.time_utc'] >= end_time) & (df['frame.frame.time_utc'] <= end_time2)].copy()\n",
    "df_cc2 = df[(df['frame.frame.time_utc'] > end_time2)].copy()\n",
    "df_c_full = pd.concat([df_cc, pd.concat([df_cc1, df_cc2])])\n",
    "df_attack"
   ]
  },
  {
   "cell_type": "code",
   "execution_count": null,
   "id": "d11de4c1",
   "metadata": {},
   "outputs": [],
   "source": [
    "df_c_full['frame.frame.time_utc'] = pd.to_datetime(df_c_full['frame.frame.time_utc'], unit='s')\n",
    "\n",
    "df_c_full['time_bin'] = pd.cut(df_c_full['frame.frame.time_utc'], pd.date_range(start=df_c_full['frame.frame.time_utc'].min(), \n",
    "                                                       end=df_c_full['frame.frame.time_utc'].max() + pd.Timedelta(seconds=5), \n",
    "                                                       freq='5S'))\n",
    "\n",
    "df_features = df_c_full.groupby('time_bin').agg({\n",
    "    #'dimensione_pacchetto': ['count', 'mean', 'sum', 'std'],  # Numero pacchetti, media, somma, deviazione std\n",
    "    'ip.ip.src': 'nunique',  # Numero di IP unici per intervallo di tempo\n",
    "    #'protocollo': 'nunique'  # Numero di protocolli unici per intervallo di tempo\n",
    "}).reset_index()\n",
    "\n",
    "df_features['time_bin']"
   ]
  }
 ],
 "metadata": {
  "kernelspec": {
   "display_name": ".venv",
   "language": "python",
   "name": "python3"
  },
  "language_info": {
   "codemirror_mode": {
    "name": "ipython",
    "version": 3
   },
   "file_extension": ".py",
   "mimetype": "text/x-python",
   "name": "python",
   "nbconvert_exporter": "python",
   "pygments_lexer": "ipython3",
   "version": "3.12.4"
  }
 },
 "nbformat": 4,
 "nbformat_minor": 5
}
